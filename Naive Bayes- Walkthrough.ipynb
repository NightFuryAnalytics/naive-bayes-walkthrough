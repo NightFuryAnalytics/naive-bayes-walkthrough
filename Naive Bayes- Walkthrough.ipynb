{
 "cells": [
  {
   "cell_type": "markdown",
   "metadata": {},
   "source": [
    "# Naive Bayes\n",
    "\n",
    "### Introduction\n",
    "\n",
    "In this notebook, I will be implementing two types of Naive Bayes model based on the dataset features and task requirements.\n",
    "\n",
    "For reference and additional details, please go through [Chapter 4](https://web.stanford.edu/~jurafsky/slp3/) of the SLP3 book.\n",
    "\n",
    "In this assignment, I have two datasets. One is suitable for **Multinomial Naive Bayes**, while the other is appropriate for **Bernoulli Naive Bayes**. My task is to:\n",
    "1. Analyze both datasets and determine which Naive Bayes model to apply based on the dataset’s characteristics.\n",
    "2. Implement both **Multinomial** and **Bernoulli Naive Bayes** from scratch, adhering to the guidelines below regarding allowed libraries.\n",
    "3. Finally, apply the corresponding models using the `sklearn` library and compare the results with my implementation.\n",
    "\n",
    "### Guidelines:\n",
    "- Using only **numpy** and **pandas** for the manual implementation of Naive Bayes classifiers. No other libraries should be used for this part.\n",
    "- For the final part of the assignment, I will use **sklearn** to compare my implementation results."
   ]
  },
  {
   "cell_type": "markdown",
   "metadata": {},
   "source": [
    "All necessary libraries for this assignment have already been added. We do not need to install any additional libraries."
   ]
  },
  {
   "cell_type": "code",
   "execution_count": 24,
   "metadata": {},
   "outputs": [],
   "source": [
    "# !pip install datasets\n",
    "# !pip install nltk"
   ]
  },
  {
   "cell_type": "code",
   "execution_count": 1,
   "metadata": {},
   "outputs": [
    {
     "name": "stderr",
     "output_type": "stream",
     "text": [
      "[nltk_data] Downloading package punkt to\n",
      "[nltk_data]     C:\\Users\\hp\\AppData\\Roaming\\nltk_data...\n",
      "[nltk_data]   Package punkt is already up-to-date!\n"
     ]
    },
    {
     "data": {
      "text/plain": [
       "True"
      ]
     },
     "execution_count": 1,
     "metadata": {},
     "output_type": "execute_result"
    }
   ],
   "source": [
    "# Standard library imports\n",
    "import numpy as np\n",
    "import regex as re\n",
    "\n",
    "# Third-party library imports\n",
    "import pandas as pd\n",
    "from sklearn.preprocessing import LabelBinarizer\n",
    "from sklearn.model_selection import train_test_split\n",
    "from sklearn.metrics import accuracy_score,precision_score,recall_score,f1_score,confusion_matrix\n",
    "import nltk\n",
    "from datasets import load_dataset\n",
    "\n",
    "# NLTK-specific download\n",
    "nltk.download(\"punkt\")"
   ]
  },
  {
   "cell_type": "markdown",
   "metadata": {},
   "source": [
    "## 1. Loading the Datasets\n",
    "\n",
    "We are provided with two datasets:\n",
    "\n",
    "- **Dataset 1**: Golf Dataset (available in CSV format in the given Repo)\n",
    "- **Dataset 2**: Tweet Evaluation Dataset (to be loaded from Hugging Face)\n",
    "\n",
    "### Instructions:\n",
    "\n",
    "1. **Golf Dataset**: We can find the CSV file of the Golf Dataset in the resources provided in the Repo. This dataset aims to explore factors that influence the decision to play golf, which could be valuable for predictive modeling tasks. ​​\n",
    "\n",
    "2. **Tweet Evaluation Dataset**: Instead of downloading the dataset manually, we will be using the [`datasets`](https://huggingface.co/docs/datasets) library from Hugging Face to automatically download and manage the Tweet Eval dataset. This library is part of the Hugging Face ecosystem, widely used for Natural Language Processing (NLP) tasks. The `datasets` library not only downloads the dataset but also offers a standardized interface for accessing and handling the data, making it compatible with other popular libraries like Pandas and PyTorch. Format each split of the dataset into a Pandas DataFrame. The columns should be `text` and `label`, where `text` is the sentence and `label` is the emotion label. The goal is to classify tweets into various emotional categories (e.g., joy, sadness, anger) by analyzing their content.\n",
    "\n",
    "   We can explore the extensive list of datasets available on Hugging Face [here](https://huggingface.co/datasets).\n",
    "\n",
    "### Why Use Hugging Face?\n",
    "\n",
    "Familiarizing Yourself with Hugging Face tools now will be beneficial for future projects and NLP-related tasks. It simplifies data handling and ensures smooth integration with machine learning workflows.\n",
    "\n",
    "### Task:\n",
    "\n",
    "- Explore both datasets and identify their key features. This will help us determine which dataset is best suited for **Multinomial Naive Bayes** and which is better suited for **Bernoulli Naive Bayes**. You can read more about Bernoulli Naive Bayes [here](https://medium.com/@gridflowai/part-2-dive-into-bernoulli-naive-bayes-d0cbcbabb775).\n"
   ]
  },
  {
   "cell_type": "code",
   "execution_count": null,
   "metadata": {},
   "outputs": [
    {
     "data": {
      "text/html": [
       "<div>\n",
       "<style scoped>\n",
       "    .dataframe tbody tr th:only-of-type {\n",
       "        vertical-align: middle;\n",
       "    }\n",
       "\n",
       "    .dataframe tbody tr th {\n",
       "        vertical-align: top;\n",
       "    }\n",
       "\n",
       "    .dataframe thead th {\n",
       "        text-align: right;\n",
       "    }\n",
       "</style>\n",
       "<table border=\"1\" class=\"dataframe\">\n",
       "  <thead>\n",
       "    <tr style=\"text-align: right;\">\n",
       "      <th></th>\n",
       "      <th>Holiday</th>\n",
       "      <th>Month</th>\n",
       "      <th>Season</th>\n",
       "      <th>Temperature</th>\n",
       "      <th>Humidity</th>\n",
       "      <th>Windy</th>\n",
       "      <th>Outlook</th>\n",
       "      <th>Crowdedness</th>\n",
       "      <th>Play</th>\n",
       "    </tr>\n",
       "  </thead>\n",
       "  <tbody>\n",
       "    <tr>\n",
       "      <th>0</th>\n",
       "      <td>1</td>\n",
       "      <td>Winter</td>\n",
       "      <td>Winter</td>\n",
       "      <td>low</td>\n",
       "      <td>low</td>\n",
       "      <td>1</td>\n",
       "      <td>sunny</td>\n",
       "      <td>high</td>\n",
       "      <td>1</td>\n",
       "    </tr>\n",
       "    <tr>\n",
       "      <th>1</th>\n",
       "      <td>1</td>\n",
       "      <td>Winter</td>\n",
       "      <td>Winter</td>\n",
       "      <td>low</td>\n",
       "      <td>low</td>\n",
       "      <td>1</td>\n",
       "      <td>sunny</td>\n",
       "      <td>high</td>\n",
       "      <td>0</td>\n",
       "    </tr>\n",
       "    <tr>\n",
       "      <th>2</th>\n",
       "      <td>1</td>\n",
       "      <td>Winter</td>\n",
       "      <td>Winter</td>\n",
       "      <td>low</td>\n",
       "      <td>low</td>\n",
       "      <td>1</td>\n",
       "      <td>sunny</td>\n",
       "      <td>high</td>\n",
       "      <td>0</td>\n",
       "    </tr>\n",
       "    <tr>\n",
       "      <th>3</th>\n",
       "      <td>1</td>\n",
       "      <td>Winter</td>\n",
       "      <td>Winter</td>\n",
       "      <td>low</td>\n",
       "      <td>low</td>\n",
       "      <td>1</td>\n",
       "      <td>sunny</td>\n",
       "      <td>high</td>\n",
       "      <td>1</td>\n",
       "    </tr>\n",
       "    <tr>\n",
       "      <th>4</th>\n",
       "      <td>1</td>\n",
       "      <td>Winter</td>\n",
       "      <td>Winter</td>\n",
       "      <td>low</td>\n",
       "      <td>low</td>\n",
       "      <td>1</td>\n",
       "      <td>sunny</td>\n",
       "      <td>high</td>\n",
       "      <td>1</td>\n",
       "    </tr>\n",
       "  </tbody>\n",
       "</table>\n",
       "</div>"
      ],
      "text/plain": [
       "   Holiday   Month  Season Temperature Humidity  Windy Outlook Crowdedness  \\\n",
       "0        1  Winter  Winter         low      low      1   sunny        high   \n",
       "1        1  Winter  Winter         low      low      1   sunny        high   \n",
       "2        1  Winter  Winter         low      low      1   sunny        high   \n",
       "3        1  Winter  Winter         low      low      1   sunny        high   \n",
       "4        1  Winter  Winter         low      low      1   sunny        high   \n",
       "\n",
       "   Play  \n",
       "0     1  \n",
       "1     0  \n",
       "2     0  \n",
       "3     1  \n",
       "4     1  "
      ]
     },
     "execution_count": 9,
     "metadata": {},
     "output_type": "execute_result"
    }
   ],
   "source": [
    "\n",
    "golf_data = pd.read_csv(\"golf_data.csv\")\n",
    "golf_data.head()\n"
   ]
  },
  {
   "cell_type": "code",
   "execution_count": 11,
   "metadata": {},
   "outputs": [
    {
     "data": {
      "text/html": [
       "<div>\n",
       "<style scoped>\n",
       "    .dataframe tbody tr th:only-of-type {\n",
       "        vertical-align: middle;\n",
       "    }\n",
       "\n",
       "    .dataframe tbody tr th {\n",
       "        vertical-align: top;\n",
       "    }\n",
       "\n",
       "    .dataframe thead th {\n",
       "        text-align: right;\n",
       "    }\n",
       "</style>\n",
       "<table border=\"1\" class=\"dataframe\">\n",
       "  <thead>\n",
       "    <tr style=\"text-align: right;\">\n",
       "      <th></th>\n",
       "      <th>Holiday</th>\n",
       "      <th>Month</th>\n",
       "      <th>Season</th>\n",
       "      <th>Temperature</th>\n",
       "      <th>Humidity</th>\n",
       "      <th>Windy</th>\n",
       "      <th>Outlook</th>\n",
       "      <th>Crowdedness</th>\n",
       "      <th>Play</th>\n",
       "    </tr>\n",
       "  </thead>\n",
       "  <tbody>\n",
       "    <tr>\n",
       "      <th>0</th>\n",
       "      <td>1</td>\n",
       "      <td>Winter</td>\n",
       "      <td>Winter</td>\n",
       "      <td>low</td>\n",
       "      <td>low</td>\n",
       "      <td>1</td>\n",
       "      <td>sunny</td>\n",
       "      <td>high</td>\n",
       "      <td>1</td>\n",
       "    </tr>\n",
       "    <tr>\n",
       "      <th>1</th>\n",
       "      <td>1</td>\n",
       "      <td>Winter</td>\n",
       "      <td>Winter</td>\n",
       "      <td>low</td>\n",
       "      <td>low</td>\n",
       "      <td>1</td>\n",
       "      <td>sunny</td>\n",
       "      <td>high</td>\n",
       "      <td>0</td>\n",
       "    </tr>\n",
       "    <tr>\n",
       "      <th>2</th>\n",
       "      <td>1</td>\n",
       "      <td>Winter</td>\n",
       "      <td>Winter</td>\n",
       "      <td>low</td>\n",
       "      <td>low</td>\n",
       "      <td>1</td>\n",
       "      <td>sunny</td>\n",
       "      <td>high</td>\n",
       "      <td>0</td>\n",
       "    </tr>\n",
       "    <tr>\n",
       "      <th>3</th>\n",
       "      <td>1</td>\n",
       "      <td>Winter</td>\n",
       "      <td>Winter</td>\n",
       "      <td>low</td>\n",
       "      <td>low</td>\n",
       "      <td>1</td>\n",
       "      <td>sunny</td>\n",
       "      <td>high</td>\n",
       "      <td>1</td>\n",
       "    </tr>\n",
       "    <tr>\n",
       "      <th>4</th>\n",
       "      <td>1</td>\n",
       "      <td>Winter</td>\n",
       "      <td>Winter</td>\n",
       "      <td>low</td>\n",
       "      <td>low</td>\n",
       "      <td>1</td>\n",
       "      <td>sunny</td>\n",
       "      <td>high</td>\n",
       "      <td>1</td>\n",
       "    </tr>\n",
       "  </tbody>\n",
       "</table>\n",
       "</div>"
      ],
      "text/plain": [
       "   Holiday   Month  Season Temperature Humidity  Windy Outlook Crowdedness  \\\n",
       "0        1  Winter  Winter         low      low      1   sunny        high   \n",
       "1        1  Winter  Winter         low      low      1   sunny        high   \n",
       "2        1  Winter  Winter         low      low      1   sunny        high   \n",
       "3        1  Winter  Winter         low      low      1   sunny        high   \n",
       "4        1  Winter  Winter         low      low      1   sunny        high   \n",
       "\n",
       "   Play  \n",
       "0     1  \n",
       "1     0  \n",
       "2     0  \n",
       "3     1  \n",
       "4     1  "
      ]
     },
     "execution_count": 11,
     "metadata": {},
     "output_type": "execute_result"
    }
   ],
   "source": [
    "golf_data.head()"
   ]
  },
  {
   "cell_type": "code",
   "execution_count": null,
   "metadata": {},
   "outputs": [],
   "source": [
    "tweet_data = load_dataset('tweet_eval', 'emotion', cache_dir=\"datasets\", verification_mode=\"no_checks\") # added the verification check after permission from two TAs as there was a mismatch error without this. This check simply ignores the verification of the split size.\n",
    "\n",
    "# tweet_data.head()"
   ]
  },
  {
   "cell_type": "markdown",
   "metadata": {},
   "source": [
    "##### Before proceeding with further tasks, ensure that you have determined which type of Naive Bayes is most suitable for each dataset."
   ]
  },
  {
   "cell_type": "markdown",
   "metadata": {},
   "source": [
    "## 2. Data Preprocessing"
   ]
  },
  {
   "cell_type": "markdown",
   "metadata": {},
   "source": [
    "### 2.1 Preprocessing the Golf Dataset"
   ]
  },
  {
   "cell_type": "markdown",
   "metadata": {},
   "source": [
    "In this task, We will apply one-hot encoding to the categorical columns of the Golf dataset and split the data into training and test sets. We can use `sklearn's` `train_test_split` which has been imported for us above. Ensure that the `test_size` parameter is set to 0.3."
   ]
  },
  {
   "cell_type": "code",
   "execution_count": null,
   "metadata": {},
   "outputs": [
    {
     "name": "stdout",
     "output_type": "stream",
     "text": [
      "      Holiday  Windy  Month_Winter  Season_Winter  Temperature_low  \\\n",
      "0           1      1             1              1                1   \n",
      "1           1      1             1              1                1   \n",
      "2           1      1             1              1                1   \n",
      "3           1      1             1              1                1   \n",
      "4           1      1             1              1                1   \n",
      "...       ...    ...           ...            ...              ...   \n",
      "7660        0      0             1              1                1   \n",
      "7661        0      0             1              1                1   \n",
      "7662        0      0             1              1                1   \n",
      "7663        0      0             1              1                1   \n",
      "7664        0      0             1              1                1   \n",
      "\n",
      "      Humidity_low  Outlook_sunny  Crowdedness_not high  \n",
      "0                1              1                     0  \n",
      "1                1              1                     0  \n",
      "2                1              1                     0  \n",
      "3                1              1                     0  \n",
      "4                1              1                     0  \n",
      "...            ...            ...                   ...  \n",
      "7660             1              0                     1  \n",
      "7661             1              0                     1  \n",
      "7662             1              0                     1  \n",
      "7663             1              0                     1  \n",
      "7664             1              0                     1  \n",
      "\n",
      "[7665 rows x 8 columns]\n",
      "0       1\n",
      "1       0\n",
      "2       0\n",
      "3       1\n",
      "4       1\n",
      "       ..\n",
      "7660    0\n",
      "7661    0\n",
      "7662    0\n",
      "7663    1\n",
      "7664    0\n",
      "Name: Play, Length: 7665, dtype: int64\n"
     ]
    }
   ],
   "source": [
    "\n",
    "X = golf_data.iloc[:,:-1]\n",
    "y = golf_data['Play']\n",
    "# one-hot encoding\n",
    "X_encoded = pd.get_dummies(X,drop_first=True)\n",
    "X_encoded=X_encoded.astype(\"int\")\n",
    "# X_encoded = X_encoded.astype(int)\n",
    "print(X_encoded)\n",
    "\n",
    "print(y)\n",
    "\n",
    "X_train, X_test, y_train, y_test = train_test_split(X_encoded, y, test_size=0.3, random_state=42)\n",
    "\n",
    "X_train = X_train.values\n",
    "X_test = X_test.values\n",
    "y_train = y_train.values\n",
    "y_test = y_test.values\n",
    "\n"
   ]
  },
  {
   "cell_type": "code",
   "execution_count": 17,
   "metadata": {},
   "outputs": [
    {
     "name": "stdout",
     "output_type": "stream",
     "text": [
      "X_train shape: (5365, 8)\n",
      "y_train shape: (5365,)\n",
      "X_test shape: (2300, 8)\n",
      "y_test shape: (2300,)\n"
     ]
    }
   ],
   "source": [
    "print(\"X_train shape:\", X_train.shape)\n",
    "print(\"y_train shape:\", y_train.shape)\n",
    "print(\"X_test shape:\", X_test.shape)\n",
    "print(\"y_test shape:\", y_test.shape)\n"
   ]
  },
  {
   "cell_type": "markdown",
   "metadata": {},
   "source": [
    "### 2.2 Preprocessing the Tweet Eval Dataset"
   ]
  },
  {
   "cell_type": "markdown",
   "metadata": {},
   "source": [
    "At this stage, we need to pre-process our data to ensure it's in a clean format for further analysis. The following steps should be performed:\n",
    "\n",
    "- Remove any URL.\n",
    "- Remove punctuation and non-alphanumeric characters.\n",
    "- Convert all text to lowercase.\n",
    "- Remove any extra whitespace.\n",
    "- Eliminate common stopwords.\n",
    "\n",
    "In the cell below, we'll implement a function that carries out these tasks. We can utilize the `re` library for cleaning text and the `nltk` library for removing stopwords.\n",
    "\n",
    "Once the function is complete, we'll apply it to the `text` column of our dataset to obtain the preprocessed text.\n"
   ]
  },
  {
   "cell_type": "code",
   "execution_count": null,
   "metadata": {},
   "outputs": [
    {
     "data": {
      "text/plain": [
       "DatasetDict({\n",
       "    train: Dataset({\n",
       "        features: ['text', 'label'],\n",
       "        num_rows: 3257\n",
       "    })\n",
       "    test: Dataset({\n",
       "        features: ['text', 'label'],\n",
       "        num_rows: 1421\n",
       "    })\n",
       "    validation: Dataset({\n",
       "        features: ['text', 'label'],\n",
       "        num_rows: 374\n",
       "    })\n",
       "})"
      ]
     },
     "execution_count": 19,
     "metadata": {},
     "output_type": "execute_result"
    }
   ],
   "source": [
    "tweet_data\n"
   ]
  },
  {
   "cell_type": "code",
   "execution_count": 21,
   "metadata": {},
   "outputs": [
    {
     "name": "stdout",
     "output_type": "stream",
     "text": [
      "Training DataFrame:\n",
      "                                      processed_text  label\n",
      "0  worry payment problem may never joyce meyer mo...      2\n",
      "1  roommate okay cant spell autocorrect terrible ...      0\n",
      "2  thats cute atsu probably shy photos cherry hel...      1\n",
      "3  rooneys fucking untouchable isnt fucking dread...      0\n",
      "4  pretty depressing u hit pan ur favourite highl...      3\n",
      "\n",
      "Validation DataFrame:\n",
      "                                        processed_text  label\n",
      "369  user user trump whitehouse arent held accounta...      0\n",
      "370      user chutiya producer invested crap deshdrohi      0\n",
      "371  russia story infuriate trump today media other...      0\n",
      "372                             shit getting irritated      0\n",
      "373       user user didnt make angry id laughing tweet      0\n",
      "\n",
      "Test DataFrame:\n",
      "                                         processed_text  label\n",
      "1416  need sparkling bodysuit occasion case emergenc...      1\n",
      "1417  user ive finished reading simply mindblogging ...      3\n",
      "1418  shaft abrasions panties merely shifted sidennt...      0\n",
      "1419                        fake outrage yall need stop      0\n",
      "1420  would ever grateful could record garden forgiv...      1\n"
     ]
    }
   ],
   "source": [
    "# nltk.download('stopwords')\n",
    "from nltk.corpus import stopwords\n",
    "stop_words = set(stopwords.words('english'))\n",
    "\n",
    "\n",
    "def preprocess(text):\n",
    "    # Remove URLs\n",
    "    text = re.sub(r'http\\S+|www\\S+|https\\S+', '', text)\n",
    "    text = re.sub(r'[^a-zA-Z0-9\\s]', '', text)\n",
    "    text = text.lower()\n",
    "    text = re.sub(r'\\s+', ' ', text).strip()\n",
    "    tokens = text.split()\n",
    "    filtered_text = [word for word in tokens if word not in stop_words]\n",
    "    return ' '.join(filtered_text)\n",
    "\n",
    "\n",
    "train_texts = [preprocess(tweet) for tweet in tweet_data[\"train\"][\"text\"]]  # Apply preprocess to each tweet\n",
    "validation_texts = [preprocess(tweet) for tweet in tweet_data[\"validation\"][\"text\"]]\n",
    "test_texts = [preprocess(tweet) for tweet in tweet_data[\"test\"][\"text\"]]\n",
    "train_labels = tweet_data['train']['label'] \n",
    "validation_labels = tweet_data['validation']['label']\n",
    "test_labels = tweet_data['test']['label']\n",
    "\n",
    "# Creating DataFrames\n",
    "train_df = pd.DataFrame({'processed_text': train_texts, 'label': train_labels})\n",
    "validation_df = pd.DataFrame({'processed_text': validation_texts, 'label': validation_labels})\n",
    "test_df = pd.DataFrame({'processed_text': test_texts, 'label': test_labels})\n",
    "\n",
    "print(\"Training DataFrame:\")\n",
    "print(train_df.head())\n",
    "print(\"\\nValidation DataFrame:\")\n",
    "print(validation_df.tail())\n",
    "print(\"\\nTest DataFrame:\")\n",
    "print(test_df.tail())\n",
    "\n"
   ]
  },
  {
   "cell_type": "code",
   "execution_count": 34,
   "metadata": {},
   "outputs": [
    {
     "data": {
      "text/plain": [
       "Index(['processed_text', 'label'], dtype='object')"
      ]
     },
     "execution_count": 34,
     "metadata": {},
     "output_type": "execute_result"
    }
   ],
   "source": [
    "test_df.columns"
   ]
  },
  {
   "cell_type": "markdown",
   "metadata": {},
   "source": [
    "## 3. Implementing Naive Bayes from Scratch"
   ]
  },
  {
   "cell_type": "markdown",
   "metadata": {},
   "source": [
    "## 3.1 Bernoulli Naive Bayes\n",
    "\n",
    "### From Scratch\n",
    "\n",
    "Recall that the Bernoulli Naive Bayes model is based on **Bayes' Theorem**:\n",
    "\n",
    "$$\n",
    "P(y \\mid x) = \\frac{P(x \\mid y)P(y)}{P(x)}\n",
    "$$\n",
    "\n",
    "What we really want is to find the class \\(c\\) that maximizes \\(P(c \\mid x)\\), so we can use the following equation:\n",
    "\n",
    "$$\n",
    "\\hat{c} = \\underset{c}{\\text{argmax}} \\ P(c \\mid x) = \\underset{c}{\\text{argmax}} \\ P(x \\mid c)P(c)\n",
    "$$\n",
    "\n",
    "In the case of **Bernoulli Naive Bayes**, we assume that each word \\(x_i\\) in a sentence follows a **Bernoulli distribution**, meaning that the word either appears (1) or does not appear (0) in the document. We can simplify the formula using this assumption:\n",
    "\n",
    "$$\n",
    "\\hat{c} = \\underset{c}{\\text{argmax}} \\ P(c) \\prod_{i=1}^{n} P(x_i = 1 \\mid c)^{x_i} P(x_i = 0 \\mid c)^{1 - x_i}\n",
    "$$\n",
    "\n",
    "Where:\n",
    "\n",
    "- $x_i = 1$ if the $i^{\\text{th}}$ word is present in the document.\n",
    "- $x_i = 0$ if the $i^{\\text{th}}$ word is not present in the document.\n",
    "\n",
    "\n",
    "We can estimate $P(c)$ by counting the number of times each class appears in our training data, and dividing by the total number of training examples. We can estimate $P(x_i = 1 \\mid c)$ by counting the number of documents in class $c$ that contain the word $x_i$, and dividing by the total number of documents in class $c$.\n",
    "\n",
    "### **Important: Laplace Smoothing**\n",
    "\n",
    "When calculating $P(x_i = 1 \\mid c)$ and $P(x_i = 0 \\mid c)$, we apply **Laplace smoothing** to avoid zero probabilities. This is essential because, without it, any word that has not appeared in a document of class $c$ will have a probability of zero, which would make the overall product zero, leading to incorrect classification.\n",
    "\n",
    "**Reason**: Laplace smoothing ensures that we don't encounter zero probabilities by adding a small constant (typically 1) to both the numerator and the denominator. This is particularly useful when a word has never appeared in the training data for a specific class.\n",
    "\n",
    "The smoothed probability formula is:\n",
    "\n",
    "$$\n",
    "P(x_i = 1 \\mid c) = \\frac{\\text{count of documents in class } c \\text{ where } x_i = 1 + 1}{\\text{total documents in class } c + 2}\n",
    "$$\n",
    "\n",
    "This ensures no word has a zero probability, even if it was unseen in the training data.\n",
    "\n",
    "### Avoiding Underflow with Logarithms:\n",
    "\n",
    "To avoid underflow errors due to multiplying small probabilities, we apply logarithms, which convert the product into a sum:\n",
    "\n",
    "$$\n",
    "\\hat{c} = \\underset{c}{\\text{argmax}} \\ \\log P(c) + \\sum_{i=1}^{n} \\left[ x_i \\log P(x_i = 1 \\mid c) + (1 - x_i) \\log P(x_i = 0 \\mid c) \\right]\n",
    "$$\n",
    "\n",
    "We will now implement this algorithm.\n",
    "\n",
    "<span style=\"color: red;\"> For this part, the only external library we will need is `numpy`.</span>\n"
   ]
  },
  {
   "cell_type": "markdown",
   "metadata": {},
   "source": [
    "Now we'll use our implementation to train a Naive Bayes model on the training data, and generate predictions for the Validation Set.\n",
    "\n",
    "Also, we'll report the Accuracy, Precision, Recall, and F1 score of our model on the validation data. We'll also display the Confusion Matrix. We can use `sklearn.metrics` for this."
   ]
  },
  {
   "cell_type": "code",
   "execution_count": 23,
   "metadata": {},
   "outputs": [
    {
     "name": "stdout",
     "output_type": "stream",
     "text": [
      "Number of predictions: 2300\n",
      "Unique predicted classes: [0 1]\n",
      "Unique actual classes: [0 1]\n",
      "Accuracy: 0.8200\n",
      "Precision: 0.7685\n",
      "Recall: 0.8200\n",
      "F1 Score: 0.7494\n",
      "\n",
      "Confusion Matrix:\n",
      "[[1872   13]\n",
      " [ 401   14]]\n"
     ]
    }
   ],
   "source": [
    "def fit_naive_bayes(X, y):\n",
    "    classes = np.unique(y)\n",
    "    n_features = X.shape[1]\n",
    "    class_priors = {}\n",
    "    feature_probs = {}\n",
    "    \n",
    "    for c in classes:\n",
    "        X_c = X[y == c]\n",
    "        n_c = len(X_c)\n",
    "        class_priors[c] = n_c / len(y)  # No Laplace smoothing for class priors, probs calculated on entire sample\n",
    "        feature_probs[c] = np.zeros((n_features, 2))\n",
    "        \n",
    "        for i in range(n_features):\n",
    "            n_c1 = np.sum(X_c[:, i] == 1)\n",
    "            n_c0 = n_c - n_c1\n",
    "            # Laplace smoothing for feature probabilities\n",
    "            feature_probs[c][i, 1] = (n_c1 + 1) / (n_c + 2)  \n",
    "            feature_probs[c][i, 0] = (n_c0 + 1) / (n_c + 2) \n",
    "    \n",
    "    return classes, class_priors, feature_probs\n",
    "\n",
    "def predict_naive_bayes(X, classes, class_priors, feature_probs):\n",
    "    predictions = []\n",
    "    for idx, x in enumerate(X):\n",
    "        scores = {}\n",
    "        for c in classes:\n",
    "            score = np.log(class_priors[c])\n",
    "            for i, xi in enumerate(x):\n",
    "#                 if xi not in [0, 1]:\n",
    "#                     print(f\"Warning: Unexpected value {xi} at index {i} for sample {idx}\")\n",
    "#                     xi = round(xi)  # Round to nearest integer (0 or 1)\n",
    "                score += xi * np.log(feature_probs[c][i, 1]) + (1 - xi) * np.log(feature_probs[c][i, 0])\n",
    "            scores[c] = score\n",
    "        \n",
    "        if not scores:\n",
    "            print(f\"Warning: No valid scores for sample {idx}. Using default prediction.\")\n",
    "            predictions.append(max(class_priors, key=class_priors.get))\n",
    "        else:\n",
    "            predictions.append(max(scores, key=scores.get))\n",
    "    \n",
    "    return np.array(predictions)\n",
    "\n",
    "# training\n",
    "classes, class_priors, feature_probs = fit_naive_bayes(X_train, y_train)\n",
    "\n",
    "y_pred = predict_naive_bayes(X_test, classes, class_priors, feature_probs)\n",
    "\n",
    "print(\"Number of predictions:\", len(y_pred))\n",
    "print(\"Unique predicted classes:\", np.unique(y_pred))\n",
    "print(\"Unique actual classes:\", np.unique(y_test))\n",
    "\n",
    "# Metrics\n",
    "accuracy = accuracy_score(y_test, y_pred)\n",
    "precision = precision_score(y_test, y_pred, average='weighted')\n",
    "recall = recall_score(y_test, y_pred, average='weighted')\n",
    "f1 = f1_score(y_test, y_pred, average='weighted')\n",
    "conf_matrix = confusion_matrix(y_test, y_pred)\n",
    "\n",
    "# Results\n",
    "print(f\"Accuracy: {accuracy:.4f}\")\n",
    "print(f\"Precision: {precision:.4f}\")\n",
    "print(f\"Recall: {recall:.4f}\")\n",
    "print(f\"F1 Score: {f1:.4f}\")\n",
    "print(\"\\nConfusion Matrix:\")\n",
    "print(conf_matrix)\n"
   ]
  },
  {
   "cell_type": "markdown",
   "metadata": {},
   "source": [
    "## 3.2 Multinomial Naive Bayes (Manual Implementation)"
   ]
  },
  {
   "cell_type": "markdown",
   "metadata": {},
   "source": [
    "### Vectorizing sentences with Bag of Words\n",
    "\n",
    "Now that we have loaded in our data, we will need to vectorize our sentences - this is necessary to be able to numericalize our inputs before feeding them into our model. \n",
    "\n",
    "We will be using a Bag of Words approach to vectorize our sentences. This is a simple approach that counts the number of times each word appears in a sentence. \n",
    "\n",
    "The element at index $\\text{i}$ of the vector will be the number of times the $\\text{i}^{\\text{th}}$ word in our vocabulary appears in the sentence. So, for example, if our vocabulary is `[\"the\", \"cat\", \"sat\", \"on\", \"mat\"]`, and our sentence is `\"the cat sat on the mat\"`, then our vector will be `[2, 1, 1, 1, 1]`.\n",
    "\n",
    "We will now create a `BagOfWords` class to vectorize our sentences. This will involve creating\n",
    "\n",
    "1. A vocabulary from our corpus\n",
    "\n",
    "2. A mapping from words to indices in our vocabulary\n",
    "\n",
    "3. A function to vectorize a sentence in the fashion described above\n",
    "\n",
    "It will help us to define something along the lines of a `fit` and a `vectorize` method."
   ]
  },
  {
   "cell_type": "code",
   "execution_count": 25,
   "metadata": {},
   "outputs": [],
   "source": [
    "# FINAL ATTEMPT!\n",
    "\n",
    "import numpy as np\n",
    "\n",
    "class BagOfWords:\n",
    "    def __init__(self):\n",
    "        self.vocabulary = []\n",
    "        self.word_to_index = {}\n",
    "\n",
    "    def fit(self, corpus):\n",
    "       \n",
    "        word_exists = {}\n",
    "        for sentence in corpus:\n",
    "            for word in sentence.split():\n",
    "                word_exists[word] = word_exists.get(word, 0) + 1\n",
    "        \n",
    "    \n",
    "        self.vocabulary = list(word_exists.keys())\n",
    "        self.word_to_index = {word: i for i, word in enumerate(self.vocabulary)}\n",
    "        print(\"Word to index mapping:\", self.word_to_index)\n",
    "\n",
    "    def vectorize(self, sentence):\n",
    "        vector = np.zeros(len(self.vocabulary), dtype=int) \n",
    "        words = sentence.split()\n",
    "\n",
    "        for word in words:\n",
    "            if word in self.word_to_index:\n",
    "                idx = self.word_to_index[word]\n",
    "                vector[idx] += 1  \n",
    "\n",
    "        return vector\n",
    "\n",
    "    def vectorize_corpus(self, corpus):\n",
    "        return np.array([self.vectorize(sentence) for sentence in corpus])\n"
   ]
  },
  {
   "cell_type": "code",
   "execution_count": 41,
   "metadata": {},
   "outputs": [],
   "source": [
    "# class NaiveBayes:\n",
    "#     def __init__(self):\n",
    "#         self.class_log_prior = {}\n",
    "#         self.log_likelihood = {}\n",
    "#         self.vocab_size = 0\n",
    "#         self.classes = None\n",
    "\n",
    "#     def fit(self, X, y):\n",
    "#         self.vocab_size = len(X[0])\n",
    "#         self.classes = np.unique(y)\n",
    "        \n",
    "#         N_doc = len(y)\n",
    "        \n",
    "#         for c in self.classes:\n",
    "#             N_c = np.sum(y == c)\n",
    "#             self.class_log_prior[c] = np.log(N_c / N_doc)\n",
    "            \n",
    "#             X_c = np.array([x for x, label in zip(X, y) if label == c])\n",
    "#             word_count = np.sum(X_c, axis=0) + 1  # Add-one smoothing\n",
    "#             total_words = np.sum(word_count)\n",
    "            \n",
    "#             self.log_likelihood[c] = np.log(word_count / total_words)\n",
    "\n",
    "#     def predict(self, X):\n",
    "#         predictions = []\n",
    "#         for x in X:\n",
    "#             class_scores = {}\n",
    "#             for c in self.classes:\n",
    "#                 score = self.class_log_prior[c] + np.sum(x * self.log_likelihood[c])\n",
    "#                 class_scores[c] = score\n",
    "#             predictions.append(max(class_scores, key=class_scores.get))\n",
    "#         return np.array(predictions)\n",
    "\n",
    "#     def score(self, X, y):\n",
    "#         predictions = self.predict(X)\n",
    "#         return np.mean(predictions == y)\n"
   ]
  },
  {
   "cell_type": "code",
   "execution_count": 27,
   "metadata": {},
   "outputs": [
    {
     "name": "stdout",
     "output_type": "stream",
     "text": [
      "Word to index mapping: {'the': 0, 'cat': 1, 'sat': 2, 'on': 3, 'mat': 4}\n",
      "Vocabulary: ['the', 'cat', 'sat', 'on', 'mat']\n",
      "Test sentence: the cat sat on the mat\n",
      "Vectorized sentence: [2 1 1 1 1]\n",
      "Expected:  [2 1 1 1 1]\n",
      "Vectorization works:  [ True  True  True  True  True]\n"
     ]
    }
   ],
   "source": [
    "import numpy as np\n",
    "bow_check = BagOfWords()\n",
    "\n",
    "# Setting the vocabulary manually\n",
    "example_vocabulary = [\"the cat sat on the mat\"] \n",
    "bow_check.fit(example_vocabulary)\n",
    "\n",
    "test_sentence = \"the cat sat on the mat\"\n",
    "vector = bow_check.vectorize(test_sentence)\n",
    "# vector_check= list(vector.values())\n",
    "print(\"Vocabulary:\", bow_check.vocabulary)\n",
    "print(\"Test sentence:\", test_sentence)\n",
    "print(\"Vectorized sentence:\", vector)\n",
    "\n",
    "expected_vector = np.array([2, 1, 1, 1, 1])\n",
    "print(\"Expected: \", expected_vector)\n",
    "print(\"Vectorization works: \",vector == expected_vector)\n"
   ]
  },
  {
   "cell_type": "markdown",
   "metadata": {},
   "source": [
    "For a sanity check, we can manually set the vocabulary of our `BagOfWords` object to the vocabulary of the example above, and check that the vectorization of the sentence is correct.\n",
    "\n",
    "Once we have implemented the `BagOfWords` class, we need to fit it to the training data, and vectorize the training, validation, and test data."
   ]
  },
  {
   "cell_type": "code",
   "execution_count": 29,
   "metadata": {},
   "outputs": [
    {
     "name": "stdout",
     "output_type": "stream",
     "text": [
      "Word to index mapping: {'worry': 0, 'payment': 1, 'problem': 2, 'may': 3, 'never': 4, 'joyce': 5, 'meyer': 6, 'motivation': 7, 'leadership': 8, 'roommate': 9, 'okay': 10, 'cant': 11, 'spell': 12, 'autocorrect': 13, 'terrible': 14, 'firstworldprobs': 15, 'thats': 16, 'cute': 17, 'atsu': 18, 'probably': 19, 'shy': 20, 'photos': 21, 'cherry': 22, 'helped': 23, 'uwu': 24, 'rooneys': 25, 'fucking': 26, 'untouchable': 27, 'isnt': 28, 'dreadful': 29, 'depay': 30, 'looked': 31, 'decentishtonight': 32, 'pretty': 33, 'depressing': 34, 'u': 35, 'hit': 36, 'pan': 37, 'ur': 38, 'favourite': 39, 'highlighter': 40, 'user': 41, 'pussy': 42, 'weak': 43, 'heard': 44, 'stfu': 45, 'bitch': 46, 'got': 47, 'threaten': 48, 'pregnant': 49, 'making': 50, 'yearly': 51, 'transition': 52, 'excited': 53, 'hopeful': 54, 'college': 55, 'returner': 56, 'sick': 57, 'exhausted': 58, 'pessimist': 59, 'tiller': 60, 'breezy': 61, 'collab': 62, 'album': 63, 'rapping': 64, 'singing': 65, 'prolly': 66, 'fire': 67, 'broadband': 68, 'shocking': 69, 'regretting': 70, 'signing': 71, 'angry': 72, 'shouldofgonewithvirgin': 73, 'look': 74, 'teef': 75, 'growl': 76, 'usa': 77, 'embarrassing': 78, 'watch': 79, 'last': 80, 'time': 81, 'guys': 82, 'game': 83, 'horrible': 84, 'joke': 85, 'newyork': 86, 'several': 87, 'baloch': 88, 'amp': 89, 'indian': 90, 'activists': 91, 'hold': 92, 'demonstrations': 93, 'outside': 94, 'headquarters': 95, 'demanding': 96, 'pak': 97, 'stop': 98, 'exporting': 99, 'terror': 100, 'india': 101, 'glee': 102, 'filled': 103, 'normy': 104, 'dry': 105, 'humping': 106, 'recent': 107, 'high': 108, 'profile': 109, 'celebrity': 110, 'break': 111, 'pathetic': 112, 'wrong': 113, 'world': 114, 'today': 115, 'muppet': 116, 'stalker': 117, 'changes': 118, 'em': 119, 'resent': 120, 'greatly': 121, 'would': 122, 'strategically': 123, 'vote': 124, 'someone': 125, 'dont': 126, 'agree': 127, 'lot': 128, 'clinton': 129, 'based': 130, 'fear': 131, 'negativity': 132, 'haters': 133, 'low': 134, 'self': 135, 'worth': 136, 'righteous': 137, 'delusions': 138, 'cower': 139, 'thought': 140, 'change': 141, 'inevitable': 142, 'saved': 143, 'ordering': 144, 'risk': 145, 'life': 146, 'didnt': 147, 'panic': 148, 'stayed': 149, 'calm': 150, 'rescued': 151, 'uggh': 152, 'really': 153, 'youre': 154, 'bad': 155, 'person': 156, 'stretch': 157, 'imagination': 158, 'hope': 159, 'realizes': 160, 'tamra': 161, 'f': 162, 'swung': 163, 'tamrankelly': 164, 'piece': 165, 'needstobeadmitted': 166, 'bully': 167, 'love': 168, 'happiness': 169, 'sadness': 170, 'feelings': 171, 'dependent': 172, 'another': 173, 'possible': 174, 'changing': 175, 'meds': 176, 'best': 177, 'done': 178, 'stress': 179, 'difficult': 180, 'tell': 181, 'part': 182, 'despair': 183, 'circumstantial': 184, 'drugs': 185, 'im': 186, 'also': 187, 'definitely': 188, 'still': 189, 'bitter': 190, 'yellow': 191, 'ranger': 192, 'asian': 193, 'representation': 194, 'hollywood': 195, 'essentially': 196, 'shrug': 197, 'anyway': 198, 'irony': 199, 'protesting': 200, 'kind': 201, 'stuff': 202, 'orwellian': 203, 'nightmare': 204, 'think': 205, 'theyre': 206, 'fighting': 207, 'nah': 208, 'way': 209, 'becz': 210, 'much': 211, 'nd': 212, 'urself': 213, 'leader': 214, 'forgot': 215, 'difference': 216, 'btw': 217, 'terrorist': 218, 'angel': 219, 'delight': 220, 'everything': 221, 'puzzle': 222, 'investing': 223, 'opening': 224, 'portland': 225, 'feodal': 226, 'population': 227, 'correlative': 228, 'straight': 229, 'snorting': 230, 'infuriate': 231, 'xlzjyhg': 232, 'believe': 233, 'gonna': 234, 'start': 235, 'snap': 236, 'stories': 237, 'tractor': 238, 'switch': 239, 'little': 240, 'bit': 241, 'rage': 242, 'ep': 243, '2': 244, 'coming': 245, 'soon': 246, 'ill': 247, 'keep': 248, 'posted': 249, 'youtube': 250, 'youtubegaming': 251, 'started': 252, 'watching': 253, 'week': 254, 'addicted': 255, 'gleek': 256, 'jorge': 257, 'deserves': 258, 'honestly': 259, 'hes': 260, '90dayfiance': 261, 'shit': 262, 'doesnt': 263, 'even': 264, 'begin': 265, 'describe': 266, 'fiery': 267, 'demons': 268, 'hell': 269, 'ditto': 270, 'amazing': 271, 'atmosphere': 272, 'philippplein': 273, 'cheerleaders': 274, 'stunt': 275, 'londonevents': 276, 'cheer': 277, 'interview': 278, 'preparation': 279, 'hate': 280, 'talking': 281, 'one': 282, 'dull': 283, 'subject': 284, 'matter': 285, 'yawnoff': 286, 'manchester': 287, 'derby': 288, 'home': 289, 'itd': 290, 'useful': 291, 'women': 292, 'dealing': 293, 'rereading': 294, 'article': 295, 'woman': 296, 'harassed': 297, 'subway': 298, 'concern': 299, 'want': 300, 'playful': 301, 'relationshipnme': 302, 'kicks': 303, 'couch': 304, 'romero': 305, 'like': 306, 'seriously': 307, '11': 308, 'month': 309, 'old': 310, 'better': 311, 'taken': 312, 'granted': 313, 'misogyny': 314, 'air': 315, 'treated': 316, 'normal': 317, 'response': 318, 'pathological': 319, 'oh': 320, 'see': 321, 'ive': 322, 'seen': 323, 'many': 324, 'people': 325, 'mourn': 326, 'loss': 327, 'surprised': 328, 'tweet': 329, 'suppose': 330, 'sa': 331, 'gutted': 332, 'dropped': 333, 'earrings': 334, 'sink': 335, 'school': 336, 'happy': 337, 'birthday': 338, 'stephen': 339, 'king': 340, 'man': 341, 'responsible': 342, 'horror': 343, 'past': 344, '40': 345, 'years': 346, 'whole': 347, 'bunch': 348, 'worst': 349, 'courage': 350, 'always': 351, 'rises': 352, 'every': 353, 'attempt': 354, 'intimidate': 355, 'menelizabeth': 356, 'bennett': 357, 'pride': 358, 'prejudicenquotes': 359, 'faceyourfears': 360, 'good': 361, 'day': 362, 'work': 363, 'get': 364, 'shake': 365, 'jim': 366, 'lehrers': 367, 'hand': 368, 'thanks': 369, 'kicking': 370, 'hug': 371, 'bored': 372, 'fat': 373, 'full': 374, 'ridiculously': 375, 'overweight': 376, 'rolls': 377, 'galore': 378, 'flirt': 379, 'simper': 380, 'pout': 381, 'repeat': 382, 'yuck': 383, 'trumpism': 384, 'likewise': 385, 'rests': 386, 'bed': 387, 'racial': 388, 'resentment': 389, 'made': 390, 'knowingly': 391, 'intentionally': 392, 'long': 393, 'trump': 394, 'politics': 395, 'theres': 396, 'bpharm4': 397, 'guy': 398, 'eish': 399, 'brings': 400, 'anger': 401, 'nje': 402, 'darkness': 403, 'fills': 404, 'know': 405, 'tears': 406, 'eyes': 407, 'wont': 408, 'burning': 409, 'wire': 410, 'lightbulb': 411, 'fury': 412, 'scorned': 413, 'william': 414, 'congreve': 415, 'tried': 416, 'earlier': 417, 'flt': 418, '2day': 419, 'turnd': 420, 'away': 421, 'bcuz': 422, 'late': 423, 'agent': 424, 'let': 425, 'pas': 426, 'silvereliteleftbehind': 427, 'wish': 428, 'could': 429, 'someday': 430, 'come': 431, 'spain': 432, 'play': 433, 'going': 434, 'sad': 435, 'val': 436, 'big': 437, 'hiking': 438, 'boots': 439, 'bakewell': 440, 'gbbo': 441, 'bts': 442, 'trilogy': 443, 'mv': 444, 'fav': 445, 'quite': 446, 'gloomy': 447, 'beautiful': 448, 'well': 449, 'prudence': 450, 'suggests': 451, '8': 452, 'bump': 453, '23': 454, 'weeks': 455, 'viewed': 456, 'skepticism': 457, 'mediahrc': 458, 'axis': 459, 'thank': 460, 'disney': 461, 'themed': 462, 'episode': 463, 'letting': 464, 'discover': 465, 'hilarious': 466, 'need': 467, 'new': 468, 'outlet': 469, 'rewatching': 470, 'raising': 471, 'hubs': 472, 'totally': 473, 'herewego': 474, 'wow': 475, 'forever': 476, 'random': 477, 'great': 478, 'sting': 479, 'xph': 480, 'optimism': 481, 'tomorrow': 482, 'foundation': 483, 'nnand': 484, 'trying': 485, 'find': 486, 'spent': 487, 'hours': 488, 'dam': 489, 'siva': 490, 'fragment': 491, 'fellwinters': 492, 'peak': 493, 'mountain': 494, 'lost': 495, 'dharmainitiative': 496, '12years': 497, '22september2004': 498, 'oceanic815': 499, 'peoplelikemebecause': 500, 'exterior': 501, 'hopelessness': 502, 'sometimes': 503, 'feel': 504, 'inside': 505, 'depression': 506, 'anxietyprobz': 507, 'go': 508, 'speed': 509, 'limit': 510, 'irritate': 511, 'ff': 512, 'nnthefamilyx': 513, 'nnsoul': 514, 'blues': 515, 'rock': 516, 'bandnnmusic': 517, 'heartnnwith': 518, 'soul': 519, 'passion': 520, 'nnxx': 521, 'xx': 522, 'ohh': 523, 'comes': 524, 'sense': 525, 'supporting': 526, 'stone': 527, 'pelting': 528, 'vandalizing': 529, 'ppl': 530, 'gather': 531, 'b4': 532, 'protests': 533, 'announce': 534, 'movies': 535, 'make': 536, 'used': 537, 'havent': 538, 'id': 539, 'bridge': 540, 'divide': 541, 'right': 542, 'left': 543, 'twitter': 544, 'say': 545, 'truncating': 546, 'thing': 547, 'awful': 548, 'xd': 549, 'happened': 550, 'smoke': 551, 'joes': 552, 'gf': 553, 'star': 554, 'joe': 555, 'sing': 556, 'angrily': 557, 'back': 558, 'remember': 559, 'heyday': 560, 'ladies': 561, 'range': 562, 'age': 563, 'mid30s': 564, 'early': 565, '70s': 566, 'houses': 567, 'instestines': 568, 'scare': 569, 'poop': 570, 'pants': 571, 'nndo': 572, 'rednecks': 573, 'intellectually': 574, 'force': 575, 'dancing': 576, 'clown': 577, 'talk': 578, 'times': 579, 'distracted': 580, 'friends': 581, 'laughter': 582, 'shopping': 583, 'eating': 584, 'nnmhchat': 585, 'noooooo': 586, 'without': 587, 'maryberry': 588, 'endofanera': 589, '2b': 590, 'bought': 591, 'lameduck': 592, 'notallaboutthemoney': 593, 'bright': 594, 'side': 595, 'music': 596, 'theory': 597, 'teacher': 598, 'pocket': 599, 'dabbed': 600, 'said': 601, 'whats': 602, 'hip': 603, 'walked': 604, 'two': 605, 'ways': 606, 'either': 607, 'accept': 608, 'mope': 609, 'anxiety': 610, 'thisisus': 611, 'messed': 612, 'mind': 613, 'anticipating': 614, 'next': 615, 'apprehension': 616, 'isthereahelplineforthis': 617, 'god': 618, 'goal': 619, 'keeper': 620, 'horrific': 621, 'rest': 622, 'us': 623, 'destined': 624, 'become': 625, 'deatheaters': 626, '50': 627, 'wanted': 628, 'green': 629, 'potatoes': 630, 'bottle': 631, 'tag': 632, 'plus': 633, 'soaking': 634, 'wet': 635, 'items': 636, 'delivered': 637, 'winning': 638, 'todaysadly': 639, 'everybodys': 640, 'worried': 641, 'stopping': 642, 'terrorism': 643, 'easy': 644, 'participating': 645, 'noam': 646, 'chomsky': 647, 'almost': 648, 'tmobile': 649, 'stores': 650, 'san': 651, 'diego': 652, 'note7': 653, 'replacements': 654, 'mine': 655, 'replaced': 656, 'felt': 657, 'safe': 658, 'unhappy': 659, 'ahs6': 660, '5': 661, 'minutes': 662, 'saying': 663, 'nope': 664, 'gone': 665, 'move': 666, 'gtfo': 667, 'nothing': 668, 'worse': 669, 'uber': 670, 'driver': 671, 'drive': 672, 'leave': 673, 'rulenimber': 674, '1': 675, 'carpet': 676, 'cleaning': 677, 'furious': 678, 'worsethananatomicbomb': 679, 'accidentlyspillbeeronthecarpet': 680, 'america': 681, 'fortunate': 682, 'black': 683, 'equality': 684, 'revenge': 685, 'ion': 686, 'bout': 687, 'weary': 688, 'brother': 689, 'cmode': 690, 'grimrail': 691, 'eat': 692, 'bees': 693, 'cheerchick': 694, 'jeep': 695, 'jeepgirl': 696, 'idriveajeep': 697, 'jeepjeep': 698, 'assure': 699, 'increasing': 700, 'costs': 701, 'arrogance': 702, 'westminster': 703, 'debating': 704, 'race': 705, 'inequality': 706, 'within': 707, 'justice': 708, 'system': 709, 'non': 710, 'existent': 711, 'aggravate': 712, 'contained': 713, 'economic': 714, 'engine': 715, 'sustainability': 716, 'joel': 717, 'vergecon': 718, 'newgrandstrategy': 719, 'gt': 720, 'huff': 721, 'louder': 722, 'lol': 723, 'maybe': 724, 'couldnt': 725, 'decide': 726, 'levity': 727, 'certain': 728, 'hilarity': 729, 'national': 730, 'anthem': 731, 'flag': 732, 'acts': 733, 'covered': 734, '1st': 735, 'amendment': 736, 'pity': 737, 'instructors': 738, 'understanding': 739, 'truly': 740, 'despite': 741, 'circumstances': 742, 'discouraged': 743, 'communitysleepcoach': 744, 'narcoleptic': 745, 'puppies': 746, 'smile': 747, 'human': 748, 'odd': 749, 'positions': 750, 'seek': 751, 'th': 752, '9': 753, 'vs': 754, 'atlanta': 755, 'yr': 756, 'rockies': 757, 'dbacks': 758, 'combined': 759, '20': 760, '3': 761, 'atrocious': 762, 'teams': 763, 'nl': 764, 'experience': 765, 'plays': 766, 'role': 767, 'education': 768, 'preparedness': 769, 'appointment': 770, 'booked': 771, '16': 772, 'waited': 773, 'nobody': 774, 'showed': 775, 'requested': 776, 'call': 777, 'summer': 778, 'officially': 779, 'ends': 780, 'dude': 781, 'buy': 782, 'bubble': 783, 'tape': 784, 'phones': 785, 'broke': 786, 'phone': 787, 'holy': 788, 'shitwhat': 789, 'lips': 790, 'fix': 791, 'mtv': 792, 'teenmom': 793, 'final': 794, 'vestiges': 795, '90s': 796, 'childhood': 797, 'dashed': 798, 'shoals': 799, 'hearing': 800, 'house': 801, 'cover': 802, 'tracy': 803, 'chapmans': 804, 'fast': 805, 'car': 806, 'dayjob': 807, 'entire': 808, 'russian': 809, 'team': 810, 'test': 811, 'positive': 812, 'meldonium': 813, 'north': 814, 'americans': 815, 'replace': 816, 'hey': 817, 'folks': 818, 'sorry': 819, 'anything': 820, 'offensive': 821, 'yesterday': 822, 'account': 823, 'hacked': 824, 'fixed': 825, 'though': 826, 'annoyed': 827, 'dreamthey': 828, 'steal': 829, 'kidney': 830, 'blackmarket': 831, 'whydidiwatchthat': 832, 'empath': 833, 'nervous': 834, 'rip': 835, 'ryan': 836, 'gosling': 837, 'eva': 838, 'mendes': 839, 'finally': 840, 'b': 841, 'joyful': 842, 'funnydont': 843, 'bossdont': 844, 'arguedo': 845, 'kidsgo': 846, 'mini': 847, 'trips': 848, 'focus': 849, 'embarrassed': 850, 'saw': 851, 'knvfkkjg': 852, 'thinks': 853, 'stalkers': 854, 'n': 855, 'starts': 856, 'waving': 857, 'cheerfully': 858, 'inviting': 859, 'dads': 860, 'top': 861, 'favorite': 862, 'throwback': 863, 'rappers': 864, 'died': 865, 'crash': 866, 'wait': 867, 'listen': 868, 'single': 869, 'mystery': 870, 'newmusic': 871, 'newsingle': 872, 'newalbum': 873, '2016': 874, 'popmusic': 875, 'dark': 876, 'anybody': 877, 'place': 878, 'book': 879, 'show': 880, 'montreal': 881, 'short': 882, 'supershort': 883, 'notice': 884, 'punkrock': 885, 'postpunk': 886, 'afraid': 887, 'space': 888, 'dreams': 889, 'reality': 890, 'dream': 891, 'leaving': 892, 'first': 893, 'job': 894, 'working': 895, 'since': 896, 'sweet': 897, 'town': 898, 'centre': 899, '18': 900, 'months': 901, 'brawndo': 902, 'cure': 903, 'idiocracytoday': 904, 'rejoice': 905, 'birth': 906, 'grieve': 907, 'funeral': 908, 'involved': 909, 'mark': 910, 'twain': 911, 'dislike': 912, 'offended': 913, 'littlest': 914, 'adorable': 915, 'awe': 916, 'tonight': 917, 'blind': 918, 'run': 919, 'played': 920, 'levels': 921, 'road': 922, 'gives': 923, 'memories': 924, 'saturdaynightlive': 925, 'shilling': 926, 'major': 927, 'rethink': 928, 'lab': 929, 'gove': 930, 'lifetime': 931, 'significantly': 932, '2nd': 933, '3rd': 934, 'champs': 935, 'dosike': 936, 'losers': 937, 'chances': 938, 'lively': 939, 'shot': 940, 'tipped': 941, 'bar': 942, 'end': 943, 'advice': 944, 'rut': 945, 'needmotivation': 946, 'health': 947, 'itll': 948, 'spot': 949, 'parade': 950, 'tiny': 951, 'weans': 952, 'expensive': 953, 'jammies': 954, 'muscled': 955, 'huge': 956, 'heart': 957, 'messing': 958, 'brain': 959, 'confused': 960, 'says': 961, 'refugee': 962, 'situation': 963, 'quality': 964, 'take': 965, 'note': 966, 'wearing': 967, 'civil': 968, 'war': 969, 'wall': 970, 'fancy': 971, 'muzzys': 972, 'laughs': 973, 'shaking': 974, 'head': 975, 'cheesy': 976, 'wasnt': 977, '4yo': 978, 'blast': 979, 'gothcore': 980, 'around': 981, 'spooky': 982, 'sigh': 983, 'momlife': 984, 'gloriosa': 985, 'bazigaga': 986, 'rwanda': 987, 'relatives': 988, 'genocide': 989, '15': 990, 'yrs': 991, 'peacebuilding': 992, 'given': 993, 'power': 994, 'mhchat': 995, 'experiences': 996, 'inform': 997, 'adult': 998, 'relationships': 999, 'associative': 1000, 'question': 1001, 'ability': 1002, 'process': 1003, 'texans': 1004, 'astros': 1005, 'shut': 1006, 'houston': 1007, 'nick': 1008, 'something': 1009, 'retarded': 1010, '10000': 1011, 'retweets': 1012, 'scrap': 1013, 'instead': 1014, 'told': 1015, 'wife': 1016, 'chance': 1017, 'sydney': 1018, 'afl': 1019, 'grand': 1020, 'serious': 1021, 'sadden': 1022, 'meet': 1023, 'grow': 1024, 'desgusting': 1025, 'fake': 1026, 'cheerfulness': 1027, 'urgent': 1028, 'constant': 1029, 'gloom': 1030, 'current': 1031, 'getting': 1032, 'ridiculous': 1033, 'girls': 1034, 'childlike': 1035, 'seem': 1036, 'lovely': 1037, 'imagine': 1038, 'convos': 1039, 'absolutely': 1040, 'laurie': 1041, 'hernandez': 1042, 'shes': 1043, 'cheerful': 1044, 'windy': 1045, 'glad': 1046, 'ride': 1047, 'bike': 1048, 'wind': 1049, 'point': 1050, 'living': 1051, 'optimist': 1052, 'foolish': 1053, 'enough': 1054, 'yet': 1055, 'peter': 1056, 'ustinov': 1057, 'quote': 1058, 'retaliation': 1059, 'weiner': 1060, 'huma': 1061, 'hillary': 1062, 'clam': 1063, 'diggingnallscumbags': 1064, 'historically': 1065, 'broken': 1066, 'policy': 1067, 'blasio': 1068, 'ltgt': 1069, 'giuliani': 1070, 'windows': 1071, 'pecking': 1072, 'order': 1073, 'resist': 1074, 'motto': 1075, 'mate': 1076, 'profession': 1077, 'mad': 1078, 'client': 1079, 'opened': 1080, 'bowels': 1081, 'rejoicing': 1082, 'morgue': 1083, 'reuters': 1084, 'attacking': 1085, 'hating': 1086, 'makes': 1087, 'vengeful': 1088, 'behavior': 1089, 'detest': 1090, 'helpso': 1091, 'laureliver': 1092, 'fandom': 1093, 'comic': 1094, 'girl': 1095, 'mmmm': 1096, 'kinda': 1097, 'neighbor': 1098, 'toast': 1099, 'fact': 1100, 'fool': 1101, 'nothappy': 1102, 'charging': 1103, 'fullprice': 1104, 'fuming': 1105, 'bestrides': 1106, 'everyone': 1107, 'raging': 1108, 'minuscule': 1109, 'try': 1110, 'ruin': 1111, 'somebodies': 1112, 'lose': 1113, 'federal': 1114, 'prison': 1115, 'refs': 1116, 'gts': 1117, 'favor': 1118, 'nls': 1119, 'bureaucrat': 1120, 'director': 1121, 'group': 1122, 'formed': 1123, 'oppose': 1124, 'megaproject': 1125, 'nlpoli': 1126, 'broadcast': 1127, 'musically': 1128, 'wants': 1129, 'win': 1130, 'wild': 1131, 'card': 1132, 'cubs': 1133, 'amal': 1134, 'clooney': 1135, 'prosecute': 1136, 'bush': 1137, 'blair': 1138, 'crimes': 1139, 'turned': 1140, 'upside': 1141, 'downampcreated': 1142, 'presses': 1143, 'saidproposed': 1144, 'racist': 1145, 'nisnt': 1146, 'obrien': 1147, 'supposed': 1148, 'sort': 1149, 'genius': 1150, 'morning': 1151, 'chirpy': 1152, 'springequinox': 1153, 'pensive': 1154, 'sister': 1155, 'autumnequinox': 1156, 'perfect': 1157, 'however': 1158, 'expressed': 1159, 'thebeautyofbalance': 1160, 'swallows': 1161, 'swifts': 1162, 'photod': 1163, 'nights': 1164, 'ago': 1165, 'autumn': 1166, 'chiropractor': 1167, 'questioned': 1168, 'habits': 1169, 'unnerved': 1170, 'doctor': 1171, 'lady': 1172, 'gaga': 1173, 'followed': 1174, 'waiting': 1175, 'ages': 1176, 'came': 1177, 'silly': 1178, 'oclock': 1179, 'woke': 1180, 'wasted': 1181, 'gleesome': 1182, 'threesome': 1183, 'fashion': 1184, 'police': 1185, 'wishing': 1186, 'rich': 1187, 'poor': 1188, 'sleepy': 1189, 'needsmoresleep': 1190, 'relentless': 1191, 'echo': 1192, 'chamber': 1193, 'negative': 1194, 'comments': 1195, 'lots': 1196, 'reverb': 1197, 'typical': 1198, 'follow': 1199, 'website': 1200, 'cheering': 1201, 'hassle': 1202, 'exists': 1203, 'namjoon': 1204, 'terrified': 1205, 'thrilled': 1206, 'elated': 1207, 'youve': 1208, 'kicked': 1209, 'guts': 1210, 'word': 1211, 'blow': 1212, 'lt': 1213, 'created': 1214, 'seam': 1215, 'sua': 1216, 'burst': 1217, 'decided': 1218, 'lackadaisical': 1219, 'dressed': 1220, 'groceries': 1221, 'actually': 1222, 'compromise': 1223, 'p': 1224, 'nits': 1225, 'alright': 1226, 'moment': 1227, 'fun': 1228, 'might': 1229, 'donal': 1230, 'g': 1231, 'sure': 1232, 'cork': 1233, 'dopey': 1234, 'frank': 1235, 'cult': 1236, 'least': 1237, 'character': 1238, 'pumped': 1239, 'adrenaline': 1240, 'franchise': 1241, 'snapchat': 1242, 'battle': 1243, 'ugliest': 1244, 'survival': 1245, 'type': 1246, 'properly': 1247, 'ha': 1248, 'pakistan': 1249, 'continues': 1250, 'treat': 1251, 'state': 1252, 'uriattack': 1253, 'hair': 1254, 'soft': 1255, 'guess': 1256, 'winlose': 1257, 'whatever': 1258, 'sam': 1259, 'holding': 1260, 'tee': 1261, 'looks': 1262, 'droop': 1263, 'step': 1264, 'forward': 1265, 'steps': 1266, 'backward': 1267, 'link': 1268, 'rogerfederershop': 1269, 'losing': 1270, 'roger': 1271, 'federer': 1272, 'pats': 1273, 'awesome': 1274, 'belichick': 1275, 'join': 1276, 'put': 1277, 'rude': 1278, 'taking': 1279, 'money': 1280, 'acc': 1281, 'willynilly': 1282, '2k': 1283, 'numbers': 1284, 'madden': 1285, 'yall': 1286, 'mean': 1287, 'rioting': 1288, 'starting': 1289, 'business': 1290, 'looting': 1291, 'assholes': 1292, 'create': 1293, 'blacklivesmatter': 1294, 'hms': 1295, 'pinafore': 1296, 'timenni': 1297, 'mirth': 1298, 'grim': 1299, 'feelingi': 1300, 'family': 1301, 'hubby': 1302, 'fought': 1303, 'country': 1304, 'worked': 1305, 'govtgt': 1306, 'coincidence': 1307, 'turn': 1308, 'tv': 1309, 'etcamp': 1310, 'objective': 1311, 'captureyourmind': 1312, 'findgodnow': 1313, 'turkish': 1314, 'exhilaration': 1315, '30': 1316, 'shade': 1317, 'irruptive': 1318, 'visitors': 1319, 'twelvemonth': 1320, 'gobbler': 1321, 'nephalism': 1322, 'mondays': 1323, 'disheartened': 1324, 'history': 1325, 'bullied': 1326, 'three': 1327, 'posts': 1328, 'attack': 1329, 'london': 1330, 'nice': 1331, 'electing': 1332, 'muslim': 1333, 'jihadist': 1334, 'mayor': 1335, 'luck': 1336, 'future': 1337, 'attacks': 1338, 'sadiqkhan': 1339, 'pull': 1340, 'feeling': 1341, 'catch': 1342, 'sauce': 1343, 'heaviness': 1344, 'carry': 1345, 'wayward': 1346, 'son': 1347, 'therell': 1348, 'peace': 1349, 'lay': 1350, 'cry': 1351, 'supernatural': 1352, 'cyber': 1353, 'found': 1354, 'episodes': 1355, 'bojack': 1356, 'incredibly': 1357, 'funny': 1358, 'less': 1359, 'drama': 1360, '10': 1361, 'page': 1362, 'script': 1363, 'due': 1364, 'friday': 1365, 'class': 1366, 'mfa': 1367, 'gradschoolproblems': 1368, 'someonetelltinafeytohireme': 1369, 'riggs': 1370, 'dumb': 1371, 'ass': 1372, 'lolol': 1373, 'lethalweapon': 1374, 'react': 1375, 'uri': 1376, 'stock': 1377, 'finished': 1378, 'listed': 1379, 'room': 1380, 'moved': 1381, 'editing': 1382, 'fitted': 1383, 'visit': 1384, 'inlaws': 1385, 'productivityatitsfinest': 1386, 'outrage': 1387, 'children': 1388, 'killed': 1389, 'crossfire': 1390, 'blacks': 1391, 'shooting': 1392, 'rabid': 1393, 'dog': 1394, 'ridden': 1395, 'child': 1396, 'eaten': 1397, 'flesh': 1398, 'fellow': 1399, 'limbs': 1400, 'adults': 1401, 'watched': 1402, 'cobblers': 1403, 'loads': 1404, 'season': 1405, 'gorre': 1406, 'pro': 1407, 'footballler': 1408, 'putin': 1409, 'feels': 1410, 'acceptable': 1411, 'bomb': 1412, 'kill': 1413, 'aid': 1414, 'workers': 1415, 'sitting': 1416, 'table': 1417, 'armageddon': 1418, 'usapleasedont': 1419, 'gotta': 1420, 'shoot': 1421, 'miss': 1422, 'burkeramsey': 1423, 'amphit': 1424, 'jonbenet': 1425, 'face': 1426, 'golf': 1427, 'club': 1428, 'previously': 1429, 'fit': 1430, 'nooooo': 1431, 'blue': 1432, 'bell': 1433, 'muslims': 1434, 'commit': 1435, 'islam': 1436, 'student': 1437, 'already': 1438, 'wine': 1439, 'drunk': 1440, 'version': 1441, 'ffs': 1442, 'seeing': 1443, 'basshunter': 1444, 'bounty': 1445, 'hunter': 1446, 'things': 1447, 'information': 1448, 'scared': 1449, 'collegelife': 1450, 'supine': 1451, 'pianolips': 1452, 'parted': 1453, 'sixwordstory': 1454, 'amwriting': 1455, 'singer': 1456, 'brad': 1457, 'scary': 1458, 's6': 1459, 'borrow': 1460, 'expect': 1461, 'paid': 1462, '7': 1463, 'pax': 1464, 'enjoyed': 1465, 'condolences': 1466, 'jc': 1467, 'georges': 1468, 'seems': 1469, 'nlikewise': 1470, 'death': 1471, 'cutting': 1472, 'give': 1473, 'kkk': 1474, 'minimum': 1475, 'sentencejust': 1476, 'wattch': 1477, 'appendix': 1478, 'purpose': 1479, 'depressed': 1480, 'alone': 1481, 'lonely': 1482, 'hurt': 1483, 'crying': 1484, 'travelfail': 1485, 'virgin': 1486, 'virginaus': 1487, 'etihad': 1488, 'delayed': 1489, 'obvs': 1490, 'tulsa': 1491, 'manufacture': 1492, 'murder': 1493, 'wonder': 1494, 'burners': 1495, 'maxlevelz': 1496, 'dehydrated': 1497, 'stressed': 1498, 'blessed': 1499, 'band': 1500, 'together': 1501, 'apart': 1502, 'nevertrump': 1503, 'promotes': 1504, 'hatred': 1505, 'fuels': 1506, 'live': 1507, 'footy': 1508, 'matches': 1509, 'nbecause': 1510, 'distrust': 1511, 'argentina': 1512, 'president': 1513, 'foaming': 1514, 'hips': 1515, 'lyrics': 1516, 'must': 1517, 'poland': 1518, 'understand': 1519, 'concerns': 1520, 'contributions': 1521, 'snakes': 1522, 'bet': 1523, 'bugger': 1524, 'hands': 1525, 'huckfp2': 1526, 'fmf': 1527, 'protesters': 1528, 'arent': 1529, 'interested': 1530, 'reasoned': 1531, 'debate': 1532, 'intimidation': 1533, 'violence': 1534, 'disruption': 1535, 'demands': 1536, 'met': 1537, 'lunatic': 1538, 'asylum': 1539, 'flourishes': 1540, 'damn': 1541, 'gud': 1542, 'premiere': 1543, 'lethalweaponfunny': 1544, 'appears': 1545, 'alarm': 1546, 'disapproves': 1547, 'cooking': 1548, 'style': 1549, 'city': 1550, 'round': 1551, 'election': 1552, 'presidentialdebate': 1553, 'presidentialelection2016': 1554, 'orangehitler': 1555, 'skip': 1556, 'hide': 1557, 'coward': 1558, 'wrapped': 1559, 'fluffy': 1560, 'blanket': 1561, 'incense': 1562, 'listening': 1563, 'bon': 1564, 'iver': 1565, 'drinking': 1566, 'mulled': 1567, 'petition': 1568, 'nonmaghrebi': 1569, 'poc': 1570, 'buying': 1571, 'couscous': 1572, 'white': 1573, 'grocery': 1574, 'boiling': 1575, 'trash': 1576, 'ceremony': 1577, 'involve': 1578, 'possibly': 1579, 'booze': 1580, 'andor': 1581, 'caffeine': 1582, 'dear': 1583, 'please': 1584, 'bus': 1585, 'drivers': 1586, 'obstruction': 1587, 'oncoming': 1588, 'traffic': 1589, 'causing': 1590, 'vehs': 1591, 'swerve': 1592, 'alternate': 1593, 'section': 1594, 'poems': 1595, 'cheery': 1596, 'thumbs': 1597, 'disappointed': 1598, 'suggest': 1599, 'meal': 1600, 'beans': 1601, 'onions': 1602, 'garlic': 1603, 'highly': 1604, 'looking': 1605, 'online': 1606, 'company': 1607, 'help': 1608, 'send': 1609, 'package': 1610, 'overseasdo': 1611, 'ever': 1612, 'use': 1613, 'began': 1614, 'squirm': 1615, 'beneath': 1616, 'struggling': 1617, 'grasp': 1618, 'realized': 1619, 'useless': 1620, 'reflect': 1621, 'reginald': 1622, 'denny': 1623, 'night': 1624, 'charlotte': 1625, 'gun': 1626, 'lobby': 1627, 'stuartspecial': 1628, 'literally': 1629, 'yelled': 1630, 'umbrage': 1631, 'mail': 1632, 'justvery': 1633, 'pleasing': 1634, 'doe': 1635, 'opposite': 1636, 'walk': 1637, 'cliff': 1638, 'k': 1639, 'pto': 1640, 'doneeeee': 1641, 'sees': 1642, 'difficulty': 1643, 'opportunity': 1644, 'sir': 1645, 'winston': 1646, 'churchill': 1647, 'ian': 1648, 'knew': 1649, 'pavel': 1650, 'charlie': 1651, 'rob': 1652, 'cackle': 1653, 'thearchers': 1654, 'constipation': 1655, 'issues': 1656, 'dates': 1657, 'relieve': 1658, 'affliction': 1659, 'jose': 1660, 'smh': 1661, 'remove': 1662, 'ideologically': 1663, 'bankrupt': 1664, 'opportunistic': 1665, 'establishment': 1666, 'bridges': 1667, 'social': 1668, 'contracts': 1669, 'xt': 1670, 'nova': 1671, 'hole': 1672, 'unga': 1673, 'clearly': 1674, 'shows': 1675, 'cowardliness': 1676, 'blatant': 1677, 'lies': 1678, 'act': 1679, 'upon': 1680, 'aqw': 1681, 'shouldve': 1682, '08': 1683, 'art': 1684, 'competition': 1685, 'detailed': 1686, 'party': 1687, 'slowly': 1688, 'transformed': 1689, 'hellcult': 1690, 'male': 1691, 'kirbys': 1692, 'panther': 1693, 'cool': 1694, 'animated': 1695, 'panel': 1696, 'fight': 1697, 'elephants': 1698, 'wrestled': 1699, 'pigs': 1700, 'quoteoftheday': 1701, 'flat': 1702, 'instantly': 1703, 'bollocked': 1704, 'betelgeusesloth': 1705, 'dedicated': 1706, 'tenacious': 1707, 'regulusgreed': 1708, 'humbly': 1709, 'content': 1710, 'leygluttony': 1711, 'starving': 1712, 'hungry': 1713, 'ldf16': 1714, 'shall': 1715, 'weekend': 1716, 'spraypainting': 1717, 'greenwichmarket': 1718, 'core246': 1719, 'lilylou': 1720, 'fret': 1721, 'benoakley': 1722, 'free': 1723, 'wanna': 1724, 'tree': 1725, 'isnsure': 1726, 'clouded': 1727, 'haunt': 1728, 'cringe': 1729, 'frown': 1730, 'gave': 1731, 'osama': 1732, 'bin': 1733, 'laden': 1734, 'dangerous': 1735, 'heaven': 1736, 'declare': 1737, 'gadot': 1738, 'signal': 1739, 'williams': 1740, 'ivan': 1741, 'allen': 1742, 'jr': 1743, 'blvd': 1744, 'atltraffic': 1745, 'feed': 1746, 'naay': 1747, 'filling': 1748, 'gaps': 1749, 'haikuchallenge': 1750, 'haikunnthe': 1751, 'crisp': 1752, 'airnmy': 1753, 'freedom': 1754, 'purchased': 1755, 'deathnno': 1756, 'towards': 1757, 'parents': 1758, 'offi': 1759, 'nooneunderstands': 1760, 'provoke': 1761, 'punching': 1762, 'board': 1763, 'karev': 1764, 'unfair': 1765, 'ugh': 1766, 'theyll': 1767, 'glass': 1768, 'bill': 1769, 'november': 1770, 'horrid': 1771, 'chavs': 1772, 'terrific': 1773, 'fazed': 1774, 'mcfc': 1775, 'fucked': 1776, 'coupon': 1777, 'reflection': 1778, 'grind': 1779, 'real': 1780, 'jobs': 1781, 'ksudsm': 1782, 'ksu': 1783, 'recruiter': 1784, 'instructor': 1785, 'tumble': 1786, 'gradschool': 1787, 'aberdeen': 1788, 'st': 1789, 'johnstone': 1790, 'lets': 1791, 'punt': 1792, 'furthest': 1793, 'stumbling': 1794, 'block': 1795, 'stepping': 1796, 'joey': 1797, 'helps': 1798, 'unproductive': 1799, 'deal': 1800, 'videos': 1801, 'badly': 1802, 'encounter': 1803, 'tribez': 1804, 'castlez': 1805, 'bartolomeo': 1806, 'download': 1807, 'yes': 1808, 'exactly': 1809, 'sold': 1810, 'lying': 1811, '3am': 1812, 'sleep': 1813, 'took': 1814, 'useallthehotwatershower': 1815, 'read': 1816, 'tip': 1817, 'passenger': 1818, '25': 1819, 'parking': 1820, 'ticket': 1821, 'blame': 1822, 'karma': 1823, 'pay': 1824, 'meter': 1825, 'awestruck': 1826, 'david': 1827, 'gilmours': 1828, 'biggest': 1829, 'compliment': 1830, 'bb': 1831, 'asked': 1832, 'gig': 1833, 'born': 1834, 'mississippi': 1835, 'pinkfloyd': 1836, 'theblues': 1837, 'davidgilmour': 1838, 'celtic': 1839, 'missing': 1840, 'alloa': 1841, 'sucker': 1842, 'punch': 1843, 'growing': 1844, 'threw': 1845, 'sedate': 1846, 'horse': 1847, 'tranquilizer': 1848, 'stupid': 1849, 'intel': 1850, 'faux': 1851, 'admire': 1852, 'fears': 1853, 'incurable': 1854, 'stds': 1855, 'pregnancyi': 1856, 'basically': 1857, 'forlife': 1858, 'annoying': 1859, 'weirdsmells': 1860, 'howl': 1861, 'moon': 1862, 'wednesday': 1863, '28th': 1864, 'double': 1865, 'feature': 1866, 'silver': 1867, 'bullet': 1868, 'cursed': 1869, 'blankets': 1870, 'hoody': 1871, 'eternal': 1872, 'sunshine': 1873, 'usual': 1874, 'cheat': 1875, 'nnshameless': 1876, 'depth': 1877, 'sunk': 1878, 'readership': 1879, 'exhilarating': 1880, 'hockey': 1881, 'russia': 1882, 'wins': 1883, 'regulation': 1884, 'reading': 1885, 'fuck': 1886, 'da': 1887, 'gump': 1888, 'rapper': 1889, 'projection': 1890, 'perception': 1891, 'else': 1892, 'level': 1893, 'die': 1894, 'donation': 1895, 'lives': 1896, 'certified': 1897, 'consumate': 1898, 'diplomat': 1899, 'tunnels': 1900, 'shudder': 1901, 'grimy': 1902, 'tweets': 1903, 'disneys': 1904, '1994': 1905, 'musical': 1906, 'film': 1907, 'thelionking': 1908, 'influenced': 1909, 'williamshakespeares': 1910, 'hamlet': 1911, 'songs': 1912, 'eltonjohn': 1913, 'finish': 1914, 'netflix': 1915, 'series': 1916, 'tired': 1917, 'telling': 1918, 'aa': 1919, 'passage': 1920, 'insult': 1921, 'church': 1922, 'ignorant': 1923, 'sadly': 1924, 'often': 1925, 'factor': 1926, 'jump': 1927, 'growth': 1928, 'rudely': 1929, 'inner': 1930, 'feminist': 1931, 'tries': 1932, 'animals': 1933, 'animalsntrap': 1934, 'trap': 1935, 'till': 1936, 'cage': 1937, 'fullnthe': 1938, 'stay': 1939, 'awakenin': 1940, 'count': 1941, 'mistakes': 1942, 'slow': 1943, 'mighty': 1944, 'rules': 1945, 'spirit': 1946, 'takes': 1947, 'citynp1632': 1948, 'bibleverse': 1949, 'million': 1950, 'box': 1951, 'office': 1952, 'movie': 1953, 'political': 1954, 'snowdenmovie': 1955, 'thriller': 1956, 'story': 1957, 'upping': 1958, 'rooms': 1959, 'apprehend': 1960, 'charcoal': 1961, 'ownership': 1962, 'unzu': 1963, 'yeah': 1964, 'received': 1965, 'fine': 1966, 'currently': 1967, 'appealing': 1968, 'member': 1969, 'grudge': 1970, 'keeps': 1971, 'appearance': 1972, 'shock': 1973, 'handicap': 1974, 'dodger': 1975, 'close': 1976, 'agg': 1977, 'cup': 1978, 'pressure': 1979, 'girly': 1980, 'lashes': 1981, 'nails': 1982, 'tomboy': 1983, 'color': 1984, 'refuse': 1985, 'ruffle': 1986, 'harboring': 1987, 'relationship': 1988, 'haqqani': 1989, 'network': 1990, 'evidence': 1991, 'prove': 1992, 'sponsoring': 1993, 'juggle': 1994, 'balls': 1995, 'itnfunny': 1996, 'pun': 1997, 'punny': 1998, 'naked': 1999, 'wrestling': 2000, 'jaymohrsports': 2001, 'staystrong': 2002, 'yourebeautiful': 2003, 'damper': 2004, 'xrays': 2005, 'kickinnnnn': 2006, 'breath': 2007, 'concept': 2008, 'gay': 2009, 'magazine': 2010, 'voices': 2011, 'cries': 2012, 'noh': 2013, 'mefind': 2014, 'nwe': 2015, 'sullen': 2016, 'misty': 2017, 'moor': 2018, 'provoking': 2019, 'leads': 2020, 'happenedvery': 2021, 'migraine': 2022, 'hangover': 2023, 'stood': 2024, 'dishes': 2025, 'gad': 2026, 'chronic': 2027, 'pain': 2028, 'hour': 2029, 'football': 2030, 'practice': 2031, 'sun': 2032, '2hr': 2033, 'volleyball': 2034, 'open': 2035, 'empire': 2036, 'bae': 2037, 'tambourines': 2038, 'ceased': 2039, 'noise': 2040, 'jubilant': 2041, 'stopped': 2042, 'lyre': 2043, 'isaiah': 2044, '248': 2045, 'boyfriend': 2046, 'forcibly': 2047, 'coping': 2048, 'methods': 2049, 'forcing': 2050, 'ended': 2051, 'paying': 2052, '75p': 2053, 'half': 2054, 'tube': 2055, 'smarties': 2056, 'pleasure': 2057, 'popping': 2058, 'plastic': 2059, 'lid': 2060, 'internet': 2061, 'proportion': 2062, 'assume': 2063, 'facts': 2064, 'knowledge': 2065, 'naive': 2066, 'ou': 2067, 'rooney': 2068, 'whipping': 2069, 'boy': 2070, 'mufc': 2071, 'coffee': 2072, 'espresso': 2073, 'youll': 2074, 'keys': 2075, 'obamalegacy': 2076, 'weekly': 2077, 'riots': 2078, 'gt400k': 2079, 'dead': 2080, 'syrians': 2081, 'jews': 2082, 'fleeing': 2083, 'persecution': 2084, 'europe': 2085, 'christian': 2086, 'drop': 2087, 'names': 2088, 'swap': 2089, 'pics': 2090, 'lestweforget': 2091, '2013': 2092, 'graduate': 2093, 'trainee': 2094, 'recruitment': 2095, 'concluded': 2096, 'wewait': 2097, 'omg': 2098, 'bc': 2099, 'eng': 2100, 'uhh': 2101, 'meee': 2102, 'lil': 2103, 'chicken': 2104, 'moreisbetter': 2105, 'android': 2106, 'app': 2107, 'designed': 2108, 'buggy': 2109, 'sporadically': 2110, 'voke': 2111, 'badi': 2112, 'fearing': 2113, 'courting': 2114, 'deception': 2115, 'customer': 2116, 'services': 2117, 'eventually': 2118, 'completely': 2119, 'wash': 2120, 'dreamornightmare': 2121, 'massiah': 2122, 'youngleadernpakistan': 2123, 'pretentious': 2124, 'dick': 2125, 'gallery': 2126, 'towel': 2127, 'flight': 2128, 'swear': 2129, 'flying': 2130, 'easyjet': 2131, 'alwaysdelayed': 2132, 'hear': 2133, 'customers': 2134, 'truth': 2135, 'counterfeit': 2136, 'berl': 2137, 'katznelson': 2138, 'gran': 2139, 'rawhide': 2140, 'deep': 2141, 'baritone': 2142, 'egyptian': 2143, 'officials': 2144, 'frustration': 2145, 'obamahillary': 2146, 'administrations': 2147, 'support': 2148, 'brotherhood': 2149, 'banking': 2150, 'stocks': 2151, 'highs': 2152, 'benchmarks': 2153, 'markets': 2154, 'batman': 2155, 'gift': 2156, 'animation': 2157, 'gods': 2158, 'control': 2159, 'avoidmmt': 2160, 'impress': 2161, 'depress': 2162, 'care': 2163, 'gotham': 2164, 'mid': 2165, 'racism': 2166, 'lest': 2167, 'racists': 2168, 'indeed': 2169, 'alex': 2170, 'revells': 2171, 'gets': 2172, 'dread': 2173, 'dirtypeople': 2174, 'following': 2175, 'unintentional': 2176, 'addition': 2177, 'fiction': 2178, 'research': 2179, 'paper': 2180, 'semester': 2181, '1520': 2182, 'pages': 2183, 'daunting': 2184, 'headline': 2185, 'indicates': 2186, 'lock': 2187, 'throw': 2188, 'key': 2189, 'devoid': 2190, 'taco': 2191, 'bowls': 2192, 'holiday': 2193, 'flights': 2194, 'becoming': 2195, 'john': 2196, 'kerry': 2197, 'fckd': 2198, 'uchief': 2199, 'justiceofpak': 2200, 'statement': 2201, 'publicly': 2202, 'needterrorstatepak': 2203, 'jeezus': 2204, 'prisoned': 2205, 'pick': 2206, 'energy': 2207, 'r': 2208, 'present': 2209, 'front': 2210, 'severe': 2211, 'checked': 2212, 'imediately': 2213, 'impact': 2214, 'engineers': 2215, 'resolved': 2216, 'evening': 2217, 'absolute': 2218, 'laughed': 2219, 'wtf': 2220, 'united': 2221, 'defending': 2222, 'amateurs': 2223, 'sit': 2224, 'inspiration': 2225, 'authors': 2226, 'writingtip': 2227, 'jesus': 2228, 'wept': 2229, 'rns': 2230, 'rusty': 2231, 'price': 2232, 'sensitive': 2233, 'news': 2234, 'etc': 2235, 'ramping': 2236, 'perfume': 2237, 'smells': 2238, 'smell': 2239, 'smokey': 2240, 'personally': 2241, 'liked': 2242, 'ourhouse': 2243, 'onejersey': 2244, 'werealldevilsinside': 2245, 'ndoes': 2246, 'puck': 2247, 'drops': 2248, 'njdevils': 2249, 'scorpio': 2250, 'lmao': 2251, 'appropriate': 2252, 'secretary': 2253, 'permanent': 2254, 'mission': 2255, 'tasked': 2256, 'demolition': 2257, 'renunciation': 2258, 'meden': 2259, 'frowning': 2260, 'dwts': 2261, 'arrive': 2262, 'festival': 2263, 'hid': 2264, 'sober': 2265, 'anywhere': 2266, 'yo': 2267, 'friend': 2268, 'kick': 2269, 'door': 2270, 'thas': 2271, 'darker': 2272, 'hoco': 2273, 'instagram': 2274, 'dm': 2275, 'maturity': 2276, 'grade': 2277, 'attract': 2278, 'shouldnt': 2279, 'relocate': 2280, 'digging': 2281, 'eyebrows': 2282, 'taurus': 2283, 'females': 2284, 'sparkling': 2285, 'jewels': 2286, 'glowing': 2287, 'moonlight': 2288, 'bigots': 2289, 'resort': 2290, 'fag': 2291, 'bigot': 2292, 'dad': 2293, 'tie': 2294, 'nowadays': 2295, 'easily': 2296, 'jogging': 2297, 'beside': 2298, 'puffing': 2299, 'cheeks': 2300, 'jeez': 2301, 'jasper': 2302, 'defend': 2303, 'belt': 2304, 'aldo': 2305, 'hard': 2306, 'moping': 2307, 'emotional': 2308, 'weakness': 2309, 'cb': 2310, 'somehow': 2311, 'screw': 2312, 'bandaid': 2313, 'booty': 2314, 'theyve': 2315, '12': 2316, 'whaaaat': 2317, 'jealous': 2318, 'conflicted': 2319, 'evaluation': 2320, 'minimally': 2321, 'effective': 2322, 'scores': 2323, 'parcc': 2324, 'eval': 2325, 'quit': 2326, 'teaching': 2327, 'majority': 2328, 'cba': 2329, 'ahahah': 2330, 'southpark20': 2331, 'southpark': 2332, 'decision': 2333, 'promise': 2334, 'wisewords': 2335, 'american': 2336, 'training': 2337, 'calculated': 2338, 'trample': 2339, 'dignity': 2340, 'inflame': 2341, 'escalate': 2342, 'confrontations': 2343, 'dhoni': 2344, 'bcoz': 2345, 'calmness': 2346, 'match': 2347, 'finishers': 2348, 'proud': 2349, 'miltirian': 2350, 'dadhusband': 2351, 'wonderful': 2352, 'humanbeing': 2353, 'voting': 2354, 'push': 2355, 'pieces': 2356, 'toddler': 2357, 'wreck': 2358, 'everybody': 2359, 'rare': 2360, 'officer': 2361, 'shoots': 2362, 'regard': 2363, 'conscience': 2364, 'incite': 2365, 'tf': 2366, 'boys': 2367, 'tryna': 2368, 'gfs': 2369, 'fuckin': 2370, 'smack': 2371, 'bitchass': 2372, '2be': 2373, 'deserve': 2374, 'crashes': 2375, 'twice': 2376, 'shower': 2377, 'goes': 2378, 'creepy': 2379, 'blood': 2380, 'mucus': 2381, 'chokes': 2382, 'swallow': 2383, 'cut': 2384, 'answer': 2385, 'awkward': 2386, 'movements': 2387, 'moving': 2388, 'sugar': 2389, 'daddy': 2390, 'niggas': 2391, 'data': 2392, 'text': 2393, 'service': 2394, 'express': 2395, 'emotions': 2396, 'others': 2397, 'lead': 2398, 'loneliness': 2399, 'neg': 2400, 'term': 2401, 'mh': 2402, 'heartbreaking': 2403, 'happen': 2404, 'teampaella': 2405, 'presents': 2406, 'fi': 2407, 'saturday': 2408, 'medicine': 2409, 'crushed': 2410, 'dries': 2411, 'bones': 2412, 'wicked': 2413, 'accepts': 2414, 'bribe': 2415, 'secret': 2416, 'pervert': 2417, 'effects': 2418, 'disrespect': 2419, 'ignoring': 2420, 'dontcare': 2421, 'welfarereform': 2422, 'model': 2423, 'science': 2424, 'milk': 2425, 'cashew': 2426, 'hemp': 2427, 'pine': 2428, 'nut': 2429, 'dandelion': 2430, 'draw': 2431, 'hat': 2432, 'daily': 2433, 'personality': 2434, 'drugged': 2435, 'yeller': 2436, 'quiet': 2437, 'screamer': 2438, 'isis': 2439, 'references': 2440, 'scrubbed': 2441, 'complaint': 2442, 'suspect': 2443, 'nyc': 2444, 'nj': 2445, 'bombings': 2446, 'omit': 2447, 'bloody': 2448, 'journ': 2449, 'dc': 2450, 'moonshinesociety': 2451, 'loft': 2452, '1030pm': 2453, 'espn': 2454, 'assumed': 2455, 'magazines': 2456, 'third': 2457, 'year': 2458, 'english': 2459, 'written': 2460, 'essay': 2461, 'itnevergoes': 2462, 'sjw': 2463, 'downni': 2464, 'usni': 2465, 'inni': 2466, 'lolnsergiosarzedo': 2467, 'clayton': 2468, 'homes': 2469, 'commercial': 2470, 'yuuuhh': 2471, 'clin': 2472, 'prevmed': 2473, 'ugghhh': 2474, 'hahaha': 2475, 'disease': 2476, 'maternal': 2477, 'grandmother': 2478, 'sisters': 2479, 'suffered': 2480, 'chicks': 2481, 'forget': 2482, 'praying': 2483, 'lord': 2484, 'jealousy': 2485, 'sign': 2486, 'conciseness': 2487, 'loving': 2488, 'challenge': 2489, 'map': 2490, 'stayunstoppable': 2491, 'touch': 2492, 'simple': 2493, 'chat': 2494, 'sleepfull': 2495, 'sleepless': 2496, 'insomnia': 2497, 'notfair': 2498, 'helpful': 2499, 'sorting': 2500, 'asap': 2501, 'promising': 2502, 'maintain': 2503, 'boost': 2504, 'status': 2505, 'culture': 2506, 'tolerance': 2507, 'hungary': 2508, 'huffed': 2509, 'crossed': 2510, 'arms': 2511, 'apparently': 2512, 'contact': 2513, 'sofas': 2514, 'meant': 2515, 'ones': 2516, 'floor': 2517, 'nearly': 2518, 'tatinof': 2519, 'crowds': 2520, 'tate': 2521, 'willows': 2522, 'badger': 2523, 'congratulations': 2524, 'activated': 2525, 'charges': 2526, '3480': 2527, 'cop': 2528, 'reason': 2529, 'able': 2530, 'merk': 2531, 'jeepers': 2532, 'creepers': 2533, 'epic': 2534, 'horrormoviesarebest': 2535, 'horrorfilm': 2536, 'tho': 2537, 'talked': 2538, 'jeff': 2539, 'jeffrey': 2540, 'second': 2541, '45': 2542, 'dollar': 2543, 'whose': 2544, 'constantly': 2545, 'twitching': 2546, 'eye': 2547, 'lololol': 2548, 'smiling': 2549, 'photograph': 2550, 'secrets': 2551, 'behind': 2552, 'smiles': 2553, 'facta': 2554, 'maine': 2555, 'grapefruit': 2556, 'squash': 2557, 'gonenot': 2558, 'disturbed': 2559, 'humorous': 2560, 'worries': 2561, 'masters': 2562, 'haddon': 2563, 'robinson': 2564, 'jesusisthesubject': 2565, 'anxious': 2566, 'masks': 2567, 'cannot': 2568, 'james': 2569, 'baldwin': 2570, 'wouldnt': 2571, 'issuesif': 2572, 'issuesthink': 2573, 'pow': 2574, 'confusion': 2575, 'juror': 2576, 'michelle': 2577, 'nicoles': 2578, 'threat': 2579, 'bb18': 2580, 'cam': 2581, 'newton': 2582, 'position': 2583, 'shouting': 2584, 'optimistnyoure': 2585, 'emptyheaded': 2586, 'nyoure': 2587, 'enliven': 2588, 'ourgirl': 2589, 'brewer': 2590, 'rush': 2591, 'train': 2592, '4min': 2593, 'sweating': 2594, 'smrtruinslives': 2595, 'works': 2596, 'british': 2597, 'landscape': 2598, 'desolate': 2599, 'wasteland': 2600, 'ok': 2601, 'ten': 2602, 'interesting': 2603, 'particular': 2604, 'afternoon': 2605, 'goofballs': 2606, 'neighborhood': 2607, 'enoughisenough': 2608, 'ehhh': 2609, 'laughing': 2610, 'boss': 2611, 'likes': 2612, 'stand': 2613, 'shark': 2614, 'maliciously': 2615, 'gleeful': 2616, 'ask': 2617, 'loud': 2618, 'creaking': 2619, 'kitchen': 2620, 'doors': 2621, 'creak': 2622, 'acid': 2623, 'harm': 2624, 'vessel': 2625, 'stored': 2626, 'poured': 2627, 'nnmark': 2628, 'determine': 2629, 'cause': 2630, '80': 2631, 'shitty': 2632, 'cod': 2633, 'offering': 2634, '6': 2635, 'moth': 2636, 'warranty': 2637, 'ps4pro': 2638, 'ripoff': 2639, 'diver': 2640, 'named': 2641, 'steele': 2642, 'johnson': 2643, 'barred': 2644, 'olympics': 2645, 'restless': 2646, 'gas': 2647, 'respect': 2648, 'rudeness': 2649, 'boxes': 2650, 'search': 2651, 'google': 2652, 'chrome': 2653, 'distracting': 2654, 'wake': 2655, 'scroll': 2656, 'media': 2657, 'father': 2658, 'everyday': 2659, 'keithlamontscott': 2660, 'buzzing': 2661, 'pathetically': 2662, 'sympathy': 2663, 'twirl': 2664, 'moustache': 2665, 'chuckle': 2666, 'psychowasp': 2667, 'surrounded': 2668, 'voters': 2669, 'terrifying': 2670, 'redstate': 2671, 'democracy': 2672, 'workn': 2673, 'mob': 2674, 'mentality': 2675, 'mass': 2676, 'hysteria': 2677, 'mongering': 2678, 'oligarchy': 2679, 'lingys': 2680, '14': 2681, 'red': 2682, 'pretendinghesok': 2683, 'ruok': 2684, 'aflcatsswans': 2685, 'emoticon': 2686, 'ya': 2687, 'idea': 2688, 'gtlt': 2689, 'called': 2690, 'vehicle': 2691, 'jumped': 2692, 'disgusted': 2693, 'welcome': 2694, 'ji': 2695, 'words': 2696, 'tiger': 2697, 'mosquitoes': 2698, 'aggressive': 2699, 'dealt': 2700, 'kid': 2701, 'goddamn': 2702, 'headache': 2703, '5live': 2704, 'cancelled': 2705, 'programs': 2706, 'allow': 2707, 'extend': 2708, '606': 2709, 'detail': 2710, 'behaviour': 2711, 'smackdown': 2712, 'men': 2713, 'sohurt': 2714, 'lmfao': 2715, 'racepimp': 2716, 'tamron': 2717, 'hall': 2718, 'fscts': 2719, 'msnbc': 2720, 'sentence': 2721, 'libtard': 2722, 'biasedmedia': 2723, 'neverhillary': 2724, 'caught': 2725, 'ealingcomedies': 2726, 'infectious': 2727, 'clip': 2728, 'rangers': 2729, 'v': 2730, 'unless': 2731, 'figuring': 2732, 'wtvr': 2733, 'interviews': 2734, 'crap': 2735, 'imagined': 2736, 'kissed': 2737, 'w': 2738, 'gabe': 2739, 'hot': 2740, 'chipotle': 2741, 'near': 2742, 'campus': 2743, '100': 2744, 'ghandi': 2745, 'forced': 2746, 'flinch': 2747, 'litigious': 2748, 'exec': 2749, 'complaints': 2750, 'journey': 2751, 'ghost': 2752, 'stefano': 2753, 'reflects': 2754, 'indignity': 2755, 'murdered': 2756, 'corrupt': 2757, 'cops': 2758, 'days': 2759, 'bullshit': 2760, 'fullofshit': 2761, 'garbage': 2762, 'speaking': 2763, 'hijack': 2764, 'convo': 2765, 'lgbt': 2766, 'shameful': 2767, 'display': 2768, 'reeling': 2769, 'dt': 2770, 'exploding': 2771, 'clowns': 2772, 'celebrated': 2773, 'obama': 2774, 'nation': 2775, 'brothers': 2776, 'reparations': 2777, 'offend': 2778, 'weird': 2779, 'hammer': 2780, 'universal': 2781, 'modifier': 2782, 'verification': 2783, 'email': 2784, 'decent': 2785, 'referees': 2786, 'salon': 2787, 'light': 2788, 'nif': 2789, 'candy': 2790, 'corn': 2791, 'greatest': 2792, 'objectively': 2793, 'sherri': 2794, 'martel': 2795, 'conversation': 2796, 'hun': 2797, 'avoid': 2798, 'grown': 2799, 'drink': 2800, 'drank': 2801, 'raised': 2802, 'alcoholic': 2803, 'parts': 2804, '69th': 2805, 'haunting': 2806, 'writing': 2807, 'etates': 2808, 'brought': 2809, 'islamexposed': 2810, 'islambacon': 2811, 'creativity': 2812, 'breaths': 2813, 'depending': 2814, 'regular': 2815, 'varies': 2816, 'honorable': 2817, 'senator': 2818, 'cease': 2819, 'professor': 2820, 'introduce': 2821, 'factnnhi': 2822, 'ethan': 2823, 'engulf': 2824, 'planet': 2825, 'explosion': 2826, 'ignored': 2827, 'tooth': 2828, 'abscess': 2829, 'dentist': 2830, 'go45': 2831, 'pizza': 2832, 'hut': 2833, 'commercials': 2834, 'hooked': 2835, 'recommended': 2836, 'tiff': 2837, 'followers': 2838, 'main': 2839, 'stage': 2840, 'sunday': 2841, 'oct': 2842, '330': 2843, 'jazzholiday': 2844, 'riesbrothers': 2845, 'jam': 2846, 'megan': 2847, 'kendall': 2848, 'jenner': 2849, 'photo': 2850, 'sat': 2851, 'barrier': 2852, 'plug': 2853, 'overnight': 2854, 'usatoday': 2855, 'folk': 2856, 'thistle': 2857, 'paul': 2858, 'edwards': 2859, 'quartet': 2860, 'laurel': 2861, 'bank': 2862, 'park': 2863, '24': 2864, '11am': 2865, '3pm': 2866, 'jazz': 2867, 'haha': 2868, 'trust': 2869, 'generally': 2870, 'press': 2871, 'bgoodthepoet': 2872, 'prayforme': 2873, 'thisisagoddream': 2874, 'career': 2875, 'heartracing': 2876, 'motivate': 2877, 'everytime': 2878, 'de': 2879, 'philosopher': 2880, 'dj': 2881, 'kyos': 2882, 'nquote': 2883, 'success': 2884, 'csgo': 2885, 'roomndeveloping': 2886, 'madness': 2887, 'convinced': 2888, 'warning': 2889, 'insecure': 2890, 'baby': 2891, 'large': 2892, 'ignore': 2893, 'literallythe': 2894, 'beyond': 2895, 'kit': 2896, 'nike': 2897, 'damnnit': 2898, '1400': 2899, 'pts': 2900, 'chiefs': 2901, 'rewards': 2902, 'post': 2903, 'canada': 2904, 'rn': 2905, 'nno': 2906, 'wrath': 2907, 'bastards': 2908, 'smutty': 2909, 'raped': 2910, 'barb': 2911, 'consenting': 2912, 'yay': 2913, 'rt': 2914, 'intense': 2915, 'playing': 2916, 'christmas': 2917, 'winter': 2918, 'chart': 2919, 'mom': 2920, 'narley': 2921, 'cried': 2922, 'trailers': 2923, 'clock': 2924, 'ringing': 2925, 'flatmate': 2926, 'knocked': 2927, 'set': 2928, 'alive': 2929, 'overwhelming': 2930, 'pass': 2931, 'lonley': 2932, 'startingover': 2933, 'far': 2934, 'courseprogress': 2935, 'sake': 2936, 'progress': 2937, 'substance': 2938, 'rhetoric': 2939, 'confiaejce': 2940, 'wrongpeter': 2941, 'mcintyre': 2942, 'tay': 2943, 'aint': 2944, 'houvsne': 2945, 'igotbetterthingstodotonightthandie': 2946, 'harking': 2947, '2012': 2948, 'dts': 2949, 'givedt': 2950, 'hearty': 2951, 'youif': 2952, 'release': 2953, 'tax': 2954, 'returns': 2955, 'wolfcreek': 2956, 'sponsored': 2957, 'antitourist': 2958, 'australia': 2959, 'discourage': 2960, 'stayathome': 2961, 'dontvisit': 2962, 'shame': 2963, 'matters': 2964, 'different': 2965, 'sixth': 2966, 'form': 2967, 'oppressive': 2968, 'architecture': 2969, 'uninteresting': 2970, 'updates': 2971, 'income': 2972, 'trivial': 2973, 'expansion': 2974, 'gear': 2975, 'thoroughly': 2976, 'enjoying': 2977, 'ahs': 2978, 'americanhorrorstory': 2979, 'ethic': 2980, 'players': 2981, 'stifled': 2982, 'laziness': 2983, 'points': 2984, 'hugeletdown': 2985, 'identify': 2986, 'valid': 2987, 'feminists': 2988, 'lack': 2989, 'finale': 2990, 'xbox': 2991, 'bundle': 2992, 'physical': 2993, 'copy': 2994, 'code': 2995, 'cold': 2996, 'childood': 2997, 'underlie': 2998, 'extremely': 2999, 'obnoxious': 3000, 'aldub62ndweeksary': 3001, 'normalized': 3002, 'frog': 3003, 'pot': 3004, 'via': 3005, 'bradangelina': 3006, 'complain': 3007, 'rile': 3008, 'stfuuu': 3009, 'fur': 3010, 'pal': 3011, 'moses': 3012, 'basket': 3013, 'case': 3014, 'ntoday': 3015, 'choose': 3016, 'faith': 3017, 'evil': 3018, 'cronies': 3019, 'intelligencegovacademia': 3020, 'using': 3021, 'blithe': 3022, 'fodder': 3023, 'headed': 3024, 'mdw': 3025, 'layover': 3026, 'slc': 3027, 'food': 3028, 'bailed': 3029, 'barely': 3030, 'wannagetaway': 3031, 'contest': 3032, 'tbh': 3033, 'mode': 3034, 'fifa': 3035, '17': 3036, 'goodnnbillclinton': 3037, 'library': 3038, 'pile': 3039, 'reservations': 3040, 'collect': 3041, 'books': 3042, 'teamnicole': 3043, 'avatar': 3044, 'emblem': 3045, 'revelation': 3046, 'ideas': 3047, 'gender': 3048, 'emotion': 3049, 'quinns': 3050, 'motivations': 3051, 'proving': 3052, 'motivationalquotes': 3053, 'terrorstatepak': 3054, 'struggle': 3055, 'youarestrong': 3056, 'youarearising': 3057, 'nana': 3058, '4': 3059, 'freshman': 3060, 'priority': 3061, 'list': 3062, 'outraged': 3063, 'animalrights': 3064, 'abortion': 3065, 'pupper': 3066, 'gordon': 3067, 'ref': 3068, 'fan': 3069, 'ripshawtylo': 3070, 'thinking': 3071, 'dying': 3072, 'peanut': 3073, 'butter': 3074, 'patti': 3075, 'stamped': 3076, 'ran': 3077, 'sofa': 3078, 'plenty': 3079, 'affectionmore': 3080, 'offense': 3081, 'joy': 3082, 'realizing': 3083, 'reaper': 3084, 'became': 3085, 'wiki': 3086, 'thru': 3087, 'comics': 3088, 'shorts': 3089, 'lads': 3090, 'betterwithsinnfein': 3091, 'whahibbi': 3092, 'sect': 3093, 'synonymous': 3094, 'rape': 3095, '13': 3096, 'rides': 3097, 'stressful': 3098, 'whether': 3099, 'gabriella': 3100, 'troy': 3101, 'hsm2': 3102, 'strong': 3103, 'firmly': 3104, 'grope': 3105, 'thighs': 3106, 'squeezing': 3107, 'extract': 3108, 'rojo': 3109, 'fab': 3110, 'screencant': 3111, 'evolve': 3112, 'toy': 3113, 'kurt': 3114, 'anti': 3115, 'allo': 3116, 'spam': 3117, 'messaging': 3118, 'launching': 3119, 'encryption': 3120, 'default': 3121, 'halfway': 3122, 'realize': 3123, 'underwearits': 3124, 'mombrain': 3125, 'toomuchgoingon': 3126, 'longday': 3127, '72': 3128, 'collegekills': 3129, 'aliens': 3130, 'zombie': 3131, 'gore': 3132, 'slash': 3133, 'sith': 3134, 'hateful': 3135, 'guilty': 3136, 'zika': 3137, 'hoax': 3138, 'files': 3139, 'deet': 3140, 'binary': 3141, 'chemical': 3142, 'weapon': 3143, 'targeting': 3144, 'toxin': 3145, 'neurological': 3146, 'uscitizens': 3147, 'insect': 3148, 'mammal': 3149, 'pencil': 3150, 'wheres': 3151, 'nominated': 3152, 'donations': 3153, 'nations': 3154, 'goddamnthe': 3155, 'draft': 3156, 'classic': 3157, 'asleep': 3158, 'fml': 3159, 'sleeplessnight': 3160, 'verb': 3161, 'villaseor': 3162, 'contacts': 3163, 'anymore': 3164, 'waitingforexplanation': 3165, 'marcus': 3166, 'player': 3167, 'toasting': 3168, 'bastard': 3169, 'bcwinechat': 3170, 'common': 3171, 'method': 3172, 'comfort': 3173, 'zone': 3174, 'ngo': 3175, 'risksnface': 3176, 'nnthis': 3177, 'happennncpd': 3178, 'gate': 3179, 'idiosyncrasies': 3180, 'analyzing': 3181, 'situationnbanobee': 3182, 'teens': 3183, 'sons': 3184, 'haircuts': 3185, 'storm': 3186, 'safely': 3187, 'terencecrutcher': 3188, 'hannah': 3189, 'mournful': 3190, 'chill': 3191, 'reverse': 3192, 'woods': 3193, 'parked': 3194, 'fever': 3195, 'sarcasmnhopefully': 3196, 'tomorrownbut': 3197, 'doubt': 3198, 'pessimism': 3199, 'populace': 3200, 'held': 3201, 'coercion': 3202, 'uniform': 3203, 'per': 3204, 'se': 3205, 'chelsea': 3206, 'trumps': 3207, 'base': 3208, 'needs': 3209, 'overseer': 3210, 'itnjoyannreid': 3211, 'radio': 3212, 'mutli': 3213, 'directional': 3214, 'mike': 3215, 'sound': 3216, 'cheap': 3217, 'mixing': 3218, '27': 3219, 'controversies': 3220, 'candidate': 3221, 'conductor': 3222, 'obviously': 3223, 'grief': 3224, 'sounds': 3225, 'apologising': 3226, 'mostly': 3227, 'except': 3228, 'synthetic': 3229, 'testosterone': 3230, 'bits': 3231, 'sexist': 3232, 'la': 3233, 'helium': 3234, 'issue': 3235, 'ipca': 3236, 'indulges': 3237, 'stopcruelty': 3238, 'yoif': 3239, 'horoscopes': 3240, 'clue': 3241, 'meghan': 3242, 'keyboard': 3243, 'fundamentals': 3244, 'ii': 3245, 'classical': 3246, 'majors': 3247, 'luckybad': 3248, 'pitcherswhateverelkracken': 3249, 'legit': 3250, 'gottawearshades': 3251, 'letsgoyankees': 3252, 'uploaded': 3253, 'file': 3254, 'needed': 3255, 'university': 3256, 'servers': 3257, 'cursing': 3258, 'hmu': 3259, 'surprising': 3260, 'offer': 3261, 'sacrifice': 3262, 'leopard': 3263, 'spots': 3264, '85': 3265, 'generation': 3266, 'genless': 3267, 'tribe': 3268, 'survivor': 3269, 'soles': 3270, 'mum': 3271, 'curry': 3272, 'finn': 3273, 'spying': 3274, 'scenes': 3275, 'hello': 3276, 'stange': 3277, 'fans': 3278, 'hows': 3279, 'followme': 3280, 'followback': 3281, 'queue': 3282, 'loos': 3283, 'sexism': 3284, 'runs': 3285, 'fuel': 3286, 'whining': 3287, 'nnu': 3288, 'jst': 3289, 'hv': 3290, 'observantnhar': 3291, 'din': 3292, 'rona': 3293, 'dhona': 3294, 'nhappy': 3295, 'nfunny': 3296, 'lived': 3297, 'forest': 3298, 'blinddogradio': 3299, 'east': 3300, 'durban': 3301, 'africa': 3302, 'surfed': 3303, 'stung': 3304, 'carefulla': 3305, 'sav': 3306, 'tells': 3307, 'responds': 3308, 'defining': 3309, 'terms': 3310, 'opposition': 3311, 'ie': 3312, 'mirror': 3313, 'phenomena': 3314, 'mistake': 3315, 'dudes': 3316, 'bass': 3317, 'cbs': 3318, 'access': 3319, 'feeds': 3320, 'vic': 3321, 'afp': 3322, 'paulshould': 3323, 'imo': 3324, 'raining': 3325, 'ashland': 3326, 'oregon': 3327, 'weve': 3328, 'parched': 3329, 'fall': 3330, 'plants': 3331, 'seed': 3332, 'renewtherivalry': 3333, 'imyourdaddy': 3334, 'cantbeatme': 3335, 'tater': 3336, 'mindfulness': 3337, 'plz': 3338, 'share': 3339, 'personal': 3340, 'animosity': 3341, 'presentnow': 3342, 'magnified': 3343, 'bigotryracism': 3344, 'talks': 3345, 'carried': 3346, 'mouth': 3347, 'stinks': 3348, 'birthdayyyyyy': 3349, 'curse': 3350, 'gears': 3351, 'drawing': 3352, 'gideon': 3353, 'skinny': 3354, 'a3': 3355, 'underlying': 3356, 'occassionally': 3357, '22': 3358, 'tabitha': 3359, 'barbs': 3360, 'violent': 3361, 'upgrade': 3362, 'options': 3363, 'helping': 3364, 'aaaaarrrrgghhh': 3365, 'iwanttocancel': 3366, 'scariest': 3367, 'daytime': 3368, 'frightened': 3369, 'added': 3370, 'walker': 3371, 'spends': 3372, 'dashboard': 3373, 'humor': 3374, 'problems': 3375, 'unbelievable': 3376, 'running': 3377, 'buses': 3378, 'solate': 3379, 'supporter': 3380, 'prejudice': 3381, 'disabled': 3382, 'disabledlivesmatter': 3383, 'bbcnews': 3384, 'skynews': 3385, 'jail': 3386, 'hurts': 3387, 'recorded': 3388, 'blaming': 3389, 'idiots': 3390, 'putting': 3391, 'middle': 3392, 'tantrums': 3393, 'noooo': 3394, 'nomorehammocks': 3395, 'dilated': 3396, 'thousand': 3397, 'dragons': 3398, 'randomly': 3399, 'across': 3400, 'breaking': 3401, 'hives': 3402, 'finals': 3403, 'sucks': 3404, 'qampa': 3405, 'christie': 3406, 'fr': 3407, 'dardanella': 3408, 'knowing': 3409, 'poorthings': 3410, 'elder': 3411, 'community': 3412, 'assignment': 3413, 'apprehensive': 3414, 'alarms': 3415, 'campaign': 3416, 'slogan': 3417, 'ideai': 3418, 'trump2016': 3419, 'yourefired': 3420, 'deflect': 3421, 'teeth': 3422, 'sooked': 3423, 'smokeys': 3424, 'laugh': 3425, 'rueful': 3426, 'thenicebot': 3427, 'wsjnordics': 3428, 'ef': 3429, 'whichever': 3430, 'butt': 3431, 'wipe': 3432, 'pulled': 3433, 'davis': 3434, 'pissed': 3435, 'upset': 3436, 'hangry': 3437, 'jimmy': 3438, 'carr': 3439, 'shiver': 3440, 'suspension': 3441, 'reactivate': 3442, 'violated': 3443, 'troles': 3444, 'blanchardstown': 3445, 'figured': 3446, 'marks': 3447, 'spencers': 3448, 'rockefeller': 3449, 'reinstate': 3450, 'longer': 3451, 'engineer': 3452, 'roho': 3453, 'needa': 3454, 'excuse': 3455, 'harder': 3456, 'np': 3457, 'rum': 3458, 'lie': 3459, 'offalonehugots': 3460, 'hyped': 3461, 'abt': 3462, 'hang': 3463, 'jb': 3464, 'hates': 3465, 'supporters': 3466, 'chirp': 3467, 'minded': 3468, 'pandering': 3469, 'liberals': 3470, 'icing': 3471, 'cake': 3472, 'cross': 3473, 'street': 3474, 'piss': 3475, 'server': 3476, 'dire': 3477, 'respond': 3478, 'fays': 3479, 'wifl': 3480, 'gif': 3481, 'ring': 3482, 'bob': 3483, 'skittles': 3484, 'analogy': 3485, 'internationaldayofpeace': 3486, 'supremacists': 3487, 'terrorize': 3488, 'differing': 3489, 'cultures': 3490, 'continue': 3491, 'offline': 3492, 'candices': 3493, 'preposterous': 3494, 'jack': 3495, 'nicholsons': 3496, 'joker': 3497, 'bake': 3498, 'ntfcvmufc': 3499, 'walking': 3500, 'members': 3501, 'guns': 3502, '75': 3503, 'tierney': 3504, 'reaches': 3505, 'defence': 3506, 'clear': 3507, 'day1st': 3508, 'falli': 3509, 'firstdayoffall': 3510, 'goodbyesummer': 3511, 'bathingsuitsforever': 3512, 'untypical': 3513, 'fell': 3514, 'hffffhj': 3515, 'midnight': 3516, 'banging': 3517, 'cases': 3518, 'edinburgh': 3519, 'nosleep': 3520, '5am': 3521, 'riding': 3522, 'cab': 3523, 'homen': 3524, 'belly': 3525, 'bigger': 3526, 'bodyn': 3527, 'preggyn': 3528, 'song': 3529, 'youd': 3530, 'rather': 3531, 'silence': 3532, 'symmetry': 3533, 'aesthetically': 3534, 'twin': 3535, 'pistols': 3536, 'deaththekid': 3537, 'bot': 3538, 'soninlaws': 3539, 'prosecutionimprisonment': 3540, 'throws': 3541, 'recording': 3542, 'fnaf': 3543, 'facetime': 3544, 'pitched': 3545, 'scream': 3546, 'suchagirl': 3547, 'irritation': 3548, 'ship': 3549, 'canon': 3550, 'buckynat': 3551, 'clintwanda': 3552, 'ornaments': 3553, 'spektar': 3554, 'panda': 3555, 'eyed': 3556, 'jaunty': 3557, 'jaws': 3558, 'contactless': 3559, 'kart': 3560, 'regarding': 3561, 'psychological': 3562, 'xbeujgb': 3563, 'explain': 3564, 'trayvon': 3565, 'sandrabland': 3566, 'philando': 3567, 'ferguson': 3568, 'batonrouge': 3569, 'michaelbrown': 3570, 'escapeescape': 3571, 'whatthis': 3572, 'corrupted': 3573, 'worldthis': 3574, 'jokethis': 3575, 'stresswe': 3576, 'vacation': 3577, 'ovet': 3578, 'nnorthcarolina': 3579, 'homeaway': 3580, 'deptch': 3581, 'invalid': 3582, 'glitch': 3583, 'reopen': 3584, 'happens': 3585, 'peoples': 3586, 'votes': 3587, 'reach': 3588, 'bilal': 3589, 'abood': 3590, 'iraq': 3591, 'immigrant': 3592, 'mesquite': 3593, 'texas': 3594, 'sentenced': 3595, '48': 3596, 'feds': 3597, 'banger': 3598, 'doings': 3599, 'alias': 3600, 'kzfqr': 3601, 'empathetic': 3602, 'plain': 3603, 'insensitive': 3604, 'alarming': 3605, 'degree': 3606, 'nawazsharif': 3607, 'indianarmedforces': 3608, 'target': 3609, 'bases': 3610, 'interference': 3611, 'coaches': 3612, 'coached': 3613, 'jumpstreet': 3614, 'intimidated': 3615, 'floofeli': 3616, 'mother': 3617, 'knows': 3618, 'beneeds': 3619, 'apple': 3620, 'pastels': 3621, 'catscutie': 3622, 'pie': 3623, 'penny': 3624, 'balloons': 3625, 'goodday': 3626, 'podcasts': 3627, 'yvr': 3628, 'missyou': 3629, 'pic': 3630, 'initially': 3631, 'parentsthat': 3632, 'indifference': 3633, 'implies': 3634, 'ew': 3635, 'injustice': 3636, 'smash': 3637, 'neighbours': 3638, 'charlotteprotest': 3639, 'abundance': 3640, 'lit': 3641, 'mischief': 3642, 'true': 3643, 'appalling': 3644, 'faulty': 3645, 'dryer': 3646, 'replacement': 3647, 'breaks': 3648, 'wks': 3649, 'nicole': 3650, 'beat': 3651, 'bbfinale': 3652, 'jury': 3653, 'baaarissshhhhh': 3654, 'prefect': 3655, 'hesitate': 3656, 'constipated': 3657, 'individual': 3658, 'leo': 3659, 'pushing': 3660, 'limits': 3661, 'autumnalequinox': 3662, 'lights': 3663, 'showroom': 3664, 'wirral': 3665, 'hijacked': 3666, 'argument': 3667, 'ban': 3668, 'rocky': 3669, 'remake': 3670, 'unlimited': 3671, 'gleegoodbye': 3672, 'glasgow': 3673, 'prebooked': 3674, 'taxi': 3675, 'drove': 3676, 'concerned': 3677, 'pakistans': 3678, 'internal': 3679, 'affairs': 3680, 'policyterroristnation': 3681, 'plan': 3682, 'childrenofmennncages': 3683, 'refugees': 3684, 'cuz': 3685, 'later': 3686, 'reporter': 3687, 'preordered': 3688, 'pale': 3689, 'freaked': 3690, 'fundraisers': 3691, 'cunt': 3692, 'bald': 3693, 'mates': 3694, 'indiamissingindira': 3695, 'solve': 3696, 'kashmir': 3697, 'kept': 3698, 'banknterrorstatepak': 3699, 'controls': 3700, 'difficulties': 3701, 'overcome': 3702, 'cheryl': 3703, 'janecky': 3704, 'chattering': 3705, 'body': 3706, 'trembling': 3707, 'went': 3708, 'fam': 3709, 'packing': 3710, 'staying': 3711, 'schneiderlin': 3712, 'fouls': 3713, 'x': 3714, 'cuddling': 3715, 'kills': 3716, 'relieves': 3717, 'strengthens': 3718, 'immune': 3719, 'varsity': 3720, 'expected': 3721, 'admitting': 3722, 'cantstoplaughing': 3723, 'spokeword': 3724, 'quentin': 3725, 'letts': 3726, 'comedy': 3727, 'turns': 3728, 'bbctw': 3729, 'franglaise': 3730, 'land': 3731, 'bradford': 3732, 'convenient': 3733, 'flybe': 3734, 'travelers': 3735, 'idiot': 3736, 'likethis': 3737, 'fcking': 3738, 'meanrikonabot': 3739, 'numb': 3740, 'lip': 3741, 'pete': 3742, 'burns': 3743, 'enjoy': 3744, 'nigga': 3745, 'uhhhhh': 3746, 'fearful': 3747, 'imbecilesinterpretingall': 3748, 'lmboo': 3749, 'nephew': 3750, 'meme': 3751, 'irate': 3752, 'checkin': 3753, 'seat': 3754, 'assigned': 3755, 'event': 3756, 'ready': 3757, 'travel': 3758, 'lake': 3759, 'glows': 3760, 'similar': 3761, 'hitler': 3762, 'preached': 3763, 'germany': 3764, 'srpt': 3765, 'etep': 3766, 'patients': 3767, 'moms': 3768, 'advocate': 3769, 'drug': 3770, 'anyone': 3771, 'mds': 3772, 'adcomm': 3773, 'vip': 3774, 'tickets': 3775, 'famous': 3776, 'funniest': 3777, 'funsville': 3778, 'whoa': 3779, 'younger': 3780, 'matt': 3781, 'study': 3782, 'provocation': 3783, 'abusive': 3784, 'confident': 3785, 'yearsour': 3786, 'frustrated': 3787, 'closer': 3788, 'ripping': 3789, 'luthansa': 3790, '400': 3791, 'frk': 3792, 'bag': 3793, 'canadian': 3794, 'lag': 3795, 'fixthisgame': 3796, 'sfvrefund': 3797, 'gahhbt': 3798, 'bt': 3799, 'sport': 3800, 'dept': 3801, 'cancel': 3802, 'host': 3803, 'monster': 3804, 'view': 3805, 'stuck': 3806, 'roof': 3807, 'provides': 3808, 'sheer': 3809, 'falling': 3810, 'super': 3811, 'bronzy': 3812, 'glowy': 3813, 'nude': 3814, 'makeup': 3815, 'programme': 3816, 'extremeworld': 3817, 'checking': 3818, 'todaynncoffee': 3819, 'nnthursday': 3820, 'bring': 3821, 'screaming': 3822, 'rattatas': 3823, 'pokemongo': 3824, 'disconnected': 3825, 'whilst': 3826, 'october': 3827, 'donald': 3828, 'extra': 3829, 'hed': 3830, 'conservative': 3831, 'faded': 3832, 'brendons': 3833, 'video': 3834, 'devotee': 3835, 'shook': 3836, 'anniversary': 3837, 'update': 3838, '1607': 3839, 'complete': 3840, 'cashier': 3841, 'returning': 3842, 'item': 3843, 'slacking': 3844, 'halloween': 3845, 'hauntedattraction': 3846, 'squeak': 3847, 'wraps': 3848, 'clips': 3849, 'vigil': 3850, 'metropolitan': 3851, 'baptist': 3852, 'terencecruther': 3853, 'tna': 3854, 'hardyboys': 3855, 'impactonpop': 3856, 'wwe': 3857, 'itn': 3858, '50p': 3859, 'minute': 3860, 'charge': 3861, '150': 3862, 'injury': 3863, 'unruly': 3864, 'kids': 3865, '8am': 3866, 'nothanks': 3867, 'flower': 3868, 'beds': 3869, 'roots': 3870, 'yep': 3871, 'pointed': 3872, 'loathing': 3873, 'candidates': 3874, 'hi': 3875, 'dom': 3876, 'notts': 3877, 'county': 3878, 'spend': 3879, 'shimmy': 3880, 'drinks': 3881, 'taskuriattacks': 3882, 'aaahhhh': 3883, 'soothe': 3884, 'revolves': 3885, 'global': 3886, 'evrn': 3887, 'hunger': 3888, 'nawazfightsforkashmir': 3889, 'natalie': 3890, 'alliance': 3891, 'rohan': 3892, 'fond': 3893, 'maybeoneday': 3894, 'hopefullyfunny': 3895, 'fully': 3896, 'juan': 3897, 'wat': 3898, 'lecturing': 3899, 'curbing': 3900, 'chuck': 3901, 'shoutout': 3902, 'seats': 3903, 'goodbye': 3904, 'remix': 3905, 'whybw': 3906, 'terrencecrutcher': 3907, 'election2016': 3908, 'colinkapernick': 3909, '2much': 3910, 'fault': 3911, 'hangs': 3912, 'treatcustomersfairly': 3913, 'follows': 3914, 'scowl': 3915, 'pinching': 3916, 'sheets': 3917, 'giving': 3918, 'cramps': 3919, 'legs': 3920, 'cardio': 3921, 'mwahaha': 3922, 'ohio': 3923, 'etcnnthese': 3924, 'toldeo': 3925, 'nnso': 3926, 'primary': 3927, 'prescribe': 3928, 'refer': 3929, 'psychiatrist': 3930, 'mess': 3931, 'admin': 3932, 'rejects': 3933, 'vetted': 3934, 'pulls': 3935, 'fed': 3936, 'resettlement': 3937, 'program': 3938, 'aiding': 3939, 'homely': 3940, 'pure': 3941, 'gold': 3942, 'channel': 3943, 'tart': 3944, 'mary': 3945, 'sue': 3946, 'mel': 3947, 'gifs': 3948, 'ios10': 3949, 'smiled': 3950, 'rudenot': 3951, 'funnyit': 3952, 'stoppickingonwomen': 3953, 'dobetter': 3954, 'carriages': 3955, '1449': 3956, 'birmingham': 3957, 'hereford': 3958, 'commute': 3959, 'berniebrocialists': 3960, 'genders': 3961, 'swingish': 3962, 'wo': 3963, 'hesitation': 3964, 'jared': 3965, 'marry': 3966, 'snapkik': 3967, 'hiya2247': 3968, 'kik': 3969, 'kikme': 3970, 'snapme': 3971, 'horny': 3972, 'porn': 3973, 'young': 3974, 'calling': 3975, 'protection': 3976, 'ball': 3977, 'coaching': 3978, 'defense': 3979, 'overall': 3980, 'performance': 3981, 'farewell': 3982, 'tour': 3983, 'value': 3984, 'et': 3985, 'bayern': 3986, 'munich': 3987, 'pitch': 3988, 'contributing': 3989, 'society': 3990, 'lyle': 3991, 'pledge': 3992, 'petulant': 3993, 'postrump': 3994, 'goodnanxietyrelief': 3995, 'openminded': 3996, 'enrique': 3997, 'sub': 3998, 'busquet': 3999, 'ughh': 4000, 'along': 4001, 'greatdont': 4002, 'breathe': 4003, 'biting': 4004, 'tongue': 4005, 'busy': 4006, 'coding': 4007, 'manager': 4008, 'unity3d': 4009, 'steamworks': 4010, 'networking': 4011, 'gamedev': 4012, 'indiedev': 4013, '3amdeadtime': 4014, 'general': 4015, 'blowing': 4016, 'recluse': 4017, 'sht': 4018, 'caption': 4019, 'delete': 4020, 'fume': 4021, 'sending': 4022, 'cable': 4023, 'robbery': 4024, 'regret': 4025, 'tempered': 4026, 'inconsolable': 4027, 'j': 4028, 'harris': 4029, 'emphasis': 4030, 'keeping': 4031, 'guiding': 4032, 'principle': 4033, 'klitschko': 4034, 'boxing': 4035, 'schalke': 4036, 'write': 4037, 'rants': 4038, 'mention': 4039, 'pm': 4040, 'speech': 4041, 'international': 4042, 'pakis': 4043, 'stands': 4044, 'directtv': 4045, 'silent': 4046, 'classified': 4047, 'comedys': 4048, 'deserved': 4049, 'bbfail': 4050, '1975': 4051, 'antichrist': 4052, 'hustle': 4053, 'questions': 4054, 'protest': 4055, 'policeshootings': 4056, 'suggestions': 4057, 'independant': 4058, 'practical': 4059, 'fantasy': 4060, 'faster': 4061, 'mrrobot': 4062, 'krusty': 4063, 'krabnnno': 4064, 'crippling': 4065, 'australian': 4066, 'author': 4067, 'zombies': 4068, 'angels': 4069, 'vampires': 4070, 'werewolves': 4071, 'authorlove': 4072, 'bias': 4073, 'indignant': 4074, 'fancypants': 4075, 'saddlers': 4076, 'daughter': 4077, 'opt': 4078, 'leather': 4079, 'jacket': 4080, 'ampalaya': 4081, 'paitpaitanangpeg': 4082, 'apocalypse': 4083, 'gym': 4084, 'benneveryone': 4085, 'vests': 4086, 'contagious': 4087, 'clearing': 4088, 'harveys': 4089, 'belongings': 4090, 'mr': 4091, 'smithrud': 4092, 'indiansummer': 4093, 'score': 4094, 'redzone': 4095, 'lbs': 4096, 'flags': 4097, 'missed': 4098, 'td': 4099, 'dat': 4100, 'league': 4101, 'ari': 4102, 'wanttogobacktominehead': 4103, 'repdelbene': 4104, 'todays': 4105, 'proceedings': 4106, 'constituents': 4107, 'coincidentally': 4108, 'ulzanas': 4109, 'raid': 4110, 'brutally': 4111, 'filmmaking': 4112, 'idk': 4113, 'srvs': 4114, 'voodoo': 4115, 'approximately': 4116, '76': 4117, 'jimis': 4118, 'guitar': 4119, 'annoys': 4120, 'ortiz': 4121, 'tribute': 4122, 'oriole': 4123, 'organization': 4124, 'yanks': 4125, 'andriaprebles': 4126, 'testing': 4127, 'earth': 4128, 'enveloped': 4129, 'strawberry': 4130, 'scented': 4131, 'damp': 4132, 'revolting': 4133, 'cloud': 4134, 'vape': 4135, 'disgusting': 4136, 'urghh': 4137, 'brock': 4138, 'orton': 4139, 'cook': 4140, 'invaluable': 4141, 'sq': 4142, 'ft': 4143, 'wide': 4144, 'homestyle': 4145, 'egg': 4146, 'noodles': 4147, 'uplift': 4148, 'means': 4149, 'source': 4150, 'pillow': 4151, 'line': 4152, 'payet': 4153, 'jan': 4154, 'seasons': 4155, 'mo': 4156, 'reflective': 4157, 'lowest': 4158, 'chocolate': 4159, 'bender': 4160, 'steals': 4161, 'soccer': 4162, 'refuses': 4163, 'everywhere': 4164, 'tastes': 4165, 'clients': 4166, 'joined': 4167, 'pottermore': 4168, 'sorted': 4169, 'hufflepuff': 4170, 'lydiaaaa': 4171, 'blocks': 4172, 'blew': 4173, 'sexually': 4174, 'harass': 4175, 'mindblown': 4176, 'huh': 4177, 'setback': 4178, 'fright': 4179, 'madashell': 4180, 'bother': 4181, 'tweeting': 4182, 'mens': 4183, 'nwhat': 4184, 'unable': 4185, '700': 4186, 'miles': 4187, 'arrives': 4188, 'exemplary': 4189, 'loyal': 4190, 'jk': 4191, 'residentadvisor': 4192, 'poorservice': 4193, 'studios': 4194, 'wheel': 4195, 'persons': 4196, 'opinion': 4197, 'packed': 4198, 'supported': 4199, 'politeness': 4200, 'polite': 4201, 'thoughtfulthursday': 4202, 'meaning': 4203, 'placed': 4204, 'classes': 4205, 'advantage': 4206, 'discussing': 4207, 'sex': 4208, 'intermediaries': 4209, 'required': 4210, 'info': 4211, 'project': 4212, 'owner': 4213, 'mailed': 4214, 'yomy': 4215, 'name': 4216, 'darthvader': 4217, 'ni': 4218, 'puff': 4219, 'inhaler': 4220, 'bars': 4221, 'breathless': 4222, 'rap': 4223, 'flip': 4224, 'wisconsin': 4225, 'taller': 4226, 'recall': 4227, 'nnagainst': 4228, 'accrington': 4229, 'stanley': 4230, 'iphones': 4231, 'eta': 4232, 'peiyophobilia': 4233, 'devil': 4234, 'voice': 4235, 'energeticxtremly': 4236, 'foot': 4237, 'tapping': 4238, 'haww': 4239, 'nawaz': 4240, 'spoken': 4241, 'funding': 4242, 'bla': 4243, 'balochistan': 4244, 'kulbhoshan': 4245, 'yadhav': 4246, 'ttp': 4247, 'willing': 4248, 'indefensible': 4249, 'blend': 4250, 'waters': 4251, 'lienthere': 4252, 'shrines': 4253, 'melancholy': 4254, 'lienno': 4255, 'rays': 4256, 'tide': 4257, 'vine': 4258, 'depressionfree': 4259, 'relapse': 4260, 'superb': 4261, 'chewing': 4262, 'gum': 4263, 'cow': 4264, 'cycling': 4265, 'powerful': 4266, 'calves': 4267, 'horrendous': 4268, 'tan': 4269, 'lines': 4270, 'garoppolo': 4271, 'fruits': 4272, 'borderline': 4273, 'firefighting': 4274, 'building': 4275, 'voiceover': 4276, 'onto': 4277, 'fuller': 4278, 'hopkins': 4279, 'tnf': 4280, 'cookie': 4281, 'sends': 4282, 'spry': 4283, 'adventures': 4284, 'pups': 4285, 'learned': 4286, 'swim': 4287, 'denser': 4288, 'buoyant': 4289, 'swimming': 4290, 'irontekfit': 4291, 'protein': 4292, 'yoga': 4293, 'esvoxbox': 4294, 'exist': 4295, 'asktrumponequestion': 4296, 'mix': 4297, 'unpredictable': 4298, 'lethal': 4299, 'weapons': 4300, 'coordinators': 4301, 'chargers': 4302, 'boltup': 4303, 'recharged': 4304, 'atleastihavebuffy': 4305, 'spider': 4306, 'sprayed': 4307, 'movien': 4308, 'downstairs': 4309, 'ea': 4310, 'sports': 4311, 'technical': 4312, 'suprised': 4313, 'selfie': 4314, 'lovers': 4315, 'voted': 4316, 'scientist': 4317, 'builds': 4318, 'robot': 4319, 'assistant': 4320, 'tactics': 4321, 'salessickening': 4322, 'female': 4323, 'sell': 4324, 'err': 4325, '172': 4326, 'mio': 4327, 'remain': 4328, 'brexit': 4329, 'weather': 4330, 'brian': 4331, 'invite': 4332, 'burner': 4333, 'sporadic': 4334, 'wifi': 4335, 'perilous': 4336, 'cope': 4337, 'wi': 4338, 'sour': 4339, 'psycho': 4340, 'sane': 4341, 'freaks': 4342, 'cocks': 4343, 'sexy': 4344, 'harvest16': 4345, 'chopper': 4346, 'farm365': 4347, 'nonsensical': 4348, 'add': 4349, 'destroying': 4350, 'property': 4351, 'misdirected': 4352, 'mixed': 4353, 'anxietymaybe': 4354, 'missingfriends': 4355, 'growingupsucks': 4356, 'lostfriends': 4357, 'wheresthetruefriends': 4358, 'complications': 4359, 'ingrained': 4360, 'blessings': 4361, 'unlocks': 4362, 'manup': 4363, 'trudeau': 4364, 'endulging': 4365, 'preaching': 4366, 'ad': 4367, 'hominembut': 4368, 'quanitfying': 4369, 'compatibility': 4370, 'lowers': 4371, 'hedonic': 4372, 'volatility': 4373, 'multitasking': 4374, 'induce': 4375, 'seeds': 4376, 'cancelling': 4377, 'fibe': 4378, 'arrange': 4379, 'fedup': 4380, 'hospital': 4381, 'tracking': 4382, 'dancer': 4383, 'ruthann': 4384, 'magical': 4385, 'bday': 4386, 'eatcake': 4387, 'specifically': 4388, 'considered': 4389, 'enemy': 4390, 'handle': 4391, 'independent': 4392, 'disco': 4393, 'kaching': 4394, 'atm': 4395, 'false': 4396, 'matoma': 4397, 'becky': 4398, 'hill': 4399, 'magpies': 4400, 'gathering': 4401, 'swooped': 4402, 'af': 4403, 'inspire': 4404, 'ps': 4405, 'odds': 4406, 'swapping': 4407, 'neighborhoods': 4408, 'batmantelltaleseries': 4409, 'gaming': 4410, 'postcode': 4411, 'mat': 4412, 'water': 4413, 'titanwisdom': 4414, 'request': 4415, '2am': 4416, 'awhile': 4417, 'choices': 4418, 'ber': 4419, 'ncfc': 4420, 'bun': 4421, 'teach': 4422, 'scorpios': 4423, 'withdraw': 4424, 'jobinterview': 4425, 'wondered': 4426, 'angelina': 4427, 'brads': 4428, 'gon': 4429, 'sickness': 4430, 'bug': 4431, 'popularization': 4432, 'backfire': 4433, 'cinematography': 4434, 'xucqb': 4435, 'events': 4436, 'privately': 4437, 'hoping': 4438, 'cz': 4439, 'swift': 4440, 'newstrends': 4441, 'facing': 4442, 'mindshattering': 4443, 'patternsterms': 4444, 'adopt': 4445, 'gently': 4446, 'rm': 4447, 'madridistas': 4448, 'cules': 4449, 'fanbase': 4450, 'supports': 4451, 'tweeted': 4452, 'thread': 4453, 'articles': 4454, 'indignation': 4455, 'thin': 4456, 'mints': 4457, 'freezer': 4458, 'clean': 4459, 'roblox': 4460, 'termianted': 4461, 'killme': 4462, 'robloxgamer': 4463, 'shootings': 4464, 'whos': 4465, 'whenwillitstop': 4466, 'howmanymoretimes': 4467, 'fbi': 4468, 'returned': 4469, 'desire': 4470, 'apartment': 4471, 'managing': 4472, 'pontefract': 4473, 'monkhill': 4474, 'amount': 4475, 'greedy': 4476, 'mooching': 4477, 'snarl': 4478, 'bro': 4479, 'reyes': 4480, 'snarled': 4481, 'steel': 4482, 'claws': 4483, 'flexing': 4484, 'dangerously': 4485, 'uttered': 4486, 'damning': 4487, 'pundits': 4488, 'criticise': 4489, 'controlled': 4490, 'rational': 4491, 'visceralnot': 4492, 'logical': 4493, 'cave': 4494, 'glance': 4495, 'gotten': 4496, 'vas': 4497, 'ir': 4498, 'al': 4499, 'amaity': 4500, 'nose': 4501, 'chills': 4502, 'flu': 4503, 'fallsongs': 4504, 'legally': 4505, 'parody': 4506, 'accounts': 4507, 'crucial': 4508, 'important': 4509, 'pk': 4510, 'kal': 4511, 'boshan': 4512, 'raw': 4513, 'involvement': 4514, 'challenges': 4515, 'victory': 4516, 'george': 4517, 'patton': 4518, 'blissful': 4519, 'ignorance': 4520, 'wakes': 4521, 'nappy': 4522, 'marlboro': 4523, 'clutter': 4524, 'processed': 4525, 'ivebeenbusierwhyamioverwhelmed': 4526, 'hogging': 4527, 'machines': 4528, 'whypay': 4529, 'slipper': 4530, 'unfortunately': 4531, 'intelligence': 4532, 'bitches': 4533, 'sent': 4534, 'emails': 4535, 'thousands': 4536, 'clash': 4537, 'titans': 4538, 'dame': 4539, 'takeing': 4540, 'gameing': 4541, 'sadderness': 4542, 'moreofsad': 4543, 'howdoestears': 4544, 'whatislife': 4545, 'tough': 4546, 'quick': 4547, 'cats': 4548, 'motlopcowan': 4549, 'waits': 4550, 'yang': 4551, 'kittens': 4552, 'dejected': 4553, 'prospect': 4554, 'choked': 4555, 'sorta': 4556, 'patronus': 4557, 'illiteracy': 4558, 'nature': 4559, 'extent': 4560, 'agents': 4561, 'labor': 4562, 'inexpensive': 4563, 'earning': 4564, 'dreamer': 4565, 'pour': 4566, 'realise': 4567, 'boro': 4568, 'os': 4569, 'stewards': 4570, '8k': 4571, 'exam': 4572, 'failed': 4573, 'sleeping': 4574, 'wifiisp': 4575, 'rivertide': 4576, 'suites': 4577, 'seaside': 4578, 'uses': 4579, '53ms': 4580, 'ping': 4581, 'dl': 4582, 'fukc': 4583, 'spectacles': 4584, 'cloudy': 4585, 'sunny': 4586, 'ernest': 4587, 'hemingway': 4588, 'pam': 4589, 'sworn': 4590, 'hairy': 4591, 'perilsoflivingalone': 4592, 'wise': 4593, 'holdin': 4594, 'likenletting': 4595, 'somebody': 4596, 'rent': 4597, 'pissing': 4598, 'inpouring': 4599, 'letter': 4600, 'subsist': 4601, 'quaint': 4602, 'virtuoso': 4603, 'toward': 4604, 'l': 4605, 'induction': 4606, 'ruining': 4607, 'iphone': 4608, 'freaking': 4609, 'everythings': 4610, 'faking': 4611, 'nnothing': 4612, 'crosspollinate': 4613, 'deciduous': 4614, 'coniferous': 4615, 'trees': 4616, 'bloods': 4617, 'diet': 4618, 'freshly': 4619, 'grass': 4620, 'upboy': 4621, 'ooooooooh': 4622, 'uuuugggghhhhhhhhh': 4623, '500': 4624, 'royals': 4625, 'scum': 4626, 'rubbing': 4627, 'woolwich': 4628, 'jammygunnerscum': 4629, 'gameface': 4630, '18mths': 4631, 'signed': 4632, 'velocity': 4633, 'le': 4634, 'xdddd': 4635, 'loner': 4636, 'emo': 4637, 'thegreeninferno': 4638, 'headgiggledo': 4639, 'ineedtherapy': 4640, 'shirt56': 4641, 'distance': 4642, 'meters': 4643, 'jovial': 4644, 'manner': 4645, 'homie': 4646, 'werent': 4647, 'roids': 4648, 'annoy': 4649, 'teamfollowback': 4650, 'rocktheretweet': 4651, 'tonys': 4652, 'hots': 4653, 'uncooperative': 4654, 'stolen': 4655, '2014': 4656, 'mechanism': 4657, 'oops': 4658, 'french': 4659, 'plaits': 4660, 'morn': 4661, 'stroppy': 4662, 'mlb': 4663, 'futuristic': 4664, 'jersey': 4665, 'tidying': 4666, 'fs': 4667, 'gameover': 4668, 'creams': 4669, 'build': 4670, 'glutescome': 4671, 'squat': 4672, 'mos': 4673, 'miserable': 4674, 'catering': 4675, 'channels': 4676, 'height': 4677, 'technics': 4678, 'enjoyment': 4679, 'symptomatize': 4680, 'vrlfeyrn': 4681, 'bes': 4682, 'blooded': 4683, 'hoopjunkie': 4684, 'fcn': 4685, 'juz': 4686, 'destroyed': 4687, 'caller': 4688, 'max': 4689, 'listens': 4690, 'security': 4691, 'guard': 4692, 'acting': 4693, 'gangster': 4694, 'terrify': 4695, 'candice': 4696, 'candace': 4697, 'dunno': 4698, 'yorkshire': 4699, 'grounds': 4700, 'lasted': 4701, 'alton': 4702, 'towers': 4703, 'exit': 4704, 'indiansit': 4705, 'pillthat': 4706, 'number': 4707, 'cricket': 4708, 'armed': 4709, 'thug': 4710, 'record': 4711, 'carrying': 4712, 'illegally': 4713, 'jokelet': 4714, 'destroy': 4715, 'changedeven': 4716, '29': 4717, 'sisterhe': 4718, 'noheart': 4719, 'mf': 4720, 'rose': 4721, 'tinted': 4722, 'glasses': 4723, 'mood': 4724, 'modern': 4725, 'proverb': 4726, 'marriages': 4727, 'divorce': 4728, 'leg': 4729, 'scott': 4730, 'steiner': 4731, 'injuries': 4732, 'ccot': 4733, 'yessir': 4734, 'sweden': 4735, 'lundqvist': 4736, 'bakes': 4737, 'donnie': 4738, 'trumpeter': 4739, 'vapid': 4740, 'vacant': 4741, 'vile': 4742, 'viper': 4743, 'slithering': 4744, 'survived': 4745, 'spintrying': 4746, 'stairs': 4747, 'jellylegs': 4748, 'industry': 4749, 'tr': 4750, 'jungle': 4751, 'bulushi': 4752, 'taste': 4753, 'popped': 4754, 'bowl': 4755, 'processor': 4756, 'recognized': 4757, 'beings': 4758, 'cantsleep': 4759, 'greet': 4760, '250': 4761, 'nibbles': 4762, 'departing': 4763, 'inv': 4764, 'ezy864': 4765, 'refund': 4766, '81': 4767, 'scorer': 4768, 'vidar': 4769, 'kjartansson': 4770, 'dor': 4771, 'micha': 4772, 'yallamaccabi': 4773, 'asf': 4774, 'goin': 4775, 'calls': 4776, 'faced': 4777, 'automatically': 4778, 'professionalism': 4779, 'provider': 4780, 'phoneprovider': 4781, 'badbusiness': 4782, '345am': 4783, 'elouises': 4784, 'labour': 4785, 'littlesister': 4786, 'superexcited': 4787, 'nso': 4788, 'ntrump': 4789, 'fraud': 4790, 'misogynist': 4791, 'liar': 4792, 'psychopath': 4793, 'narcissist': 4794, 'conartist': 4795, 'visionnnhelen': 4796, 'kellernnbegin': 4797, 'mindnnstephen': 4798, 'coveynn': 4799, 'whereareugoing': 4800, 'nonpermissive': 4801, 'environment': 4802, 'battleground': 4803, 'milspeak': 4804, 'justly': 4805, 'elite': 4806, 'carries': 4807, 'un': 4808, 'tips': 4809, 'edge': 4810, 'agin': 4811, 'feic': 4812, 'heels': 4813, 'leeds': 4814, 'surely': 4815, 'prices': 4816, 'dismal': 4817, 'attendance': 4818, 'fucken': 4819, 'nazi': 4820, 'kingu': 4821, 'havnt': 4822, 'tyson': 4823, 'dons': 4824, 'hadnt': 4825, 'mikeandmolly': 4826, 'parallels': 4827, 'menforchoice': 4828, 'havin': 4829, 'crawls': 4830, 'bum': 4831, 'shaped': 4832, 'itsagunalright': 4833, 'momentnif': 4834, 'naturalprincesstaye': 4835, 'suicide': 4836, 'ninaturner': 4837, 'happening': 4838, 'bernblade': 4839, 'lisavikingstad': 4840, 'whispers': 4841, 'date': 4842, 'lermanletts': 4843, 'centerpiece': 4844, 'scene': 4845, 'nyquil': 4846, 'zero': 4847, 'doom': 4848, 'elections': 4849, 'verse': 4850, 'existing': 4851, 'hearts': 4852, 'families': 4853, 'retweet': 4854, 'ekg': 4855, 'actin': 4856, 'emhonestly': 4857, 'stomach': 4858, 'ere': 4859, 'disaster': 4860, 'header': 4861, 'suck': 4862, 'visited': 4863, 'physically': 4864, 'basketball': 4865, 'vegas': 4866, 'origin': 4867, 'prevelant': 4868, 'laura': 4869, 'constructive': 4870, 'criticism': 4871, 'blocked': 4872, 'lazy': 4873, 'retire': 4874, 'heather': 4875, 'hurting': 4876, 'somewhere': 4877, 'begging': 4878, 'ndreams': 4879, 'foundsits': 4880, 'andisbench': 4881, 'sotoventures': 4882, 'brand': 4883, 'tabs': 4884, 'relevant': 4885, 'detachment': 4886, 'monday': 4887, 'mbc': 4888, 'involving': 4889, 'worms': 4890, 'suffering': 4891, 'projects': 4892, 'ak47': 4893, 'spine': 4894, 'tits': 4895, 'driven': 4896, 'devon': 4897, 'ave': 4898, 'nihari': 4899, 'bare': 4900, 'junk': 4901, 'zionist': 4902, 'nimagine': 4903, 'palestinian': 4904, 'muslimnzionists': 4905, 'stealing': 4906, 'innocence': 4907, 'jewish': 4908, 'brilliant': 4909, 'joyous': 4910, 'plot': 4911, 'admits': 4912, 'unboxing': 4913, 'staten': 4914, 'island': 4915, 'ny': 4916, 'patriot': 4917, 'rookie': 4918, 'qb': 4919, 'jacoby': 4920, 'brissett': 4921, 'nitennbeen': 4922, 'learning': 4923, 'heregotta': 4924, 'hudcomedy': 4925, 'adamrowe': 4926, 'slutfaceshlongnugget': 4927, 'cleaved': 4928, 'fraction': 4929, 'pakistanmustpay': 4930, 'picture': 4931, 'smilenme': 4932, 'smilenconclusion': 4933, 'pictureday2016': 4934, 'ornot': 4935, 'physiatrists': 4936, 'stifle': 4937, 'overheard': 4938, 'comment': 4939, 'picked': 4940, 'wee': 4941, '1000s': 4942, 'solos': 4943, 'tony': 4944, 'heads': 4945, 'wanting': 4946, 'salty': 4947, 'fries': 4948, 'mcdonalds': 4949, 'fingers': 4950, 'shits': 4951, 'phil': 4952, 'webcast': 4953, 'reminds': 4954, 'journeys': 4955, 'bway': 4956, 'gershwin': 4957, 'jeans': 4958, 'pockets': 4959, 'sheikhhasina': 4960, 'urges': 4961, 'leaders': 4962, 'unroot': 4963, 'save': 4964, 'psa': 4965, 'obvious': 4966, 'furrow': 4967, 'redden': 4968, 'unattractive': 4969, 'wukongs': 4970, 'prayers': 4971, 'osler': 4972, 'lodd': 4973, 'return': 4974, 'eyematter': 4975, 'tt': 4976, 'iphone7': 4977, 'skyfall': 4978, 'boring': 4979, 'unknown': 4980, 'insta': 4981, 'soldier': 4982, 'spit': 4983, 'polish': 4984, 'converse': 4985, 'chests': 4986, 'baseball': 4987, 'caps': 4988, 'angle': 4989, 'standard': 4990, 'startasyoumeantogoon': 4991, 'inhas': 4992, 'seols': 4993, 'banter': 4994, 'rly': 4995, 'seol': 4996, 'greater': 4997, 'original': 4998, 'results': 4999, 'customerservice': 5000, '2hour': 5001, 'waittime': 5002, 'nasty': 5003, 'chilly': 5004, 'rain': 5005, 'cigar': 5006, 'four': 5007, 'congresscritters': 5008, 'nmichael': 5009, 'carrick': 5010, 'struck': 5011, 'net': 5012, 'fanz': 5013, 'mou': 5014, 'secretly': 5015, 'masculine': 5016, 'morality': 5017, 'disciplined': 5018, 'transcendent': 5019, 'pursuits': 5020, 'basic': 5021, 'astounded': 5022, 'leftover': 5023, 'cereal': 5024, 'stability': 5025, 'climatechange': 5026, 'geopolitics': 5027, 'korea': 5028, 'vwo': 5029, 'certainly': 5030, 'multitude': 5031, 'aleppo': 5032, 'syria': 5033, 'whens': 5034, 'thoughts': 5035, 'crossoverlife': 5036, 'slutty': 5037, 'hater': 5038, 'bigotry': 5039, 'shots': 5040, 'grande': 5041, 'decaf': 5042, '130': 5043, 'degrees': 5044, 'soy': 5045, 'americano': 5046, 'foam': 5047, 'barista': 5048, 'butterflies': 5049, 'anxietyproblems': 5050, 'wallah': 5051, 'nap': 5052, 'steak': 5053, 'supper': 5054, 'heated': 5055, 'penis': 5056, 'expectation': 5057, 'private': 5058, 'philanthropy': 5059, 'functional': 5060, 'government': 5061, 'servicesthis': 5062, 'meanwhile': 5063, 'killing': 5064, 'strange': 5065, 'accepted': 5066, 'worthless': 5067, 'hssu': 5068, 'wave': 5069, 'streets': 5070, 'julian': 5071, 'cassablancas': 5072, 'voidz': 5073, 'thisneeded': 5074, 'con': 5075, 'iranians': 5076, 'reaching': 5077, 'cs': 5078, 'severely': 5079, 'lacking': 5080, 'badkarma': 5081, 'witches': 5082, 'aurora': 5083, 'beauty': 5084, 'strongwomen': 5085, 'weakmen': 5086, 'wear': 5087, 'consistency': 5088, 'rough': 5089, 'loved': 5090, 'wellusing': 5091, 'slider': 5092, 'affective': 5093, 'thebabybombers': 5094, 'yankees': 5095, 'slept': 5096, 'celebrate': 5097, 'ls': 5098, 'liberal': 5099, 'nword': 5100, 'angers': 5101, 'yuppie': 5102, 'progressives': 5103, 'territorial': 5104, 'hesananimal': 5105, 'sites': 5106, 'leaned': 5107, 'ps2': 5108, '360': 5109, 'gen': 5110, 'vitriolic': 5111, 'menits': 5112, 'loves': 5113, 'meeting': 5114, 'mall': 5115, 'congrats': 5116, 'babes': 5117, 'despise': 5118, 'discipline': 5119, 'rebuke': 5120, 'disciplines': 5121, 'proverbs': 5122, '31112': 5123, 'revisiontaking': 5124, 'direction': 5125, 'endlesspossibilities': 5126, 'ik': 5127, 'min': 5128, 'stunning': 5129, 'drew': 5130, 'attn': 5131, 'toilet': 5132, 'stalls': 5133, 'cracks': 5134, 'wpaper': 5135, 'towels': 5136, 'total': 5137, 'incomprehension': 5138, 'realistic': 5139, 'probability': 5140, 'uspol': 5141, '47': 5142, 'unarmed': 5143, '2015': 5144, 'chicago': 5145, 'address': 5146, 'sensitivity': 5147, 'employees': 5148, 'vein': 5149, 'accidentally': 5150, 'small': 5151, 'click': 5152, 'cupcake': 5153, 'vehicles': 5154, 'available': 5155, 'attracted': 5156, 'madamif': 5157, 'queries': 5158, 'pr': 5159, 'departmentin': 5160, 'meantime': 5161, 'beer': 5162, 'averaging': 5163, 'topic': 5164, 'herothegreyhound': 5165, 'ebook': 5166, 'greyhound': 5167, 'kayaking': 5168, 'merriment': 5169, 'sevylor': 5170, 'inflatable': 5171, 'kayaks': 5172, 'eyggjxml': 5173, 'suspicion': 5174, '64': 5175, 'tatoos': 5176, 'athletic': 5177, 'durag': 5178, 'sylvia': 5179, 'receive': 5180, 'kisses': 5181, 'prince': 5182, 'glanced': 5183, 'garrett': 5184, 'elyse': 5185, 'hath': 5186, 'technician': 5187, 'scornednnthats': 5188, 'scratched': 5189, 'flailing': 5190, 'paws': 5191, 'excitement': 5192, 'tore': 5193, 'kitten': 5194, 'misery': 5195, 'husband': 5196, 'lemondo': 5197, 'report': 5198, 'german': 5199, 'judgelynntoler': 5200, 'specter': 5201, 'mornings': 5202, 'passport': 5203, 'texts': 5204, 'pls': 5205, 'gray': 5206, 'perspective': 5207, 'healingjustice': 5208, 'sensors': 5209, 'manages': 5210, 'timid': 5211, 'sets': 5212, 'curiosity': 5213, 'entity': 5214, 'feeding': 5215, 'quatrains': 5216, 'hmmm': 5217, 'vigilant': 5218, 'beginning': 5219, 'option': 5220, 'mentalhealth': 5221, 'complexptsd': 5222, 'whenever': 5223, 'concert': 5224, 'postponed': 5225, 'sales': 5226, 'goals': 5227, 'action': 5228, 'exact': 5229, 'emoji': 5230, 'twenty': 5231, 'concur': 5232, 'session': 5233, 'expiring': 5234, 'submit': 5235, 'grades': 5236, 'proven': 5237, 'parcel': 5238, 'store': 5239, 'poorcustomerservice': 5240, 'defensive': 5241, 'nerve': 5242, 'victim': 5243, 'pajamas': 5244, 'sweetheart': 5245, 'pause': 5246, 'nabandonment': 5247, 'fresh': 5248, 'tongues': 5249, 'snapped': 5250, 'cuddles': 5251, 'gossip': 5252, 'airport': 5253, 'couples': 5254, 'holidaytoo': 5255, 'cutehurry': 5256, 'spurs': 5257, 'commentator': 5258, 'referred': 5259, 'mauricio': 5260, 'pochettino': 5261, 'mopo': 5262, 'sudden': 5263, 'surge': 5264, 'matty': 5265, 'dawson': 5266, 'scored': 5267, 'icq': 5268, 'qualifies': 5269, 'fails': 5270, 'employment': 5271, 'noticed': 5272, 'paint': 5273, 'accomplishments': 5274, 'immediately': 5275, 'opportunities': 5276, 'nephews': 5277, 'cousins': 5278, 'nowhere': 5279, 'reports': 5280, 'sky': 5281, 'stoke': 5282, 'messageboard': 5283, 'panpiper': 5284, 'river': 5285, 'sr1': 5286, 'checkedin': 5287, 'toronto': 5288, '3d': 5289, '757': 5290, 'airplane': 5291, 'wifiridiculousamericanairlines': 5292, 'americanairlinessucks': 5293, 'aateam': 5294, 'firstworldproblems': 5295, 'chase': 5296, 'famenif': 5297, 'goingnto': 5298, 'itnwhen': 5299, 'startsnchasing': 5300, 'younwrdsmth': 5301, 'cookies': 5302, 'learn': 5303, 'viral': 5304, 'ballet': 5305, 'wrongfully': 5306, 'stick': 5307, 'models': 5308, 'pointe': 5309, 'shoes': 5310, 'jokes': 5311, 'rocklandcounty': 5312, 'ravis': 5313, 'suffern': 5314, 'chef': 5315, 'appetizer': 5316, 'requirements': 5317, 'conundrum': 5318, 'hoop': 5319, 'abysmal': 5320, 'frivolity': 5321, 'italian': 5322, 'priests': 5323, 'stupefied': 5324, 'roland': 5325, 'bainton': 5326, 'luther': 5327, 'reformationday': 5328, 'provoked': 5329, 'shape': 5330, 'owe': 5331, 'hiding': 5332, 'nlong': 5333, 'overdue': 5334, 'bang': 5335, 'brown': 5336, 'accused': 5337, 'abusing': 5338, 'gazillion': 5339, 'parrots': 5340, 'mega': 5341, 'solution': 5342, 'punish': 5343, 'criminals': 5344, 'crime': 5345, 'circle': 5346, 'confimation': 5347, 'pack': 5348, 'inbreds': 5349, 'barca': 5350, 'defeat': 5351, '98': 5352, 'trophy': 5353, 'glory': 5354, 'wptmain': 5355, 'bye': 5356, 'undifferentiated': 5357, 'otherwise': 5358, 'patent': 5359, 'closest': 5360, 'patron': 5361, 'braininess': 5362, 'lineman': 5363, 'whyanewg': 5364, 'stuffwere': 5365, 'gettin': 5366, 'situ': 5367, 'moan': 5368, 'polissnp': 5369, 'snitch': 5370, 'differs': 5371, 'culturebedifferent': 5372, '3years': 5373, 'westgate': 5374, 'nairobi': 5375, 'movienblairwitch': 5376, 'blairwitchproject': 5377, 'horrormovies': 5378, 'cn': 5379, 'planned': 5380, 'fogo': 5381, 'bottom': 5382, 'solid': 5383, 'pe': 5384, 'ratio': 5385, 'restaurant': 5386, 'fantastic': 5387, 'talent': 5388, 'quickly': 5389, 'destroyer': 5390, 'fortune': 5391, 'ramble': 5392, 'slowing': 5393, 'market': 5394, 'pinpoint': 5395, 'strengths': 5396, 'weaknesses': 5397, 'shanghais': 5398, 'chief': 5399, 'pampa': 5400, 'proper': 5401, 'dingle': 5402, 'uudqujcia': 5403, 'owned': 5404, 'public': 5405, 'govt': 5406, 'admiring': 5407, 'saga': 5408, 'devices': 5409, 'teles': 5410, 'fail': 5411, 'local': 5412, 'designatedsurvivor': 5413, 'smooth': 5414, 'chaos': 5415, 'skin': 5416, 'cardiac': 5417, 'arrest': 5418, 'finger': 5419, 'medchat': 5420, 'initiative': 5421, 'complained': 5422, 'mercy': 5423, 'sins': 5424, 'forgiveness': 5425, 'littlenmark': 5426, 'slushie': 5427, 'machine': 5428, 'livid': 5429, 'producers': 5430, 'worldwide': 5431, 'twooo': 5432, 'adventure': 5433, 'painting': 5434, 'orange': 5435, 'baker': 5436, 'careful': 5437, 'sulky': 5438, 'coach': 5439, 'yikes': 5440, 'turning': 5441, 'irrelevant': 5442, 'dyson': 5443, 'flashbacks': 5444, 'worship': 5445, 'feetnwhere': 5446, 'meetnand': 5447, 'washednby': 5448, 'streamngraham': 5449, 'kendrick': 5450, 'tesco': 5451, 'visa': 5452, 'electron': 5453, '55': 5454, 'showboating': 5455, 'gosh': 5456, 'ugly': 5457, 'sulk': 5458, 'eric': 5459, 'wince': 5460, 'huns': 5461, 'revels': 5462, 'gabriel': 5463, 'gaining': 5464, 'conciousness': 5465, 'painful': 5466, 'cybernats': 5467, 'elliot': 5468, 'friedman': 5469, 'clueless': 5470, 'kickoff': 5471, 'allows': 5472, 'jumpship': 5473, 'unprofessional': 5474, 'contacted': 5475, 'whathappenedtocustomerservice': 5476, 'although': 5477, 'reminded': 5478, 'greatness': 5479, 'ding': 5480, 'arch': 5481, 'missus': 5482, 'angryman': 5483, 'stove': 5484, 'heartsminds': 5485, 'pastor': 5486, 'feet': 5487, 'skeptical': 5488, 'official': 5489, 'charlotteriot': 5490, 'slough': 5491, 'station': 5492, 'lifeontheroad': 5493, 'typos': 5494, 'simon': 5495, 'attached': 5496, 'happppy': 5497, 'happppyyyyyy': 5498, 'happppppyyyyy': 5499, 'haaapppyyyy': 5500, 'chapter22': 5501, 'bdaygirl': 5502, 'astrosas': 5503, 'bend': 5504, 'matthew': 5505, 'parris': 5506, 'jin': 5507, 'princejinyoungday': 5508, 'happyjinyoungday': 5509, 'got7': 5510, 'marshmallows': 5511, 'alexandria': 5512, 'goddard': 5513, 'derics': 5514, 'purely': 5515, 'fishin': 5516, 'expedition': 5517, 'terencecutcher': 5518, 'onthe': 5519, 'helicopter': 5520, 'fb': 5521, 'determined': 5522, 'beasts': 5523, 'growling': 5524, 'restrained': 5525, 'hundred': 5526, 'reasons': 5527, 'quotes': 5528, 'spoke': 5529, 'crushes': 5530, 'freespeech': 5531, 'publishing': 5532, 'worldnn': 5533, 'scifi': 5534, 'p2': 5535, 'token': 5536, 'glasgowgirls': 5537, 'uproarious': 5538, 'uplifting': 5539, 'tournament': 5540, 'chair': 5541, 'award': 5542, 'closed': 5543, 'oompa': 5544, 'loompa': 5545, 'boggart': 5546, 'presidenttrump': 5547, 'loose': 5548, 'relaxationiskey': 5549, 'lately': 5550, 'donate': 5551, 'onethe': 5552, 'phedophiliac': 5553, 'constitution': 5554, 'violations': 5555, 'proposes': 5556, 'suicidal': 5557, 'vet': 5558, 'ptsd': 5559, 'century': 5560, '21st': 5561, 'irl': 5562, 'everyones': 5563, 'proactively': 5564, 'boobs': 5565, 'tatenashi': 5566, 'youtubers': 5567, 'lifes': 5568, 'cell': 5569, 'cucks': 5570, 'among': 5571, 'ranks': 5572, 'equally': 5573, 'youths': 5574, 'harambe': 5575, 'swan': 5576, 'likely': 5577, 'ashamed': 5578, 'ally': 5579, 'sacrificed': 5580, '50000': 5581, 'civilians': 5582, 'siding': 5583, 'sioux': 5584, 'valley': 5585, 'competitive': 5586, '158': 5587, 'dell': 5588, 'rapids': 5589, '138': 5590, 'twd': 5591, '8pm': 5592, 'deephouse': 5593, 'ibiza': 5594, 'fearsome': 5595, 'fawn': 5596, 'sourcenn': 5597, 'mindset': 5598, 'philosophy': 5599, 'thoughtsbecomethings': 5600, 'lifehacks': 5601, 'pleasert': 5602, 'problemsolving': 5603, 'aspect': 5604, 'evolution': 5605, 'consciousness': 5606, 'attachments': 5607, 'apathy': 5608, 'sentimentality': 5609, 'henderson': 5610, 'showing': 5611, 'leaves': 5612, 'seenitbefore': 5613, 'lions': 5614, 'rs': 5615, 'staff': 5616, 'transfer': 5617, 'speak': 5618, 'sobriety': 5619, 'thisll': 5620, 'withdrawals': 5621, 'cardiff': 5622, 'onus': 5623, 'meaindia': 5624, 'colada': 5625, 'starburst': 5626, 'wondering': 5627, 'collapses': 5628, 'heap': 5629, 'outnhow': 5630, 'senior': 5631, 'memorable': 5632, '1201': 5633, 'tumblr': 5634, 'sentient': 5635, '102': 5636, 'gn': 5637, '1203': 5638, 'shipped': 5639, 'background': 5640, 'purple': 5641, 'highlights': 5642, 'colors': 5643, 'actual': 5644, 'stranded': 5645, 'maself': 5646, 'gaff': 5647, 'divided': 5648, 'minority': 5649, 'pander': 5650, 'disgrace': 5651, 'amateur': 5652, 'figure': 5653, '0': 5654, 'q': 5655, 'japanese': 5656, 'ukip': 5657, 'prick': 5658, 'ti': 5659, 'shawty': 5660, 'lo': 5661, 'beef': 5662, 'underrated': 5663, 'hiphop': 5664, 'chockfull': 5665, 'wit': 5666, 'bravado': 5667, 'vols': 5668, 'fl': 5669, 'games': 5670, 'makingamurderer': 5671, 'brendan': 5672, 'appeal': 5673, 'documentary': 5674, 'reallife': 5675, 'frustrates': 5676, 'misplacing': 5677, 'danger': 5678, 'law': 5679, '830': 5680, 'yr7': 5681, 'assembly': 5682, 'nownnliquid': 5683, 'burn': 5684, 'sticks': 5685, 'cones': 5686, 'georgia': 5687, 'techs': 5688, 'secondary': 5689, 'marshmallow': 5690, 'drain': 5691, 'sotired': 5692, 'needtosleepforhours': 5693, 'nutella': 5694, 'nots': 5695, 'ivory': 5696, 'frozen': 5697, 'presentations': 5698, 'propensity': 5699, 'determining': 5700, 'funnyoffensive': 5701, 'tear': 5702, 'deleted': 5703, 'generations': 5704, 'mewhat': 5705, 'fuuuuuuuck': 5706, 'stageschool': 5707, 'awfulno': 5708, 'flatters': 5709, 'choice': 5710, 'slam': 5711, 'embarrassment': 5712, 'hahahah': 5713, 'lemme': 5714, 'rearrange': 5715, 'seep': 5716, 'reviews': 5717, 'precious': 5718, 'monica': 5719, 'regularly': 5720, 'dared': 5721, 'buzz': 5722, 'honey': 5723, 'hardy': 5724, 'message': 5725, 'brooke': 5726, 'gundlach': 5727, 'rounding': 5728, 'constitutional': 5729, 'safety': 5730, 'protects': 5731, 'rights': 5732, 'discriminate': 5733, 'generates': 5734, 'hatenand': 5735, 'bound': 5736, 'context': 5737, 'scottish': 5738, 'accent': 5739, 'tastings': 5740, 'whisky': 5741, 'shop': 5742, 'dufftown': 5743, 'murraymcdavid': 5744, 'drams': 5745, 'selfpromoters': 5746, 'donalds': 5747, 'nnlet': 5748, 'rehoi': 5749, 'nnnnaja': 5750, 'ngood': 5751, 'disturb': 5752, 'daydoes': 5753, 'seconds': 5754, 'hotel': 5755, 'picnic': 5756, 'lunches': 5757, 'bettertogether': 5758, 'mm': 5759, 'fashioned': 5760, 'induced': 5761, 'starved': 5762, 'def': 5763, 'drone': 5764, 'flew': 5765, 'cadres': 5766, 'src': 5767, 'deployment': 5768, 'ku': 5769, 'macom': 5770, 'inneyeballs': 5771, 'nevenmoreblind': 5772, 'cat': 5773, 'screeching': 5774, 'ummm': 5775, 'blog': 5776, 'stehr': 5777, '7thill': 5778, 'investigation': 5779, 'forthwith': 5780, 'directing': 5781, '7pm': 5782, 'forlorn': 5783, 'openly': 5784, 'antiscience': 5785, 'propaganda': 5786, 'bs': 5787, 'riggedsystem': 5788, 'oreillyfactor': 5789, 'entice': 5790, 'amen': 5791, 'deaf': 5792, 'clt': 5793, 'nc': 5794, 'childs': 5795, 'depths': 5796, 'playoffs': 5797, 'passed': 5798, 'standuptocancer': 5799, 'needhelp': 5800, 'larry': 5801, 'sanders': 5802, 'allhow': 5803, 'morons': 5804, 'judge': 5805, 'yetfu': 5806, 'thugs': 5807, 'chop': 5808, 'brutal': 5809, 'robinhoodhour': 5810, 'nn': 5811, 'bizitalk': 5812, 'bizhour': 5813, 'southyorkshire': 5814, 'mansfieldhour': 5815, 'sheffieldhour': 5816, 'nottshour': 5817, 'anytime': 5818, 'mic': 5819, 'bat': 5820, 'marblesinmouth': 5821, 'hialeshia': 5822, 'pov': 5823, 'kx4': 5824, 'casuals': 5825, 'faved': 5826, 'gag': 5827, 'eft': 5828, 'tool': 5829, 'therapistdr': 5830, 'curtis': 5831, 'allowed': 5832, 'pereira': 5833, 'biz': 5834, 'prime': 5835, 'againthis': 5836, '815': 5837, 'crashed': 5838, '2004': 5839, 'awh': 5840, 'cheese': 5841, 'lovemysleep': 5842, 'formidable': 5843, 'combination': 5844, 'nelson': 5845, 'mandela': 5846, 'hamstring': 5847, 'cramp': 5848, 'ouch': 5849, 'assault': 5850, 'corridor': 5851, 'thine': 5852, 'liveliness': 5853, 'chd': 5854, '4477': 5855, 'hav': 5856, '148': 5857, 'swines': 5858, 'weirdwednesday': 5859, 'jumpscared': 5860, 'codebrown': 5861, 'damnit': 5862, 'back2back': 5863, 'tickle': 5864, 'sacks': 5865, 'laptop': 5866, 'charger': 5867, 'battery': 5868, 'rebuild': 5869, 'couple': 5870, 'confirm': 5871, 'whatsoever': 5872, 'result': 5873, 'actors': 5874, 'divorcing': 5875, 'phew': 5876, 'albums': 5877, 'darn': 5878, 'rid': 5879, 'efl': 5880, 'aniston': 5881, 'avoided': 5882, 'isnot': 5883, 'trial': 5884, 'soywax': 5885, 'limited': 5886, 'edition': 5887, 'candles': 5888, 'latest': 5889, 'nerves': 5890, 'grinned': 5891, 'officersshould': 5892, 'wrongnnorconservative': 5893, 'caffeinean': 5894, 'sprightly': 5895, 'lengthening': 5896, 'seo': 5897, 'wgj': 5898, 'falike': 5899, 'malik': 5900, 'potential': 5901, 'fas': 5902, 'steer': 5903, 'gus': 5904, 'belief': 5905, 'treadlines': 5906, 'deadlines': 5907, 'cgi2016': 5908, 'na': 5909, 'luckii': 5910, 'screened': 5911, 'narcissistic': 5912, 'hasnt': 5913, '740am': 5914, 'shennan': 5915, 'inch': 5916, 'thick': 5917, 'beware': 5918, 'noah': 5919, 'ark': 5920, 'design': 5921, 'neighborhoodn1': 5922, 'wildn2foolsn3talk': 5923, 'wespernalson4too': 5924, 'kazinej': 5925, 'feelz': 5926, 'nominatebunkface': 5927, 'craigen': 5928, 'sutton': 5929, 'quarterback': 5930, 'wrecks': 5931, 'ether': 5932, 'ex': 5933, 'facebook': 5934, 'snuggling': 5935, 'geometry': 5936, 'ms': 5937, 'canning': 5938, 'pp': 5939, 'andrews': 5940, 'kidding': 5941, 'anu': 5942, 'firm': 5943, 'responded': 5944, 'details': 5945, 'customerexperience': 5946, 'dailyfeels': 5947, 'cd': 5948, 'rhyme': 5949, 'flow': 5950, 'kardashians': 5951, 'caste': 5952, 'village': 5953, 'dies': 5954, 'massali': 5955, 'chaudhry': 5956, 'beats': 5957, 'nicest': 5958, 'whistling': 5959, 'whistle': 5960, 'lordderply': 5961, 'yugioh': 5962, 'snowgang': 5963, 'amynicolehill12': 5964, 'princess': 5965, 'fitness': 5966, 'bodyposi': 5967, 'haircut': 5968, 'whitegirlwednesday': 5969, 'promised': 5970, 'ftw': 5971, '630': 5972, 'sleepingnsleep': 5973, 'drained': 5974, 'comedic': 5975, 'relief': 5976, 'modernfamily': 5977, 'liam': 5978, 'distant': 5979, 'wills': 5980, 'uncontrollable': 5981, 'grumbled': 5982, 'atop': 5983, 'sushi': 5984, 'stool': 5985, 'crossing': 5986, 'defiantly': 5987, 'gesture': 5988, 'simply': 5989, 'airline': 5990, 'worstairline': 5991, 'appauling': 5992, 'beyondajoke': 5993, 'wallet': 5994, 'lifeguard': 5995, 'swimmers': 5996, 'vc': 5997, 'attempted': 5998, 'suffocate': 5999, 'cushion': 6000, 'therapist': 6001, 'dance': 6002, 'liquor': 6003, 'rule': 6004, 'shamefull': 6005, 'unequal': 6006, 'worrying': 6007, 'shitworldforourkids': 6008, 'lvg': 6009, 'bribed': 6010, 'utd': 6011, 'foul': 6012, 'overtime': 6013, 'wch2016': 6014, 'writerslife': 6015, 'writerproblems': 6016, 'writer': 6017, 'gra': 6018, 'stops': 6019, 'erykah': 6020, 'badu': 6021, 'gpa': 6022, 'kin': 6023, 'average': 6024, 'dpt': 6025, 'aged': 6026, 'redundant': 6027, 'jerk': 6028, 'nyssaalghul': 6029, 'scanning': 6030, 'resting': 6031, 'elphie': 6032, 'grimmerie': 6033, 'trumpie': 6034, 'pretend': 6035, 'quarter': 6036, 'blargh': 6037, 'tokyo': 6038, 'drift': 6039, 'boutta': 6040, 'mono': 6041, 'lisa': 6042, 'ele6200': 6043, 'apps': 6044, 'logging': 6045, 'waste': 6046, 'ntime': 6047, 'underneath': 6048, 'neach': 6049, 'pierce': 6050, 'armour': 6051, 'numbness': 6052, 'mgla': 6053, 'talkin': 6054, 'petty': 6055, 'slagging': 6056, 'england': 6057, 'bringing': 6058, 'tournamentssame': 6059, 'samecrap': 6060, 'heavyheart': 6061, 'amerikkka': 6062, 'kkkops': 6063, 'laundry': 6064, 'strangers': 6065, 'dragoness': 6066, 'nostrils': 6067, 'nodded': 6068, 'engaging': 6069, 'yell': 6070, 'fuk': 6071, 'heck': 6072, 'fridge': 6073, 'knock': 6074, 'landlord': 6075, 'feathers': 6076, 'resorted': 6077, 'cryptic': 6078, 'unclecamscabin': 6079, 'electro': 6080, 'captivating': 6081, 'poetic': 6082, 'exciting': 6083, 'reached': 6084, '10k': 6085, 'ctid': 6086, 'deathand': 6087, 'mommagrendel': 6088, 'fill': 6089, 'existential': 6090, '5k': 6091, 'dirt': 6092, 'apology': 6093, 'tooi': 6094, 'writers': 6095, 'mcdanno': 6096, 'answered': 6097, 'rep': 6098, 'slice': 6099, 'dreary': 6100, 'cube': 6101, '9to5life': 6102, 'judy': 6103, 'sponsorship': 6104, 'recovery': 6105, 'cantconacon': 6106, '2020': 6107, 'interviewed': 6108, 'filmmakers': 6109, 'statements': 6110, 'journalism': 6111, 'anyyyyone': 6112, 'fest': 6113, 'otisredding': 6114, 'conduct': 6115, 'israel': 6116, 'intended': 6117, 'reaction': 6118, 'islamic': 6119, 'anonymously': 6120, 'vsvplou': 6121, 'nudes': 6122, 'amazon': 6123, 'melted': 6124, 'bash': 6125, 'pastry': 6126, 'dive': 6127, 'murky': 6128, 'pool': 6129, 'nuts': 6130, 'ultimately': 6131, 'keithscott': 6132, 'warrant': 6133, 'forgive': 6134, 'tragedy': 6135, 'lightplato': 6136, 'presidential': 6137, 'speaks': 6138, 'higher': 6139, 'peers': 6140, 'fdt16': 6141, 'tvgirl': 6142, 'melancholic': 6143, 'ooh': 6144, 'hygge': 6145, 'jasmine': 6146, 'tea': 6147, 'wick': 6148, 'flick': 6149, 'annoyance': 6150, 'foreign': 6151, 'goofy': 6152, 'pose': 6153, 'scarf': 6154, 'ima': 6155, 'failure': 6156, 'nobler': 6157, 'immodest': 6158, 'innocent': 6159, 'backyard': 6160, 'blm': 6161, 'defender': 6162, 'lewis': 6163, 'dunk': 6164, 'begun': 6165, 'neogeo': 6166, 'mexico': 6167, 'worldnntrump': 6168, 'chris': 6169, 'diss': 6170, 'track': 6171, 'drake': 6172, 'rihanna': 6173, 'chemistry': 6174, 'ending': 6175, 'nail': 6176, 'hanging': 6177, 'acrylic': 6178, 'katherine': 6179, 'faint': 6180, 'catfish': 6181, 'gooddont': 6182, 'headlines': 6183, 'trend': 6184, 'commiting': 6185, 'protestlike': 6186, 'expecting': 6187, 'frustrating': 6188, 'yal': 6189, 'outta': 6190, 'dyke': 6191, 'rarely': 6192, 'selasi': 6193, 'attitude': 6194, 'danishes': 6195, 'gerard': 6196, 'vanity': 6197, 'sizesnow': 6198, 'sizes': 6199, 'sxsevenxxs': 6200, 'corporate': 6201, 'jerks': 6202, 'lithuania': 6203, 'rant': 6204, 'drooping': 6205, 'gp': 6206, 'mooncup': 6207, 'unreliable': 6208, 'ghastly': 6209, 'hallucination': 6210, 'square': 6211, 'root': 6212, 'minus': 6213, 'samuel': 6214, 'beckett': 6215, 'knocking': 6216, 'bain': 6217, 'cash': 6218, 'pound': 6219, 'coins': 6220, 'sunbed': 6221, 'hatered': 6222, 'successful': 6223, 'places': 6224, 'moto': 6225, 'loosing': 6226, 'talented': 6227, 'rider': 6228, 'opinions': 6229, 'kg': 6230, 'glen': 6231, 'queensbury': 6232, 'route': 6233, 'morrisons': 6234, 'festooned': 6235, 'rubbish': 6236, 'piano': 6237, 'nexttt': 6238, 'fave': 6239, 'prepurchased': 6240, 'hoys': 6241, 'sooo': 6242, 'ncollege': 6243, 'brazy': 6244, 'girouds': 6245, 'beard': 6246, 'nothings': 6247, 'workingyoure': 6248, 'edgecould': 6249, 'livingjesuschristhealssavesask': 6250, 'fatloss': 6251, 'coworker': 6252, 'saddest': 6253, 'braved': 6254, 'brewing': 6255, 'desication': 6256, 'immense': 6257, 'perfection': 6258, 'oldest': 6259, 'pisses': 6260, 'kennen': 6261, 'senile': 6262, 'recently': 6263, 'attacked': 6264, 'lunch': 6265, 'dinner': 6266, 'day5': 6267, 'drowning': 6268, 'falure': 6269, '910': 6270, 'amirite': 6271, 'papercuts': 6272, 'stub': 6273, 'toe': 6274, 'secs': 6275, 'button': 6276, 'accessibility': 6277, 'nnwhen': 6278, 'innovation': 6279, 'fuckery': 6280, 'iphonephonehome': 6281, 'demon': 6282, 'guise': 6283, 'middleeast': 6284, 'zen': 6285, 'jumin': 6286, 'patience': 6287, 'spoils': 6288, 'afterlife': 6289, 'nooooooooooooooooooooo': 6290, 'lame': 6291, 'winters': 6292, 'ice': 6293, 'pictures': 6294, 'cumtribute': 6295, 'dickpic': 6296, 'cocktribute': 6297, 'wished': 6298, 'mischievous': 6299, 'kiss': 6300, 'corridors': 6301, 'nerd': 6302, 'shove': 6303, 'nickels': 6304, 'earhole': 6305, 'york': 6306, 'boxers': 6307, 'commando': 6308, 'starbucks': 6309, 'liberated': 6310, 'jolie': 6311, 'shed': 6312, 'amy': 6313, 'cal': 6314, 'holidays': 6315, 'e': 6316, 'theme': 6317, 'focusing': 6318, 'neither': 6319, 'divamagazine': 6320, 'arse': 6321, 'delhi': 6322, 'acrid': 6323, 'hypocrisy': 6324, 'pos': 6325, 'someones': 6326, 'freezing': 6327, 'crashing': 6328, 'throughout': 6329, 'rlly': 6330, 'racing': 6331, 'apologists': 6332, 'inadvertently': 6333, 'mindless': 6334, 'elphaba': 6335, 'aggravation': 6336, 'cappuccino': 6337, 'layer': 6338, 'notworth2minutes': 6339, 'pop': 6340, 'socks': 6341, 'disheartening': 6342, 'misinformation': 6343, 'invest': 6344, 'asking': 6345, 'concessions': 6346, 'shortsightedness': 6347, 'celebrities': 6348, 'violationnnterrancecrutcher': 6349, 'spar': 6350, 'hilt': 6351, 'icy': 6352, 'aaron': 6353, 'unfortunate': 6354, 'khloe': 6355, 'kardashian': 6356, 'puts': 6357, 'bbmichelle': 6358, 'besides': 6359, 'cognitive': 6360, 'dissonance': 6361, 'incident': 6362, 'leoshooting': 6363, 'separate': 6364, 'ourworld': 6365, 'morgs': 6366, 'rachel': 6367, 'pole': 6368, '5th': 6369, 'nwho': 6370, 'scent': 6371, 'roses': 6372, 'wentnto': 6373, 'orientnmummifiednin': 6374, 'rapeseed': 6375, 'oil': 6376, 'friedneating': 6377, 'offered': 6378, 'bitcoin': 6379, '630am': 6380, 'olympic': 6381, '10golds24': 6382, 'neverquit': 6383, 'dreambig': 6384, 'teamtto': 6385, 'going4gold': 6386, 'correction': 6387, '26': 6388, 'standing': 6389, 'plans': 6390, 'including': 6391, 'soooo': 6392, 'attractive': 6393, 'habit': 6394, 'brodcast': 6395, 'nfall': 6396, 'ndream': 6397, 'hero': 6398, 'donking': 6399, 'lion': 6400, 'cavalierlyplaying': 6401, 'thedemocrats': 6402, 'onision': 6403, 'thisni': 6404, 'intimate': 6405, 'christ': 6406, '418': 6407, 'cars': 6408, 'plymouth': 6409, 'whu': 6410, 'nthat': 6411, 'leastnafc': 6412, 'fox': 6413, 'dilemma': 6414, 'blaiming': 6415, 'bushes': 6416, 'endorsement': 6417, 'satan': 6418, 'becouse': 6419, 'cleanse': 6420, 'christamen': 6421, 'characteristic': 6422, 'activism': 6423, 'equity': 6424, 'revolution': 6425, 'benefit': 6426, 'backing': 6427, 'jkuvmvqxy': 6428, 'fewer': 6429, 'offerings': 6430, 'palace': 6431, 'impossible': 6432, 'error': 6433, 'approach': 6434, 'pakistani': 6435, 'martyrsnotbeggars': 6436, 'views': 6437, 'adrian': 6438, 'appear': 6439, 'pouting': 6440, 'camden': 6441, 'assistants': 6442, 'clothes': 6443, 'hangers': 6444, 'serve': 6445, 'hashtags': 6446, 'complains': 6447, 'expects': 6448, 'realist': 6449, 'adjusts': 6450, 'sails': 6451, 'arthur': 6452, 'wardnignite': 6453, 'doggies': 6454, 'barracking': 6455, 'gws': 6456, 'jags': 6457, 'beating': 6458, 'php54': 6459, 'goldmedal': 6460, 'commitmentswrongproduct': 6461, 'rioters': 6462, 'thinkingbut': 6463, 'potato': 6464, 'errrr': 6465, 'infuriating': 6466, 'entrenepuers': 6467, 'ups': 6468, 'smes': 6469, 'proactive': 6470, 'accountancy': 6471, 'crew': 6472, 'gorgeous': 6473, 'newbies': 6474, 'malice': 6475, 'siblings': 6476, 'estranged': 6477, 'misplaced': 6478, 'sleepnumber': 6479, 'unimpressive': 6480, 'worn': 6481, 'colinkaepernick': 6482, 'unjust': 6483, 'carolina': 6484, 'speakout': 6485, 'italy': 6486, 'poster': 6487, 'afaik': 6488, 'minds': 6489, 'vision': 6490, 'midst': 6491, 'createsyria': 6492, 'talkingpeace': 6493, 'buildingpeace': 6494, 'southend': 6495, 'jayme': 6496, 'rodrigo': 6497, 'duterte': 6498, 'economy': 6499, 'otherwisewho': 6500, 'apologizing': 6501, 'dex': 6502, 'pipes': 6503, 'politicians': 6504, 'vincent': 6505, 'hattrick': 6506, 'perhaps': 6507, 'azerbaijan': 6508, 'baku': 6509, 'prevent': 6510, 'armenian': 6511, 'chusssss': 6512, 'assured': 6513, 'eventual': 6514, 'destruction': 6515, 'interests': 6516, 'sherlock': 6517, 'holmes': 6518, 'coworkers': 6519, 'wardrobe': 6520, 'makeover': 6521, 'ewr': 6522, 'departure': 6523, '10am': 6524, '5pm': 6525, 'crappy': 6526, 'unitedairlines': 6527, 'bows': 6528, 'studying': 6529, 'oligodendroglioma': 6530, 'curious': 6531, 'disdain': 6532, 'crinkling': 6533, 'affection': 6534, 'ye': 6535, 'bonnie': 6536, 'belle': 6537, 'repeating': 6538, 'itselfgaa': 6539, 'dare': 6540, 'irish': 6541, 'attending': 6542, 'absurd': 6543, 'wakeupcall': 6544, 'verge': 6545, 'driving': 6546, 'dictator': 6547, 'sharia': 6548, 'polygamy': 6549, 'downing': 6550, 'vodka': 6551, 'conclusion': 6552, 'whataloadoftatif': 6553, 'uncle': 6554, 'remus': 6555, 'foh': 6556, 'theydontlikeyoueither': 6557, 'unwoke': 6558, 'reporting': 6559, 'explore': 6560, 'businesses': 6561, 'symbolizes': 6562, 'cootiesni': 6563, 'awake': 6564, 'sleepissues': 6565, 'narcolepsy': 6566, 'intensely': 6567, 'yelling': 6568, 'shutup': 6569, 'fr1005': 6570, 'ryanair': 6571, 'compensation': 6572, 'yea': 6573, 'turnovers': 6574, 'concerningoh': 6575, 'akons': 6576, 'provided': 6577, 'bantz': 6578, 'notch': 6579, 'realised': 6580, 'cisco': 6581, 'ios': 6582, 'vulnerabilities': 6583, 'announced': 6584, 'patched': 6585, 'users': 6586, 'mustard': 6587, 'hostile': 6588, 'osha': 6589, 'military': 6590, 'sanestill': 6591, 'eachother': 6592, 'tremorn': 6593, 'wrinkles': 6594, 'merely': 6595, 'owen': 6596, 'garriott': 6597, 'none': 6598, 'peeps': 6599, 'natong': 6600, 'duha': 6601, 'hermione': 6602, 'sliding': 6603, 'plate': 6604, 'ron': 6605, 'continued': 6606, 'communism': 6607, 'prevail': 6608, 'elected': 6609, 'wholly': 6610, 'reasonable': 6611, 'capo': 6612, 'juniors': 6613, 'ollafest': 6614, 'cowboys': 6615, 'decade': 6616, 'hungergamesmockingjay2': 6617, 'toomuchhype': 6618, 'mediocrity': 6619, 'assistance': 6620, 'ap': 6621, 'hw': 6622, 'advise': 6623, 'yiu': 6624, 'willxbe': 6625, 'froa': 6626, 'rig': 6627, 'unavoidable': 6628, 'kiksnapchat': 6629, 'kikmessage': 6630, 'boredaf': 6631, 'snapchatme': 6632, 'countrygirl': 6633, 'marmite': 6634, 'mfs': 6635, 'thomas': 6636, 'nervousness': 6637, 'groups': 6638, 'evident': 6639, 'igt': 6640, 'empty': 6641, 'rightnloneliness': 6642, 'aloneinthecity': 6643, 'sufc': 6644, 'marcos': 6645, 'wedding': 6646, 'stupidity': 6647, 'bf': 6648, 'hearted': 6649, 'homosexuality': 6650, 'christianity': 6651, 'foursquare': 6652, 'berry': 6653, 'kipling': 6654, 'derbyshire': 6655, 'recognise': 6656, 'freepizza': 6657, 'shambles': 6658, 'fiddle': 6659, 'stadium': 6660, 'debacle': 6661, 'tarts': 6662, 'yuk': 6663, 'happily': 6664, 'unprovoked': 6665, 'stategames': 6666, 'captain': 6667, 'shootthegerman': 6668, 'unwittingly': 6669, 'trigger': 6670, 'ferocious': 6671, 'reusable': 6672, 'temperament': 6673, 'hissyfits': 6674, 'ravenclaw': 6675, 'shouldhavebeenhufflepuff': 6676, '34': 6677, 'rhabdo': 6678, 'heres': 6679, 'metro': 6680, 'lrt': 6681, 'walterdale': 6682, 'yeg': 6683, 'inspires': 6684, 'known': 6685, 'aye': 6686, 'brief': 6687, 'window': 6688, 'hashtag': 6689, 'unsubscribed': 6690, 'avanquest': 6691, 'software': 6692, 'thursday': 6693, 'greys': 6694, 'tgit': 6695, 'illusion': 6696, 'ladygaga': 6697, 'iscalmingmysoul': 6698, 'nnhe': 6699, 'hesitantly': 6700, 'brushing': 6701, 'manga': 6702, 'overdone': 6703, 'anime': 6704, 'presidents': 6705, 'products': 6706, 'downhearted': 6707, 'consumer': 6708, 'survey': 6709, 'sum': 6710, 'ovth': 6711, 'feud': 6712, 'answers': 6713, 'tomourssuck': 6714, 'prayinsnotcancer': 6715, 'burslem': 6716, 'looooool': 6717, 'supplies': 6718, 'unfollow': 6719, 'trolled': 6720, 'trolls': 6721, 'trolling': 6722, 'caused': 6723, 'collateral': 6724, 'damage': 6725, 'bigman': 6726, 'cos': 6727, 'twat': 6728, 'comparison': 6729, 'emulate': 6730, 'israels': 6731, 'protecting': 6732, 'endorsing': 6733, 'criticize': 6734, 'era': 6735, 'shell': 6736, 'bribing': 6737, 'giggles': 6738, 'loveet': 6739, 'mild': 6740, '500k': 6741, '50k': 6742, '25k': 6743, 'shouldofvotedfornicole': 6744, 'blinders': 6745, 'youfm': 6746, 'tg': 6747, 'uk': 6748, 'artists': 6749, 'winners': 6750, 'clemvsgt': 6751, 'convicts': 6752, 'trp': 6753, 'hogs': 6754, 'tread': 6755, 'homilyhour': 6756, 'slap': 6757, 'cx': 6758, 'require': 6759, 'relate': 6760, 'lakis': 6761, 'court': 6762, 'cyprus': 6763, 'friedrich': 6764, 'nietzsche': 6765, 'friedrichnietzsche': 6766, 'marys': 6767, 'undying': 6768, 'shite': 6769, 'ct': 6770, 'onnever': 6771, 'pen': 6772, 'nffc': 6773, 'mucho': 6774, 'kate': 6775, 'lib': 6776, 'timetogrind': 6777, 'birthdays': 6778, 'countryside': 6779, 'flint': 6780, 'snores': 6781, 'tl': 6782, 'boredom': 6783, 'disgracefulesin': 6784, 'esinscountdown': 6785, 'helmannsnliterally': 6786, 'persuasion': 6787, 'awkwardly': 6788, 'pedal': 6789, 'nutter': 6790, 'especially': 6791, 'impulsive': 6792, 'thinskinned': 6793, 'critics': 6794, 'opponents': 6795, 'voxconversations': 6796, 'stans': 6797, 'kentphonicsunday': 6798, 'showers': 6799, 'aarp': 6800, 'ss': 6801, 'belies': 6802, 'cuts': 6803, 'liking': 6804, 'dis': 6805, 'tuesday': 6806, 'forth': 6807, 'rightn': 6808, 'bls': 6809, 'blake': 6810, 'expectations': 6811, 'michael': 6812, 'lia': 6813, 'scrum': 6814, 'hegemonists': 6815, 'avoiding': 6816, 'scarier': 6817, 'fade': 6818, 'saudi': 6819, 'financing': 6820, 'litany': 6821, 'namecalling': 6822, 'attention': 6823, 'noting': 6824, 'israeli': 6825, 'behaved': 6826, 'gentleman': 6827, 'primarily': 6828, 'impression': 6829, 'lessens': 6830, 'remo': 6831, 'undesirables': 6832, 'darren': 6833, 'appreciate': 6834, 'diets': 6835, 'stoked': 6836, 'label': 6837, 'exclusivity': 6838, 'believed': 6839, 'creating': 6840, 'frequenciesjanieck': 6841, 'devy': 6842, 'gestort': 6843, 'aber': 6844, 'geil': 6845, 'shoutdrive': 6846, 'struggles': 6847, 'actions': 6848, 'texting': 6849, 'flirting': 6850, 'inactive': 6851, 'macos': 6852, 'messages': 6853, 'pastelhaired': 6854, 'wawas': 6855, 'tooooo': 6856, 'squealed': 6857, 'poses': 6858, 'unacceptable': 6859, 'conditions': 6860, 'dialogueindias': 6861, 'condition': 6862, 'relentlessly': 6863, 'optimistic': 6864, 'disposition': 6865, 'grate': 6866, 'apologies': 6867, 'alan': 6868, 'duff': 6869, 'foundational': 6870, 'pablo': 6871, 'picasso': 6872, 'inspiring': 6873, 'dosomething': 6874, 'booth': 6875, 'gained': 6876, 'vibes': 6877, 'lowered': 6878, 'slightly': 6879, 'sounding': 6880, 'somewhat': 6881, 'thankyou': 6882, 'wholeworld': 6883, 'strengththey': 6884, 'humanity': 6885, 'afew': 6886, 'audio': 6887, 'affects': 6888, 'tryed': 6889, 'speechless': 6890, 'arab': 6891, 'terrorists': 6892, 'basis': 6893, 'consequence': 6894, 'hung': 6895, 'multimillionaire': 6896, 'spoiled': 6897, 'brat': 6898, 'starter': 6899, 'suffer': 6900, 'bugs': 6901, 'crawling': 6902, 'waking': 6903, 'bite': 6904, 'semi': 6905, 'auto': 6906, 'wah': 6907, 'frm': 6908, 'steam': 6909, 'port': 6910, 'vice': 6911, 'billie': 6912, 'jean': 6913, 'soundtrack': 6914, 'backtoreality': 6915, 'h3ll': 6916, 'lolnhappy': 6917, 'credentialsyou': 6918, 'litigator': 6919, 'moreno': 6920, 'trumppuppet': 6921, 'felon': 6922, 'jersey4sale': 6923, 'nigt': 6924, 'dreamt': 6925, 'menno': 6926, 'harmnjust': 6927, 'grandad': 6928, 'hometown': 6929, 'drilling': 6930, 'shift': 6931, 'twats': 6932, 'woken': 6933, 'hiring': 6934, 'gop': 6935, 'speakinh': 6936, 'termination': 6937, 'rate': 6938, '2222': 6939, 'heartbreak': 6940, 'animal': 6941, 'srry': 6942, 'cum': 6943, 'chestnutpeanutwait': 6944, 'caballero': 6945, 'beeping': 6946, 'nnurse': 6947, 'vitals': 6948, 'size': 6949, 'nwalks': 6950, 'nmatt': 6951, 'highlight': 6952, 'chuckles': 6953, 'noi': 6954, 'vivid': 6955, 'someonegt': 6956, 'noel': 6957, 'edmonds': 6958, 'reckons': 6959, 'uncertainty': 6960, 'gunna': 6961, 'div': 6962, 'leictershireaway': 6963, 'therey': 6964, 'jimmydore': 6965, 'raisingtheboss': 6966, 'oligarchs': 6967, 'appreciated': 6968, 'honesty': 6969, 'heavy': 6970, 'strike': 6971, 'thee': 6972, 'vengeance': 6973, 'poison': 6974, '600k': 6975, 'joshua': 6976, '450k': 6977, 'thrive': 6978, 'traditionalists': 6979, 'lettin': 6980, 'allergic': 6981, 'beechill': 6982, 'comfortable': 6983, 'wyd': 6984, 'reveal': 6985, 'taxes': 6986, 'immediate': 6987, 'gps': 6988, 'googlemaps': 6989, 'blondmoment': 6990, 'irritated': 6991, 'makin': 6992, 'font': 6993, 'endless': 6994, 'siguemeytesigo': 6995, 'manuellynch99': 6996, 'venezuela': 6997, 'lowe': 6998, 'browns': 6999, 'testimonies': 7000, 'jeremys': 7001, 'fellowship': 7002, 'praise': 7003, 'gospel': 7004, 'coffey1617': 7005, 'exited': 7006, 'pround': 7007, 'colleen': 7008, 'earnest': 7009, 'worryingworriedn1peter': 7010, '57nthrow': 7011, 'cares': 7012, 'youfaith': 7013, 'netizen': 7014, 'niall': 7015, 'tall': 7016, '19': 7017, 'legitimate': 7018, 'temper': 7019, 'luca': 7020, 'understands': 7021, 'fallhe': 7022, 'fumes': 7023, 'sences': 7024, 'cheerd': 7025, 'olive': 7026, 'guarded': 7027, 'rockys': 7028, 'hitting': 7029, 'southampton': 7030, 'west': 7031, 'ham': 7032, 'trends': 7033, 'threadpit': 7034, 'draftsampnow': 7035, 'mins': 7036, 'birthdayso': 7037, 'closeobut': 7038, 'hears': 7039, 'manutd': 7040, 'ticketing': 7041, 'noloyalty': 7042, 'notimpressed': 7043, 'shantosh': 7044, 'crazy': 7045, 'moaning': 7046, '7th': 7047, 'laying': 7048, 'longnmade': 7049, 'strongnfeeling': 7050, 'tallnropes': 7051, 'swinging': 7052, 'waternin': 7053, 'milton': 7054, 'disclosed': 7055, 'googling': 7056, 'cholroform': 7057, 'aghast': 7058, 'prioritise': 7059, 'profit': 7060, 'evidently': 7061, 'norms': 7062, 'lawsuit': 7063, 'nascar': 7064, 'raise': 7065, '007': 7066, 'accommodate': 7067, 'losses': 7068, 'kai': 7069, 'ridicule': 7070, 'saddness': 7071, 'afterellen': 7072, 'shitsucks': 7073, 'queen': 7074, 'bey': 7075, 'blackish': 7076, 'rollin': 7077, 'sip': 7078, 'shattering': 7079, 'souls': 7080, 'isi': 7081, 'ewu': 7082, 'lament': 7083, 'nsaddened': 7084, 'heartnso': 7085, 'nyet': 7086, 'nearnthe': 7087, 'sontough': 7088, 'scarrednthis': 7089, 'lonesomenroadnstill': 7090, 'feared': 7091, 'nnpoetry': 7092, 'poem': 7093, 'massive': 7094, 'administration': 7095, 'ignores': 7096, 'specific': 7097, 'intentional': 7098, 'intention': 7099, 'systemic': 7100, 'u20': 7101, 'rugby': 7102, 'roosters': 7103, 'nrl': 7104, 'connor': 7105, 'shitting': 7106, 'tattoo': 7107, 'daft': 7108, 'grayson': 7109, 'criminalized': 7110, 'posting': 7111, 'diesel': 7112, 'lacan': 7113, 'infants': 7114, 'reactions': 7115, 'images': 7116, 'thisbhuge': 7117, 'afford': 7118, 'vale': 7119, 'sangria': 7120, 'tantalizing': 7121, 'tapas': 7122, 'flamenco': 7123, 'minutesfromhom': 7124, 'silverlake': 7125, 'included': 7126, 'maximum': 7127, 'floated': 7128, 'stan': 7129, 'pets': 7130, 'vets': 7131, 'hungover': 7132, 'function': 7133, 'thorpe': 7134, 'welp': 7135, 'roll': 7136, 'dutch': 7137, 'stopbullying': 7138, 'eaxh': 7139, 'lovewins': 7140, 'deaths': 7141, 'widely': 7142, 'accountability': 7143, 'canceled': 7144, 'snapsinsta': 7145, 'cali': 7146, 'unbelievably': 7147, '80s': 7148, 'wavetechno': 7149, 'ot': 7150, 'pauline': 7151, 'epistles': 7152, 'countless': 7153, 'sis': 7154, 'mums': 7155, 'pjs': 7156, 'prowess': 7157, 'phenomenal': 7158, 'snow': 7159, 'pig': 7160, 'lmaooo': 7161, 'rockin': 7162, 'dylan': 7163, 'singin': 7164, 'dylans': 7165, '115th': 7166, 'lpco': 7167, 'klassic': 7168, 'classicrock': 7169, 'klassicrock': 7170, 'rocknroll': 7171, 'onlineradio': 7172, 'musician': 7173, 'instruments': 7174, 'bikes': 7175, 'bbq': 7176, 'traveling': 7177, 'reluctantly': 7178, 'biiitttccchhhhhh': 7179, 'ahsaftershow': 7180, 'mamasitas': 7181, 'hunks': 7182, 'ridge': 7183, 'wound': 7184, 'oelrichs': 7185, 'transferring': 7186, 'decisions': 7187, 'genuinely': 7188, 'pet': 7189, 'worker': 7190, 'conflict': 7191, 'honor': 7192, 'values': 7193, 'priorities': 7194, 'innerconflict': 7195, 'stars': 7196, '937': 7197, 'blames': 7198, 'principles': 7199, 'fame': 7200, 'drill': 7201, 'outthere': 7202, 'inthedark': 7203, 'eh': 7204, 'cactus': 7205, 'loser': 7206, 'wcw': 7207, 'beach': 7208, 'instinct': 7209, 'reasoning': 7210, 'fascist': 7211, 'memes': 7212, 'griffin': 7213, 'repealremove': 7214, 'direct': 7215, 'affront': 7216, 'breakfast': 7217, 'lakeside': 7218, 'goodn': 7219, 'anxietyrelief': 7220, 'ciara': 7221, 'asks': 7222, 'julie': 7223, 'jen': 7224, 'stare': 7225, 'claire': 7226, 'bolts': 7227, 'honks': 7228, '8th': 7229, 'keeptalkin': 7230, 'wreckinso': 7231, 'the40': 7232, 'brandonmanitoba': 7233, 'sharpened': 7234, '1999': 7235, 'popninto': 7236, 'annidiot': 7237, 'profiling': 7238, 'september': 7239, '1841': 7240, 'edt': 7241, 'monsoonuk': 7242, 'ordered': 7243, '10pm': 7244, 'fufill': 7245, 'uswow': 7246, 'timen': 7247, 'moretears': 7248, 'chalk': 7249, 'notation': 7250, 'entree': 7251, 'inasmuch': 7252, 'corinthian': 7253, 'drag': 7254, 'branding': 7255, 'arwuevfqv': 7256, 'slide': 7257, 'caressing': 7258, 'leaning': 7259, 'lick': 7260, 'teasing': 7261, '22000': 7262, 'massif': 7263, 'veggie': 7264, 'burgers': 7265, 'develops': 7266, 'charisma': 7267, 'coked': 7268, 'duck': 7269, 'paycheck': 7270, 'concerts': 7271, 'planning': 7272, 'estate': 7273, 'cameras': 7274, 'ankle': 7275, 'wrist': 7276, 'tapes': 7277, 'include': 7278, 'characterspecific': 7279, 'tilting': 7280, 'focused': 7281, 'overpowered': 7282, 'nerfed': 7283, 'stronger': 7284, 'ruins': 7285, 'prisoners': 7286, 'beck': 7287, 'decorations': 7288, 'ravi': 7289, 'vixx': 7290, 'unmatched': 7291, 'specialist': 7292, 'co': 7293, 'titles': 7294, 'lessons': 7295, 'skype': 7296, 'lesson': 7297, 'basslessons': 7298, 'groove': 7299, 'meaningful': 7300, 'pawn': 7301, 'chaotic': 7302, 'cock': 7303, 'noseriously': 7304, 'thus': 7305, 'begins': 7306, 'nholiday': 7307, 'ghastinoir': 7308, 'locks': 7309, 'contention': 7310, 'hosting': 7311, 'favorites': 7312, 'toofaced': 7313, 'perched': 7314, 'chains': 7315, 'log': 7316, 'ig': 7317, 'wouldve': 7318, 'archie': 7319, 'approaching': 7320, 'antiracism': 7321, 'futile': 7322, 'promote': 7323, 'battlefield': 7324, 'mlo': 7325, 'wantsnnthis': 7326, 'furyhaney': 7327, 'showcase': 7328, 'frisco': 7329, 'tx': 7330, 'kgb': 7331, 'gtown': 7332, 'cas': 7333, 'bear': 7334, 'savvy': 7335, 'gain': 7336, 'selfhelp': 7337, 'leafyszerker': 7338, 'justsaying': 7339, '500thtest': 7340, 't20': 7341, 'odi': 7342, 'hitter': 7343, 'crickets': 7344, 'idol': 7345, 'shutupphilsimms': 7346, 'togetherbreak': 7347, 'uphave': 7348, 'affairslet': 7349, 'vids': 7350, 'slip': 7351, 'outfightect': 7352, 'ratings': 7353, 'thief': 7354, 'investigated': 7355, 'financial': 7356, 'theft': 7357, 'retirement': 7358, 'funds': 7359, 'therapists': 7360, 'spread': 7361, 'pundit': 7362, 'noclue': 7363, 'ampamp': 7364, 'ta': 7365, 'icantholdmybreaththatlong': 7366, 'inglorious': 7367, 'distinguished': 7368, 'auction': 7369, 'joviality': 7370, 'touching': 7371, 'advance': 7372, 'vawyzad': 7373, 'bloke': 7374, 'loudly': 7375, 'compelling': 7376, 'blockade': 7377, 'yemen': 7378, 'bbc': 7379, 'dosomethingpoliticans': 7380, 'broad': 7381, 'nnyeah': 7382, 'nnpursing': 7383, 'expression': 7384, 'nnaviataube': 7385, 'pitt': 7386, 'trashy': 7387, 'modicum': 7388, 'dirty': 7389, 'lane': 7390, 'witness': 7391, 'debuts': 7392, 'backbone': 7393, 'coys': 7394, 'kenny': 7395, 'bornnme': 7396, 'washingtonnkenny': 7397, 'pits': 7398, 'buck': 7399, 'callbacks': 7400, 'epipen': 7401, 'occurs': 7402, 'expand': 7403, 'pap': 7404, 'patient': 7405, 'progrm': 7406, 'couponsrebates': 7407, 'gopoversight': 7408, 'mylan': 7409, 'poisonous': 7410, 'snake': 7411, 'adder': 7412, 'radical': 7413, 'surrendered': 7414, 'visible': 7415, 'aww': 7416, 'raids': 7417, 'virtually': 7418, 'countries': 7419, 'denial': 7420, 'burned': 7421, 'spin': 7422, 'inferno': 7423, 'types': 7424, 'multiple': 7425, 'dogs': 7426, 'gerrard': 7427, 'madrid': 7428, 'modric': 7429, '90': 7430, 'bernabu': 7431, 'viallreal': 7432, 'ukedchat': 7433, 'a4': 7434, 'lied': 7435, 'remainer': 7436, 'tune': 7437, 'funereal': 7438, 'foyer': 7439, 'moscow': 7440, 'fortified': 7441, 'jd': 7442, 'reply': 7443, 'cept': 7444, 'villam0tivati0nquote': 7445, 'unreal': 7446, 'baal': 7447, 'boosted': 7448, 'sword': 7449, 'void': 7450, 'addair': 7451, 'thursdaythoughts': 7452, 'yourpushfactor': 7453, 'hyper': 7454, 'predator': 7455, 'heckler': 7456, 'credit': 7457, 'republicans': 7458, 'foxs': 7459, 'cakeclubhour': 7460, 'fairly': 7461, 'discovered': 7462, 'updated': 7463, 'imessage': 7464, 'francis': 7465, 'foster': 7466, 'pretending': 7467, 'misogynistic': 7468, 'religions': 7469, '1430': 7470, 'chickflick': 7471, 'comethefuckonbridget': 7472, 'howd': 7473, 'lucky': 7474, 'nearhe': 7475, 'strength': 7476, 'satisfying': 7477, 'dodoc': 7478, 'check': 7479, 'puerto': 7480, 'rican': 7481, 'taino': 7482, 'targeted': 7483, 'sorethroat': 7484, 'fallweather': 7485, 'carletonuniversity': 7486, 'ottawa': 7487, 'puke': 7488, 'amyah': 7489, 'classmate': 7490, 'sang': 7491, 'hallelujah': 7492, 'kapernick': 7493, 'kneeling': 7494, 'athlete': 7495, 'baskets': 7496, 'fuking': 7497, 'shady': 7498, 'jongdaes': 7499, 'rumoured': 7500, 'girlfriends': 7501, 'wgm': 7502, 'joyed': 7503, 'maddie': 7504, 'thatll': 7505, 'shucks': 7506, 'fist': 7507, 'laptops': 7508, 'screen': 7509, 'hp': 7510, 'fancam': 7511, 'scfc': 7512, 'tbptv': 7513, 'released': 7514, 'polls': 7515, 'thunder': 7516, 'shew': 7517, 'neighbors': 7518, 'greenville': 7519, 'sobering': 7520, 'judgement': 7521, 'swayed': 7522, 'realm': 7523, 'sponsor': 7524, 'sara': 7525, 'sagin': 7526, 'booming': 7527, 'oblivious': 7528, 'wt': 7529, 'territory': 7530, 'deranged': 7531, 'sticking': 7532, 'leafy': 7533, 'roast': 7534, 'pokemon': 7535, 'yi': 7536, 'pills': 7537, 'mebbe': 7538, 'rhobh': 7539, 'affair': 7540, 'married': 7541, 'squad': 7542, 'crookedcourt': 7543, 'killings': 7544, 'petits': 7545, 'hayes': 7546, 'komisarjevsky': 7547, 'haddrell': 7548, 'guestsnfri': 7549, '23rd': 7550, 'sep': 7551, '830pm': 7552, '1100pm': 7553, 'tunbridgewells': 7554, 'painted': 7555, 'delays': 7556, 'streatham': 7557, 'cmn': 7558, 'clap': 7559, 'junc': 7560, 'trains': 7561, 'natural': 7562, 'biological': 7563, 'counting': 7564, 'gcse': 7565, 'stem': 7566, 'humans': 7567, 'recognizing': 7568, 'impending': 7569, 'tfw': 7570, 'gargley': 7571, 'dann': 7572, 'injured': 7573, 'aka': 7574, 'product': 7575, 'filming': 7576, 'django': 7577, 'unchained': 7578, 'titter': 7579, '500th': 7580, 'indvsnz': 7581, 'late1st': 7582, 'maamthe': 7583, 'hatebeinglate': 7584, 'dk': 7585, 'surprisingly': 7586, 'warrior': 7587, 'dps': 7588, 'takeabreak': 7589, 'chases': 7590, 'championship': 7591, 'surfer': 7592, 'language': 7593, 'vacuum': 7594, 'rat': 7595, 'biology': 7596, 'department': 7597, 'grahams': 7598, 'brownie': 7599, 'tuppytupperware': 7600, 'bee': 7601, 'loooooong': 7602, 'wounds': 7603, 'othersevil': 7604, 'spill': 7605, 'thier': 7606, 'sadnnes': 7607, 'sharif': 7608, 'funnier': 7609, 'oi': 7610, 'grindah': 7611, 'hahahahahahaha': 7612, 'nightlife': 7613, 'nightlifeent': 7614, 'gatewayarch': 7615, 'stlouis': 7616, 'washingtonave': 7617, 'disappointmentnnhe': 7618, 'fakes': 7619, 'embracing': 7620, 'regardless': 7621, 'permit': 7622, 'officerexpressed': 7623, 'impliedw': 7624, 'movienugh': 7625, 'connivers': 7626, 'pondering': 7627, 'transgender': 7628, 'loki': 7629, 'socialmedia': 7630, 'onebut': 7631, 'automatic': 7632, 'worldsapp': 7633, 'appsworld': 7634, 'merci': 7635, 'boycotting': 7636, 'pecan': 7637, 'fricking': 7638, 'insane': 7639, 'shawarma': 7640, 'frisk': 7641, 'deblasio': 7642, 'rein': 7643, 'loughborough': 7644, 'tinge': 7645, 'six': 7646, 'bsg': 7647, 'consistent': 7648, 'vulnerable': 7649, 'math': 7650, 'yawning': 7651, 'actor': 7652, 'overdose': 7653, '340892': 7654, 'task': 7655, 'fordonennow': 7656, 'brands': 7657, 'glownwhilst': 7658, 'scritchowl': 7659, 'scritching': 7660, 'loudnamndbots': 7661, 'wagging': 7662, 'tail': 7663, 'paused': 7664, 'frisbee': 7665, 'miley': 7666, 'alicia': 7667, 'contestants': 7668, 'cruel': 7669, 'therewillbeblood': 7670, 'kernel': 7671, 'sneezing': 7672, 'hiccuping': 7673, 'snot': 7674, 'chilli': 7675, 'nell': 7676, 'nanny': 7677, 'appreciation': 7678, 'cuddled': 7679, 'brendon': 7680, 'covering': 7681, 'relaxed': 7682, 'eliza': 7683, 'neals': 7684, 'rocks': 7685, '300': 7686, 'makeamericasafeagain': 7687, 'cc': 7688, 'md': 7689, 'surviving': 7690, 'africanamericannnno': 7691, 'refuge': 7692, 'hireling': 7693, 'slavenfrom': 7694, 'grave': 7695, 'stk': 7696, 'slim': 7697, 'offbusted': 7698, 'assand': 7699, 'tipsthnx': 7700, 'thatsmyluck': 7701, 'aware': 7702, '4am': 7703, 'democrats': 7704, 'associate': 7705, 'ty': 7706, 'conflate': 7707, 'dyslexia': 7708, 'richards': 7709, 'firsttweetever': 7710, 'sippin': 7711, 'hotchocolate': 7712, 'lt3': 7713, 'hellloooootwitter': 7714, 'facebookisforfamily': 7715, 'intend': 7716, 'voteyourconscience': 7717, 'succumb': 7718, 'hillaryclintons': 7719, 'alarmist': 7720, 'patriotact': 7721, 'platform': 7722, 'wood': 7723, '21': 7724, 'officialy': 7725, 'adopting': 7726, 'burhanwani': 7727, 'hizbul': 7728, 'cardinal': 7729, 'thtll': 7730, 'fibromyalgia': 7731, 'mental': 7732, 'overwhelmed': 7733, 'bipolar': 7734, 'lysol': 7735, 'spray': 7736, 'suffocating': 7737, 'febreeze': 7738, 'factory': 7739, 'aggravates': 7740, 'dreamboys': 7741, 'soldiers': 7742, 'zones': 7743, 'engagement': 7744, 'officers': 7745, 'cleared': 7746, 'throat': 7747, 'dispel': 7748, 'delusional': 7749, 'cohen': 7750, 'ecosystem': 7751, 'goings': 7752, 'onbut': 7753, 'dentists': 7754, 'importance': 7755, 'arsene': 7756, 'wenger': 7757, 'crock': 7758, 'indiemusic': 7759, 'customerservicefail': 7760, 'cudi': 7761, 'travis': 7762, 'momma': 7763, 'sopranos': 7764, 'distraught': 7765, 'gardevoir': 7766, 'wishes': 7767, 'trainer': 7768, 'pops': 7769, 'joyless': 7770, 'soulless': 7771, 'toys': 7772, 'identical': 7773, 'consumerism': 7774, 'anychance': 7775, 'addressing': 7776, 'communication': 7777, 'thiza': 7778, 'nurse': 7779, 'dented': 7780, 'hail': 7781, 'achieve': 7782, 'commentary': 7783, 'intending': 7784, 'foreveralone': 7785, 'corner': 7786, 'reclaimed': 7787, 'cluboftheyear': 7788, 'pa': 7789, 'areas': 7790, 'mothers': 7791, 'dismay': 7792, 'hipster': 7793, 'finding': 7794, 'grapes': 7795, 'injure': 7796, 'citizens': 7797, 'hmm': 7798, 'yf': 7799, 'confidence': 7800, 'heyyyy': 7801, 'warriors': 7802, 'panicattacks': 7803, 'impotent': 7804, 'led': 7805, 'efficient': 7806, 'impressive': 7807, 'geniuses': 7808, 'redefine': 7809, 'acounthe': 7810, '32': 7811, '36': 7812, 'sabr': 7813, 'bible': 7814, 'whore': 7815, 'revelations': 7816, 'unfulfilled': 7817, 'horseman': 7818, 'season1': 7819, 'scrolling': 7820, 'arguing': 7821, 'camps': 7822, 'synth': 7823, 'tracks': 7824, 'sadnessndepresspop': 7825, 'alt': 7826, 'fuckingmeup': 7827, 'stupendous': 7828, 'hugs': 7829, 'memphis': 7830, 'windows10': 7831, 'nationalsecurity': 7832, 'minding': 7833, 'grinding': 7834, 'shitchuckin': 7835, 'deuces': 7836, 'kanye': 7837, 'unprepared': 7838, 'professors': 7839, 'students': 7840, 'emergency': 7841, 'protocols': 7842, 'productive': 7843, 'gb': 7844, 'kalil': 7845, 'strongest': 7846, 'asset': 7847, 'realising': 7848, 'ep22': 7849, 'granger': 7850, 'anna': 7851, 'styles': 7852, 'zales': 7853, '1000': 7854, 'grizzly': 7855, 'bears': 7856, 'scatter': 7857, 'americanntheyre': 7858, 'refugeesnninyourneighborhoodnotdc': 7859, 'hoe': 7860, 'moons': 7861, 'special': 7862, 'tremendous': 7863, 'dense': 7864, 'hellorhighwater': 7865, 'gripping': 7866, 'sparkles': 7867, 'posing': 7868, 'incensed': 7869, 'biblemotivate': 7870, 'mindfu': 7871, 'attended': 7872, 'cons': 7873, 'broccoli': 7874, 'parenting': 7875, 'sta': 7876, 'dating': 7877, 'againi': 7878, 'redheadteen': 7879, 'boldandbeautiful': 7880, '500aday': 7881, 'schkeuditz': 7882, 'strongly': 7883, 'mentally': 7884, 'heh': 7885, 'cunts': 7886, 'chappy': 7887, 'cureforinsomnia': 7888, 'definition': 7889, 'vandalism': 7890, 'battered': 7891, 'tasers': 7892, 'immobilize': 7893, 'taser': 7894, 'hartramseysuplift': 7895, 'sourcelook': 7896, 'harry': 7897, 'discriminatory': 7898, 'mandate': 7899, 'cigarettes': 7900, 'saf': 7901, 'tolerate': 7902, 'inhuman': 7903, 'prominent': 7904, 'exasperate': 7905, 'peaked': 7906, 'tgmbnquee': 7907, 'simonnricketts': 7908, 'successes': 7909, '50yrs': 7910, 'bournemouth': 7911, 'voicing': 7912, 'displeasure': 7913, 'hypocritical': 7914, 'considering': 7915, 'millions': 7916, 'dollars': 7917, 'smaller': 7918, 'celebeffer': 7919, 'rolling': 7920, 'monalisa': 7921, 'thejail': 7922, 'selenagomez': 7923, 'revival': 7924, 'applemusic': 7925, 'truck': 7926, 'npictureday2016': 7927, 'beatles': 7928, 'opera': 7929, 'glove': 7930, 'jamming': 7931, 'hbu': 7932, 'shoulder': 7933, 'reassuring': 7934, 'wing': 7935, 'movement': 7936, 'trumppence': 7937, 'consequences': 7938, 'wisdom': 7939, 'master': 7940, '12s': 7941, 'jams': 7942, 'censored': 7943, 'spirits': 7944, 'strumbellas': 7945, 'censorship': 7946, 'twins': 7947, 'luvvvv': 7948, 'theanswer': 7949, 'spiritu': 7950, 'extreme': 7951, 'liver': 7952, 'genre': 7953, 'crimewatch': 7954, 'touches': 7955, 'olds': 7956, 'desk': 7957, 'philadelphia': 7958, 'sharpton': 7959, 'thefive': 7960, 'murders': 7961, 'exhausting': 7962, 'aggravated': 7963, 'tilli': 7964, 'oregonbaylor': 7965, 'ole': 7966, 'vampire': 7967, 'tones': 7968, 'mt': 7969, 'tmrw': 7970, 'artist': 7971, 'flaked': 7972, 'tattooing': 7973, 'pasts': 7974, 'remarkable': 7975, 'vibe': 7976, 'ruined': 7977, 'clan': 7978, 'sike': 7979, 'obnoxiously': 7980, 'ground': 7981, '128': 7982, 'complaining': 7983, 'upsetting': 7984, 'remembering': 7985, 'kpop': 7986, 'tremor': 7987, '5679787': 7988, 'letdown': 7989, 'committing': 7990, 'worldpeaceday': 7991, 'organ': 7992, 'goofiest': 7993, 'corbyn': 7994, 'loses': 7995, 'smith': 7996, 'suggested': 7997, 'sooooo': 7998, 'bulldogslways': 7999, 'shining': 8000, 'gratitude': 8001, 'amidst': 8002, 'fixer': 8003, 'looney': 8004, 'toon': 8005, 'threats': 8006, 'partner': 8007, 'turnt': 8008, 'ruint': 8009, 'firesauce': 8010, 'hotsauce': 8011, 'mildsauce': 8012, 'getsauced': 8013, 'champagnedreams': 8014, 'peaceprepare': 8015, 'states': 8016, 'riteing': 8017, 'wots': 8018, 'happond': 8019, 'plese': 8020, 'deeds': 8021, 'gurls': 8022, 'liverpool': 8023, 'anfield': 8024, 'walls': 8025, 'thinkinghillary': 8026, 'accounting': 8027, 'shorty': 8028, 'wavy': 8029, 'cheeseburger': 8030, 'onion': 8031, 'aspie': 8032, 'despondent': 8033, 'nreally': 8034, 'creator': 8035, 'bacheloretteau': 8036, 'zoolander': 8037, 'samvrhys': 8038, 'probs': 8039, 'five': 8040, 'freshers': 8041, 'greatwe': 8042, 'washed': 8043, 'fucing': 8044, 'newsjust': 8045, 'basketfreedom': 8046, 'islamophobic': 8047, 'indias': 8048, 'fellaini': 8049, 'ahead': 8050, 'guyjust': 8051, 'dfs': 8052, 'sims': 8053, 'dual': 8054, 'sim': 8055, 'locked': 8056, 'bcim': 8057, 'od': 8058, 'troyler': 8059, 'themntroyler': 8060, 'fuckinlifeisnotafairytale': 8061, 'aidy': 8062, 'physics': 8063, 'questionnaidy': 8064, 'tristan': 8065, 'plaster': 8066, 'diminishes': 8067, 'rosa': 8068, 'parks': 8069, 'therapy': 8070, 'anthony': 8071, 'dubai': 8072, 'ballons': 8073, 'fireworks': 8074, 'moisturizing': 8075, 'elbows': 8076, 'possess': 8077, 'undergraduate': 8078, 'adulthood': 8079, 'nojobsinbiology': 8080, 'uofws': 8081, 'requires': 8082, 'optics': 8083, 'toussaintromain': 8084, '100g': 8085, 'banana': 8086, '1c': 8087, 'almond': 8088, '1tbsp': 8089, 'chia': 8090, 'pb2': 8091, 'fruit': 8092, 'buddy': 8093, 'essence': 8094, 'miami': 8095, 'proficiency': 8096, 'beaches': 8097, 'pikxb': 8098, 'sept': 8099, 'arriving': 8100, 'whereismyfurniture': 8101, 'mourinho': 8102, 'ripkara': 8103, 'cnn': 8104, 'dissociating': 8105, 'equals': 8106, 'roy': 8107, 'pawpaw': 8108, 'mackinonns': 8109, 'mitts': 8110, 'silky': 8111, 'teamna': 8112, 'flavors': 8113, 'tripping': 8114, 'spanish': 8115, 'breakdown': 8116, 'floss': 8117, 'clapping': 8118, 'heartbeat': 8119, 'longing': 8120, 'furry': 8121, 'ozzie': 8122, 'creamy': 8123, 'pesto': 8124, 'pasta': 8125, 'topped': 8126, 'grilled': 8127, 'dried': 8128, 'tomatoes': 8129, 'asparagus': 8130, 'fredsirieix': 8131, 'peckhamsouth': 8132, 'londons': 8133, 'gurubig': 8134, 'stetsontilting': 8135, 'whiskey': 8136, 'ceo': 8137, 'charity': 8138, 'reasonably': 8139, 'crudely': 8140, 'tensions': 8141, 'mexican': 8142, 'preschool': 8143, 'welfare': 8144, 'allllat': 8145, 'luv': 8146, 'shaker': 8147, 'clenching': 8148, 'fists': 8149, 'sorrow': 8150, 'reminder': 8151, 'mgs3': 8152, 'nmohammedsomaa01': 8153, 'remind': 8154, 'twentys': 8155, 'easier': 8156, 'digesting': 8157, 'porridge': 8158, 'spinning': 8159, 'burden': 8160, 'hated': 8161, 'showmance': 8162, 'uglycry': 8163, 'archangelsummit': 8164, 'brave': 8165, 'nhlnycsweepstakes': 8166, 'jaded': 8167, 'montanashay': 8168, 'drives': 8169, 'whoever': 8170, 'assessed': 8171, 'tenderhearted': 8172, 'guards': 8173, 'invigorate': 8174, 'mechanisms': 8175, 'earlierno': 8176, 'everythin': 8177, 'worksprepared': 8178, 'earphones': 8179, 'sg': 8180, 'naming': 8181, 'fattening': 8182, 'sandwich': 8183, 'coronary': 8184, 'easynamp': 8185, 'nhad': 8186, 'soloist': 8187, 'comforted': 8188, '54': 8189, 'pleased': 8190, 'offers': 8191, 'compare': 8192, 'scrubs': 8193, 'benhell': 8194, 'afghanistan': 8195, 'sarwar': 8196, 'danish': 8197, 'slams': 8198, 'breeding': 8199, 'addressnun': 8200, 'waltzwithbashir': 8201, 'incredible': 8202, 'lebanon': 8203, 'transmission': 8204, 'citys': 8205, 'gobsmacked': 8206, 'agreed': 8207, 'goksfillyourhouseforfree': 8208, 'retitled': 8209, 'repainted': 8210, 'whaaaooounga': 8211, 'balotelli': 8212, 'affect': 8213, 'focal': 8214, 'violentextremism': 8215, 'discuss': 8216, 'insults': 8217, 'occasional': 8218, 'creative': 8219, 'bsing': 8220, 'rashford': 8221, 'pace': 8222, 'violationnn': 8223, 'terrancecrutcher': 8224, 'unfailingly': 8225, 'maker': 8226, 'geo': 8227, 'capable': 8228, 'ca': 8229, 'dave': 8230, 'mon': 8231, 'register': 8232, 'halifax': 8233, 'itsomehow': 8234, 'permission': 8235, 'anatomy': 8236, 'premieres': 8237, 'germs': 8238, 'doj': 8239, 'usathese': 8240, 'heading': 8241, 'heat': 8242, 'conditioned': 8243, 'adultingistheworst': 8244, 'frontier': 8245, 'atampt': 8246, 'rise': 8247, 'aico': 8248, 'immolation': 8249, 'succeed': 8250, 'akt': 8251, 'dint': 8252, 'chose': 8253, 'statuses': 8254, 'nam': 8255, 'ruled': 8256, 'sacred': 8257, 'providing': 8258, 'wequipment': 8259, 'deliver': 8260, 'speeds': 8261, 'scam': 8262, 'practices': 8263, 'religion': 8264, 'campaignin': 8265, 'mankind': 8266, 'sif': 8267, 'prob': 8268, 'locke': 8269, 'netflixwell': 8270, 'alcohol': 8271, 'flares': 8272, 'garageband': 8273, 'birds': 8274, 'staid': 8275, 'horribly': 8276, 'ott': 8277, 'seemed': 8278, 'preparednnnot': 8279, 'survivors': 8280, 'dr': 8281, 'hawking': 8282, 'poorest': 8283, 'szn': 8284, 'gtgtgt': 8285, 'warn': 8286, 'reminders': 8287, 'exgfs': 8288, 'considers': 8289, 'acknowledging': 8290, 'existence': 8291, 'idgi': 8292, 'inquiries': 8293, 'alleged': 8294, 'abuses': 8295, 'troops': 8296, 'suggesting': 8297, 'postbrexit': 8298, 'missingyou': 8299, 'awarded': 8300, 'autodealerlive': 8301, 'leveldid': 8302, 'hurry': 8303, 'peeped': 8304, 'injecting': 8305, 'cokerape': 8306, 'thatjust': 8307, 'fair': 8308, 'yous': 8309, 'shitlib': 8310, 'pimp': 8311, 'scaredy': 8312, 'haunted': 8313, 'qbs': 8314, 'nfl': 8315, 'tshirt': 8316, 'phrase': 8317, 'shittalking': 8318, 'occasionally': 8319, 'nsfw': 8320, 'syrian': 8321, 'arming': 8322, 'rebel': 8323, 'army': 8324, '107': 8325, 'tagsforlikes': 8326, 'tflers': 8327, 'tweegram': 8328, 'photooftheday': 8329, '20likes': 8330, 'follow4follow': 8331, 'like4like': 8332, 'reallyjumanji': 8333, '2w': 8334, 'kevin': 8335, 'hartare': 8336, 'thisisaterribleidea': 8337, 'temporada': 8338, 'categ': 8339, 'ampobc': 8340, 'cost': 8341, 'nill': 8342, 'reservation': 8343, 'itsir': 8344, 'minimize': 8345, 'fees': 8346, 'fut': 8347, 'unchecked': 8348, 'whove': 8349, 'shown': 8350, 'artefact': 8351, 'blizzard': 8352, 'aqeelsyednnlifeisbeautiful': 8353, 'livewithpurpose': 8354, 'sexuality': 8355, 'singlegirlproblems': 8356, 'yh': 8357, 'mixture': 8358, 'sweat': 8359, 'sewage': 8360, 'worksgross': 8361, 'getoffthetrain': 8362, 'smelly': 8363, 'anthonyweiner': 8364, 'distraction': 8365, 'selection': 8366, 'gascrisis2016': 8367, 'nodapl': 8368, 'tub': 8369, 'thumper': 8370, 'compared': 8371, 'mcternan': 8372, 'polluted': 8373, 'syringes': 8374, 'notebooks': 8375, 'shadows': 8376, 'worknmob': 8377, 'goosebumps': 8378, 'hrs': 8379, '5m': 8380, '13c': 8381, 'grumpy': 8382, 'upsidedownnnyou': 8383, 'trade': 8384, 'youraffair': 8385, 'messageme': 8386, 'textme': 8387, 'tradepics': 8388, 'bullying': 8389, 'eats': 8390, 'memory': 8391, 'alternative': 8392, 'tripadvisor': 8393, 'granddesigns': 8394, 'wibbly': 8395, 'wobbly': 8396, 'plantation': 8397, 'headnn': 8398, 'worstenemy': 8399, 'thinktoomuch': 8400, 'motherland': 8401, 'devastated': 8402, '2was': 8403, 'cheeky': 8404, 'squashie': 8405, 'twothis': 8406, 'expectedsort': 8407, 'expac': 8408, 'beg': 8409, 'differ': 8410, 'unfollowed': 8411, 'ahut': 8412, 'insurance': 8413, 'tms': 8414, 'ect': 8415, 'psychology': 8416, 'comparing': 8417, 'akshay': 8418, 'zandu': 8419, 'balm': 8420, 'billradkeradio': 8421, 'aspiring': 8422, 'olympia': 8423, 'musicians': 8424, 'kuowrecord': 8425, 'parentsofaddicts': 8426, 'wellness': 8427, 'anon': 8428, 'speaker': 8429, 'bowers': 8430, 'incurring': 8431, 'lilys': 8432, 'northampton': 8433, 'charged': 8434, 'airtel': 8435, 'arround': 8436, 'shoulders': 8437, 'unexpectedly': 8438, 'vents': 8439, 'doorjambs': 8440, 'designer': 8441, 'luis': 8442, 'ducked': 8443, 'fights': 8444, 'trouble': 8445, 'feigned': 8446, 'behave': 8447, 'scorning': 8448, 'detention': 8449, 'resettle': 8450, 'asylumseekers': 8451, 'manus': 8452, 'nauru': 8453, 'deceived': 8454, 'routes': 8455, 'molna': 8456, 'ominous': 8457, 'pathnbut': 8458, 'ratnam': 8459, 'indoor': 8460, 'doorna': 8461, 'summerof69': 8462, 'japes': 8463, '2days': 8464, 'addresses': 8465, 'forms': 8466, 'teufel': 8467, 'reassigned': 8468, 'sooner': 8469, 'mets': 8470, 'thirdbasecoach': 8471, 'lgm': 8472, 'gloria': 8473, 'thoughtful': 8474, 'malaysian': 8475, 'suspected': 8476, 'links': 8477, 'foreignersnnmalaysia': 8478, 'todayi': 8479, 'lowerlike': 8480, 'depravity': 8481, 'flaws': 8482, 'medication': 8483, 'conclusions': 8484, 'unrest': 8485, 'confesses': 8486, 'unganburhanwani': 8487, 'buzzinnnnnn': 8488, 'wae': 8489, 'nutt': 8490, 'dain': 8491, 'hisher': 8492, 'earpiece': 8493, 'nopanicattack': 8494, 'toilets': 8495, 'bridgetjonesbaby': 8496, 'bridget': 8497, 'teammark': 8498, 'entry': 8499, 'germantownbroncos': 8500, 'lilleague': 8501, 'popwarner': 8502, 'broncos': 8503, 'usafootball': 8504, 'intrigued': 8505, 'boyalways': 8506, 'annemarieiam': 8507, 'homefronttherevolution': 8508, 'gameplay': 8509, 'wasteofmoney': 8510, 'grad': 8511, 'shallowness': 8512, 'arguments': 8513, 'arewasted': 8514}\n"
     ]
    }
   ],
   "source": [
    "bow = BagOfWords()\n",
    "\n",
    "bow.fit(train_df['processed_text'])\n",
    "\n",
    "X_train_mnb = bow.vectorize_corpus(train_df['processed_text'])\n",
    "\n",
    "X_validation_mnb = bow.vectorize_corpus(validation_df['processed_text'])\n",
    "X_test_mnb = bow.vectorize_corpus(test_df['processed_text'])\n"
   ]
  },
  {
   "cell_type": "code",
   "execution_count": null,
   "metadata": {
    "scrolled": true
   },
   "outputs": [],
   "source": [
    "# print(f\"Vocabulary size: {len(bow.vocabulary)}\")\n",
    "# print(f\"Shape of training vectors: {train_vectors.shape}\")\n",
    "# print(f\"Shape of validation vectors: {validation_vectors.shape}\")\n",
    "# print(f\"Shape of test vectors: {test_vectors.shape}\")"
   ]
  },
  {
   "cell_type": "markdown",
   "metadata": {},
   "source": [
    "\n",
    "\n",
    "### From Scratch\n",
    "\n",
    "Now that we have vectorized our sentences, we can implement our Naive Bayes model. Recall that the Naive Bayes model is based off of the Bayes Theorem:\n",
    "\n",
    "$$\n",
    "P(y \\mid x) = \\frac{P(x \\mid y)P(y)}{P(x)}\n",
    "$$\n",
    "\n",
    "What we really want is to find the class $c$ that maximizes $P(c \\mid x)$, so we can use the following equation:\n",
    "\n",
    "$$\n",
    "\\hat{c} = \\underset{c}{\\text{argmax}} \\ P(c \\mid x) = \\underset{c}{\\text{argmax}} \\ P(x \\mid c)P(c)\n",
    "$$\n",
    "\n",
    "We can then use the Naive Bayes assumption to simplify this:\n",
    "\n",
    "$$\n",
    "\\hat{c} = \\underset{c}{\\text{argmax}} \\ P(c \\mid x) = \\underset{c}{\\text{argmax}} \\ P(c) \\prod_{i=1}^{n} P(x_i \\mid c)\n",
    "$$\n",
    "\n",
    "Where $x_i$ is the $i^{\\text{th}}$ word in our sentence.\n",
    "\n",
    "All of these probabilities can be estimated from our training data. We can estimate $P(c)$ by counting the number of times each class appears in our training data, and dividing by the total number of training examples. We can estimate $P(x_i \\mid c)$ by counting the number of times the $i^{\\text{th}}$ word in our vocabulary appears in sentences of class $c$, and dividing by the total number of words in sentences of class $c$.\n",
    "\n",
    "It would help to apply logarithms to the above equation so that we translate the product into a sum, and avoid underflow errors. This will give us the following equation:\n",
    "\n",
    "$$\n",
    "\\hat{c} = \\underset{c}{\\text{argmax}} \\ \\log P(c) + \\sum_{i=1}^{n} \\log P(x_i \\mid c)\n",
    "$$\n",
    "\n",
    "We will now implement this algorithm. It would help to go through [this chapter from SLP3](https://web.stanford.edu/~jurafsky/slp3/4.pdf) to get a better understanding of the model - **it is recommended to base our implementation off the pseudocode that has been provided on Page 6**. We can either make a `NaiveBayes` class, or just implement the algorithm across two functions.\n",
    "\n",
    "<span style=\"color: red;\"> For this part, the only external library we will need is `numpy`. We are not allowed to use anything else.</span>"
   ]
  },
  {
   "cell_type": "markdown",
   "metadata": {},
   "source": [
    "Now use our implementation to train a Naive Bayes model on the training data, and generate predictions for the Validation Set.\n",
    "\n",
    "Report the Accuracy, Precision, Recall, and F1 score of our model on the validation data. Also display the Confusion Matrix. We are allowed to use `sklearn.metrics` for this."
   ]
  },
  {
   "cell_type": "code",
   "execution_count": 31,
   "metadata": {},
   "outputs": [
    {
     "name": "stdout",
     "output_type": "stream",
     "text": [
      "Columns in train_df: Index(['processed_text', 'label'], dtype='object')\n",
      "Columns in validation_df: Index(['processed_text', 'label'], dtype='object')\n",
      "Columns in test_df: Index(['processed_text', 'label'], dtype='object')\n"
     ]
    }
   ],
   "source": [
    "print(\"Columns in train_df:\", train_df.columns)\n",
    "print(\"Columns in validation_df:\", validation_df.columns)\n",
    "print(\"Columns in test_df:\", test_df.columns)\n"
   ]
  },
  {
   "cell_type": "code",
   "execution_count": 33,
   "metadata": {},
   "outputs": [],
   "source": [
    "class MNaiveBayes:\n",
    "    def fit(self, X, y):\n",
    "        self.classes = np.unique(y)\n",
    "        self.class_word_counts = {}\n",
    "        self.class_counts = {}\n",
    "        self.total_word_counts = {}\n",
    "        \n",
    "        for cls in self.classes:\n",
    "            class_indices = np.where(y == cls)[0]  \n",
    "            class_word_counts = {}\n",
    "            total_words = 0\n",
    "\n",
    "            \n",
    "            for idx in class_indices:\n",
    "                \n",
    "                for word_idx in range(X.shape[1]): \n",
    "                    count = X[idx, word_idx]\n",
    "                    if count > 0:  # Only consider words with non-zero counts\n",
    "                        class_word_counts[word_idx] = class_word_counts.get(word_idx, 0) + count\n",
    "                        total_words += count\n",
    "\n",
    "            # Store counts for each class\n",
    "            self.class_word_counts[cls] = class_word_counts\n",
    "            self.class_counts[cls] = len(class_indices)\n",
    "            self.total_word_counts[cls] = total_words\n",
    "\n",
    "    def predict(self, X):\n",
    "        predictions = []\n",
    "        for x in X:\n",
    "            class_probabilities = {}\n",
    "\n",
    "            for cls in self.classes:\n",
    "            \n",
    "                class_prob = np.log(self.class_counts[cls] / sum(self.class_counts.values()))\n",
    "                total_words = self.total_word_counts[cls]\n",
    "                class_word_counts = self.class_word_counts[cls]\n",
    "                \n",
    "                for word_idx, count in enumerate(x):\n",
    "                    if count > 0:\n",
    "                        word_freq = class_word_counts.get(word_idx, 0) + 1\n",
    "                        class_prob += np.log(word_freq / (total_words + X.shape[1]))\n",
    "                \n",
    "                class_probabilities[cls] = class_prob\n",
    "\n",
    "            predictions.append(max(class_probabilities, key=class_probabilities.get))\n",
    "\n",
    "        return predictions\n",
    "\n",
    "\n"
   ]
  },
  {
   "cell_type": "code",
   "execution_count": 35,
   "metadata": {},
   "outputs": [],
   "source": [
    "# VALIDATION DATASET\n",
    "mnb = MNaiveBayes()\n",
    "mnb.fit(X_train_mnb, train_labels)\n",
    "\n",
    "val_predictions = mnb.predict(X_validation_mnb)\n",
    "\n",
    "\n",
    "accuracy_mnb_val = accuracy_score(validation_labels, val_predictions)\n",
    "precision_mnb_val = precision_score(validation_labels, val_predictions, average='weighted')\n",
    "recall_mnb_val= recall_score(validation_labels, val_predictions, average='weighted') \n",
    "f1_mnb_val = f1_score(validation_labels, val_predictions, average='weighted')\n",
    "conf_matrix_mnb_val = confusion_matrix(validation_labels, val_predictions)\n"
   ]
  },
  {
   "cell_type": "code",
   "execution_count": 37,
   "metadata": {},
   "outputs": [],
   "source": [
    "# MODEL 2 ON TEST DATASET\n",
    "\n",
    "mnbtest = MNaiveBayes()\n",
    "mnbtest.fit(X_train_mnb, train_labels) \n",
    "\n",
    "# test dataset\n",
    "test_predictions = mnbtest.predict(X_test_mnb)\n",
    "\n",
    "\n",
    "accuracy_mnb_test = accuracy_score(test_labels, test_predictions)\n",
    "precision_mnb_test = precision_score(test_labels, test_predictions, average='weighted')\n",
    "recall_mnb_test= recall_score(test_labels, test_predictions, average='weighted') \n",
    "f1_mnb_test = f1_score(test_labels, test_predictions, average='weighted')\n",
    "conf_matrix_mnb_test = confusion_matrix(test_labels, test_predictions)"
   ]
  },
  {
   "cell_type": "code",
   "execution_count": null,
   "metadata": {},
   "outputs": [],
   "source": [
    "# nb_model = NaiveBayes()\n",
    "# print( \"object called succesfully\")\n",
    "# nb_model.fit(train_vectors, train_df['processed_text'].values)\n",
    "# print( \" model fit ho gaya hai training data per\")\n",
    "# y_pred = nb_model.predict(validation_vectors)\n",
    "# print(\" yahan tak chal raha\")\n",
    "\n",
    "# # Calculate metrics\n",
    "# from sklearn.metrics import accuracy_score, precision_score, recall_score, f1_score, confusion_matrix\n",
    "# print(\"metrics are being calculated\")\n",
    "# accuracy = accuracy_score(validation_df['processed_text'].values, y_pred)\n",
    "# precision = precision_score(validation_df['processed_text'].values, y_pred, average='weighted')\n",
    "# recall = recall_score(validation_df['processed_text'].values, y_pred, average='weighted')\n",
    "# f1 = f1_score(validation_df['processed_text'].values, y_pred, average='weighted')\n",
    "# conf_matrix = confusion_matrix(validation_df['processed_text'].values, y_pred)"
   ]
  },
  {
   "cell_type": "code",
   "execution_count": 39,
   "metadata": {},
   "outputs": [
    {
     "name": "stdout",
     "output_type": "stream",
     "text": [
      "Val. Accuracy: 0.6578\n",
      "Val Precision: 0.6762\n",
      "Val Recall: 0.6578\n",
      "Val F1 Score: 0.6340\n",
      "\n",
      " Val Confusion Matrix:\n",
      "[[142   7   0  11]\n",
      " [ 36  46   1  14]\n",
      " [ 14   2   4   8]\n",
      " [ 28   7   0  54]]\n"
     ]
    }
   ],
   "source": [
    "print(f\"Val. Accuracy: {accuracy_mnb_val:.4f}\")\n",
    "print(f\"Val Precision: {precision_mnb_val:.4f}\")\n",
    "print(f\"Val Recall: {recall_mnb_val:.4f}\")\n",
    "print(f\"Val F1 Score: {f1_mnb_val:.4f}\")\n",
    "print(\"\\n Val Confusion Matrix:\")\n",
    "print(conf_matrix_mnb_val)"
   ]
  },
  {
   "cell_type": "code",
   "execution_count": 41,
   "metadata": {},
   "outputs": [
    {
     "name": "stdout",
     "output_type": "stream",
     "text": [
      "\n",
      " THIS IS FOR THE TEST DATASET \n",
      "\n",
      " Test Accuracy: 0.6467\n",
      " Test Precision: 0.6653\n",
      " Test Recall: 0.6467\n",
      " Test F1 Score: 0.6209\n",
      "\n",
      " Confusion Matrix:\n",
      "[[495  20   2  41]\n",
      " [123 166   3  66]\n",
      " [ 73  11  15  24]\n",
      " [117  19   3 243]]\n"
     ]
    }
   ],
   "source": [
    "print(\"\\n THIS IS FOR THE TEST DATASET \\n\")\n",
    "\n",
    "print(f\" Test Accuracy: {accuracy_mnb_test:.4f}\")\n",
    "print(f\" Test Precision: {precision_mnb_test:.4f}\")\n",
    "print(f\" Test Recall: {recall_mnb_test:.4f}\")\n",
    "print(f\" Test F1 Score: {f1_mnb_test:.4f}\")\n",
    "print(\"\\n Confusion Matrix:\")\n",
    "print(conf_matrix_mnb_test)"
   ]
  },
  {
   "cell_type": "markdown",
   "metadata": {},
   "source": [
    "## 4. Implementing Naive Bayes using sklearn\n",
    "\n",
    "In this section, We will compare our manual implementations with `sklearn`'s implementations of both of the Naive Bayes models we have covered above."
   ]
  },
  {
   "cell_type": "code",
   "execution_count": 45,
   "metadata": {},
   "outputs": [
    {
     "name": "stdout",
     "output_type": "stream",
     "text": [
      "\n",
      "Sklearn Bernoulli Naive Bayes Results:\n",
      "--------------------\n",
      "Accuracy : 0.820\n",
      "Precision: 0.769\n",
      "Recall   : 0.820\n",
      "F1 Score : 0.749\n",
      "\n",
      "Confusion Matrix:\n",
      "[[1872   13]\n",
      " [ 401   14]]\n",
      "\n",
      "Sklearn Multinomial Naive Bayes Results on Validation :\n",
      "\n",
      "\n",
      "Accuracy: 0.650\n",
      "Precision: 0.685\n",
      "Recall: 0.650\n",
      "F1 Score: 0.625\n",
      "Confusion Matrix for Validation:  [[141   7   0  12]\n",
      " [ 38  44   0  15]\n",
      " [ 15   2   4   7]\n",
      " [ 29   6   0  54]]\n"
     ]
    }
   ],
   "source": [
    "from sklearn.naive_bayes import MultinomialNB, BernoulliNB\n",
    "from sklearn.metrics import (accuracy_score, precision_score,\n",
    "                             recall_score, f1_score, confusion_matrix,\n",
    "                             precision_recall_fscore_support)\n",
    "\n",
    "\n",
    "print(\"\\nSklearn Bernoulli Naive Bayes Results:\")\n",
    "bnb = BernoulliNB()\n",
    "bnb.fit(X_train, y_train)\n",
    "\n",
    "y_pred_nb = bnb.predict(X_test)\n",
    "\n",
    "accuracy_nb = accuracy_score(y_test, y_pred_nb)\n",
    "precision_nb = precision_score(y_test, y_pred_nb, average='weighted', zero_division=0)\n",
    "recall_nb = recall_score(y_test, y_pred_nb, average='weighted', zero_division=0)\n",
    "f1_nb = f1_score(y_test, y_pred_nb, average='weighted', zero_division=0)\n",
    "\n",
    "# Golf TEST DATA SKLEARN\n",
    "print(f\"{'-'*20}\\nAccuracy : {accuracy_nb:.3f}\\nPrecision: {precision_nb:.3f}\\nRecall   : {recall_nb:.3f}\\nF1 Score : {f1_nb:.3f}\")\n",
    "\n",
    "# Confusion matrix on the test dataset GOLF\n",
    "conf_matrix_nb = confusion_matrix(y_test, y_pred_nb)\n",
    "print(\"\\nConfusion Matrix:\")\n",
    "print(conf_matrix_nb)\n",
    "\n",
    "#Mnaive Bayes   - Model 1-------------Validation TWITTER\n",
    "msklearn = MultinomialNB()\n",
    "msklearn.fit(X_train_mnb, train_labels)\n",
    "\n",
    "msklearn_predictions = msklearn.predict(X_validation_mnb)\n",
    "\n",
    "accuracy_mnb = accuracy_score(validation_labels, msklearn_predictions)\n",
    "precision_mnb, recall_mnb, f1_mnb, _ = precision_recall_fscore_support(validation_labels, msklearn_predictions, average='weighted')\n",
    "print(\"\\nSklearn Multinomial Naive Bayes Results on Validation :\\n\\n\")\n",
    "print(f\"Accuracy: {accuracy_mnb:.3f}\")\n",
    "print(f\"Precision: {precision_mnb:.3f}\")\n",
    "print(f\"Recall: {recall_mnb:.3f}\")\n",
    "print(f\"F1 Score: {f1_mnb:.3f}\")\n",
    "conf_matrix_mnb_val = confusion_matrix(validation_labels, msklearn_predictions)\n",
    "print(\"Confusion Matrix for Validation: \", conf_matrix_mnb_val)\n",
    "\n"
   ]
  },
  {
   "cell_type": "code",
   "execution_count": 47,
   "metadata": {},
   "outputs": [
    {
     "name": "stdout",
     "output_type": "stream",
     "text": [
      "\n",
      "Sklearn Multinomial Naive Bayes Results on Test:\n",
      "\n",
      "Accuracy: 0.652\n",
      "Precision: 0.672\n",
      "Recall: 0.652\n",
      "F1 Score: 0.626\n",
      "Confusion Matrix:  [[501  19   2  36]\n",
      " [120 173   2  63]\n",
      " [ 74  12  14  23]\n",
      " [120  20   3 239]]\n"
     ]
    }
   ],
   "source": [
    "# Model 2 on TEST DATASET TWIITER\n",
    "\n",
    "msklearn2 = MultinomialNB()\n",
    "msklearn2.fit(X_train_mnb, train_labels)\n",
    "\n",
    "# Generate predictions\n",
    "msklearn2_predictions = msklearn2.predict(X_test_mnb)\n",
    "\n",
    "accuracy_mnb2 = accuracy_score(test_labels, msklearn2_predictions)\n",
    "precision_mnb2, recall_mnb2, f1_mnb2, _ = precision_recall_fscore_support(test_labels, msklearn2_predictions, average='weighted')\n",
    "print(\"\\nSklearn Multinomial Naive Bayes Results on Test:\\n\")\n",
    "print(f\"Accuracy: {accuracy_mnb2:.3f}\")\n",
    "print(f\"Precision: {precision_mnb2:.3f}\")\n",
    "print(f\"Recall: {recall_mnb2:.3f}\")\n",
    "print(f\"F1 Score: {f1_mnb2:.3f}\")\n",
    "\n",
    "conf_matrix_mnb2 = confusion_matrix(test_labels, msklearn2_predictions)\n",
    "print(\"Confusion Matrix: \" ,conf_matrix_mnb2)\n"
   ]
  },
  {
   "cell_type": "markdown",
   "metadata": {},
   "source": [
    "## 5. Conclusion\n",
    "\n",
    "1. Explain the key factors we considered when determining which dataset is more suitable for **Multinomial Naive Bayes** and which is better suited for **Bernoulli Naive Bayes**."
   ]
  },
  {
   "cell_type": "markdown",
   "metadata": {},
   "source": [
    "The number of classes to be specified made most of the difference. BNB is mostly used for binary features as was the case in Gold Data which had features with binary classes while in the Twitter Data, there were many classes in our features which led to the use of MNB.\n",
    "BNB model works better with binary/boolean data as it is ideal for situations where each feature is treated as a binary indicator (0 or 1), regardless of its frequency. MNB is particularly effective when dealing with frequency-based data as it expects the input features to be counts of occurrences (case in point: the number of times a word appears in a document) Thus, MNB was most suitable for the Twitter data which had us take a bag of words approach. \n",
    "\n",
    "Feature Distribution and Data Sparsity were considered as well. BNB works well with features that follow a Bernoulli distribution, where each feature is independent and can either be present or absent. It also works well on sparse datasets where most feature values are zero as was the case in some of our features in Golf data. The opposite is true for MNB."
   ]
  }
 ],
 "metadata": {
  "kernelspec": {
   "display_name": "Python 3",
   "language": "python",
   "name": "python3"
  },
  "language_info": {
   "codemirror_mode": {
    "name": "ipython",
    "version": 3
   },
   "file_extension": ".py",
   "mimetype": "text/x-python",
   "name": "python",
   "nbconvert_exporter": "python",
   "pygments_lexer": "ipython3",
   "version": "3.12.4"
  }
 },
 "nbformat": 4,
 "nbformat_minor": 4
}
